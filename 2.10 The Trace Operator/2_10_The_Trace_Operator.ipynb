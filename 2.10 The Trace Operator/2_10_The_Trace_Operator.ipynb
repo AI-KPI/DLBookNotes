{
  "nbformat": 4,
  "nbformat_minor": 0,
  "metadata": {
    "kernelspec": {
      "display_name": "Python 2",
      "language": "python",
      "name": "python2"
    },
    "language_info": {
      "codemirror_mode": {
        "name": "ipython",
        "version": 2
      },
      "file_extension": ".py",
      "mimetype": "text/x-python",
      "name": "python",
      "nbconvert_exporter": "python",
      "pygments_lexer": "ipython2",
      "version": "2.7.10"
    },
    "colab": {
      "name": "2_10_The_Trace_Operator_Вовчок_Євген_ІО_02мп.ipynb",
      "provenance": []
    }
  },
  "cells": [
    {
      "cell_type": "markdown",
      "metadata": {
        "id": "5C6vDdCGh2zf"
      },
      "source": [
        "<a href=\"https://colab.research.google.com/github/AI-KPI/ml_intro/blob/main/linear_regression.ipynb\" target=\"_parent\"><img src=\"https://colab.research.google.com/assets/colab-badge.svg\" alt=\"Open In Colab\"/></a>"
      ]
    },
    {
      "cell_type": "code",
      "metadata": {
        "collapsed": true,
        "scrolled": false,
        "id": "NQuVnRnlhy_a"
      },
      "source": [
        "import numpy as np\n",
        "import matplotlib.pyplot as plt\n",
        "import seaborn as sns"
      ],
      "execution_count": 1,
      "outputs": []
    },
    {
      "cell_type": "code",
      "metadata": {
        "colab": {
          "base_uri": "https://localhost:8080/"
        },
        "id": "myYPOmXqhy_n",
        "outputId": "47d5c99f-349c-4bc9-9d38-0a8510a8de05"
      },
      "source": [
        "# Plot style\n",
        "sns.set()\n",
        "%pylab inline\n",
        "pylab.rcParams['figure.figsize'] = (4, 4)"
      ],
      "execution_count": 2,
      "outputs": [
        {
          "output_type": "stream",
          "text": [
            "Populating the interactive namespace from numpy and matplotlib\n"
          ],
          "name": "stdout"
        }
      ]
    },
    {
      "cell_type": "code",
      "metadata": {
        "colab": {
          "base_uri": "https://localhost:8080/",
          "height": 17
        },
        "id": "0FmAPnM_hy_t",
        "outputId": "1a401cf7-e34d-44e1-eb97-f9e8aac30b82"
      },
      "source": [
        "%%html\n",
        "<style>\n",
        ".pquote {\n",
        "  text-align: left;\n",
        "  margin: 40px 0 40px auto;\n",
        "  width: 70%;\n",
        "  font-size: 1.5em;\n",
        "  font-style: italic;\n",
        "  display: block;\n",
        "  line-height: 1.3em;\n",
        "  color: #5a75a7;\n",
        "  font-weight: 600;\n",
        "  border-left: 5px solid rgba(90, 117, 167, .1);\n",
        "  padding-left: 6px;\n",
        "}\n",
        ".notes {\n",
        "  font-style: italic;\n",
        "  display: block;\n",
        "  margin: 40px 10%;\n",
        "}\n",
        "img + em {\n",
        "  text-align: center;\n",
        "  display: block;\n",
        "  color: gray;\n",
        "  font-size: 0.9em;\n",
        "  font-weight: 600;\n",
        "}\n",
        "</style>"
      ],
      "execution_count": 3,
      "outputs": [
        {
          "output_type": "display_data",
          "data": {
            "text/plain": [
              "<IPython.core.display.HTML object>"
            ],
            "text/html": [
              "<style>\n",
              ".pquote {\n",
              "  text-align: left;\n",
              "  margin: 40px 0 40px auto;\n",
              "  width: 70%;\n",
              "  font-size: 1.5em;\n",
              "  font-style: italic;\n",
              "  display: block;\n",
              "  line-height: 1.3em;\n",
              "  color: #5a75a7;\n",
              "  font-weight: 600;\n",
              "  border-left: 5px solid rgba(90, 117, 167, .1);\n",
              "  padding-left: 6px;\n",
              "}\n",
              ".notes {\n",
              "  font-style: italic;\n",
              "  display: block;\n",
              "  margin: 40px 10%;\n",
              "}\n",
              "img + em {\n",
              "  text-align: center;\n",
              "  display: block;\n",
              "  color: gray;\n",
              "  font-size: 0.9em;\n",
              "  font-weight: 600;\n",
              "}\n",
              "</style>"
            ]
          },
          "metadata": {
            "tags": []
          }
        }
      ]
    },
    {
      "cell_type": "markdown",
      "metadata": {
        "id": "-A8EZBIxhy_y"
      },
      "source": [
        "$$\n",
        "\\newcommand\\norm[1]{\\left\\lVert#1\\right\\rVert} \n",
        "\\DeclareMathOperator{\\Tr}{Tr}\n",
        "\\newcommand\\bs[1]{\\boldsymbol{#1}}\n",
        "$$"
      ]
    },
    {
      "cell_type": "markdown",
      "metadata": {
        "id": "xKpep_FJhy_1"
      },
      "source": [
        "<span class='notes'>\n",
        "    Цей матеріал є частиною серії 2 глави про лінійну алгебру з [Deep Learning Book](http://www.deeplearningbook.org/) by Goodfellow, I., Bengio, Y., and Courville, A. (2016). Він спрямований на надання інформації, ілюстрацій та коду на мові python, про математичні теорії і побудований на моєму розуміння цих понять. Ви можете перевірити навчальний план у [introduction post(вступній публікації)] (https://hadrienj.github.io/posts/Deep-Learning-Book-Series-Introduction/).\n",
        "</span>"
      ]
    },
    {
      "cell_type": "markdown",
      "metadata": {
        "id": "XAVXdY-lhy_4"
      },
      "source": [
        "# Вступ\n",
        "\n",
        "Цей розділ дуже легкий! Я можу запевнити вас, що ви прочитаєте це за 1 хвилину! Приємно після останніх двох розділів, які були досить великими! Ми побачимо, що таке слід матриці. Це знадобиться для останнього розділу аналізу основних компонентів (PCA)."
      ]
    },
    {
      "cell_type": "markdown",
      "metadata": {
        "id": "NhS4SzxWhy_7"
      },
      "source": [
        "# 2.10 Оператор Слід "
      ]
    },
    {
      "cell_type": "markdown",
      "metadata": {
        "id": "nqi9xjinhy_9"
      },
      "source": [
        "<img src=\"images/trace-matrix.png\" width=\"200\" alt=\"Обчислення сліду матриці\" title=\"Calculating the trace of a matrix\">\n",
        "<em>Слід матриці</em>\n",
        "\n",
        "\n",
        "Слід - це сума всіх значень по діагоналі квадратної матриці.\n",
        "\n",
        "$$\n",
        "\\bs{A}=\n",
        "\\begin{bmatrix}\n",
        "    2 & 9 & 8 \\\\\\\\\n",
        "    4 & 7 & 1 \\\\\\\\\n",
        "    8 & 2 & 5\n",
        "\\end{bmatrix}\n",
        "$$\n",
        "\n",
        "$$\n",
        "\\mathrm{Tr}(\\bs{A}) = 2 + 7 + 5 = 14\n",
        "$$\n",
        "\n",
        "Numpy надає функцію `trace ()` для її обчислення:"
      ]
    },
    {
      "cell_type": "code",
      "metadata": {
        "colab": {
          "base_uri": "https://localhost:8080/"
        },
        "id": "pns4kQNHhzAD",
        "outputId": "35455962-2923-4c44-8556-681611674995"
      },
      "source": [
        "A = np.array([[2, 9, 8], [4, 7, 1], [8, 2, 5]])\n",
        "A"
      ],
      "execution_count": 4,
      "outputs": [
        {
          "output_type": "execute_result",
          "data": {
            "text/plain": [
              "array([[2, 9, 8],\n",
              "       [4, 7, 1],\n",
              "       [8, 2, 5]])"
            ]
          },
          "metadata": {
            "tags": []
          },
          "execution_count": 4
        }
      ]
    },
    {
      "cell_type": "code",
      "metadata": {
        "colab": {
          "base_uri": "https://localhost:8080/"
        },
        "id": "TMLB_o9RhzAH",
        "outputId": "3c02b3cd-ffb1-4651-a71a-0b599282752a"
      },
      "source": [
        "A_tr = np.trace(A)\n",
        "A_tr"
      ],
      "execution_count": 5,
      "outputs": [
        {
          "output_type": "execute_result",
          "data": {
            "text/plain": [
              "14"
            ]
          },
          "metadata": {
            "tags": []
          },
          "execution_count": 5
        }
      ]
    },
    {
      "cell_type": "markdown",
      "metadata": {
        "id": "JkYRUHxuhzAJ"
      },
      "source": [
        "GoodFellow та ін. пояснили, що слід можна використовувати для вказівки норми Фробеніуса для матриці (переглянте [2.5](https://hadrienj.github.io/posts/Deep-Learning-Book-Series-2.5-Norms/)). Норма Фробениуса є еквівалентом норми $L^2$ для матриць. Він визначається:\n",
        "\n",
        "$$\n",
        "\\norm{\\bs{A}}_F=\\sqrt{\\sum_{i,j}A^2_{i,j}}\n",
        "$$\n",
        "\n",
        "Візьміть квадрат усіх елементів і підсумуйте їх. Візьміть квадратний корінь результату. Цю норму також можна обчислити за:\n",
        "\n",
        "$$\n",
        "\\norm{\\bs{A}}_F=\\sqrt{\\Tr({\\bs{AA}^T})}\n",
        "$$\n",
        "\n",
        "Ми можемо це перевірити. Перший спосіб обчислення норми можна зробити за допомогою простої команди `np.linalg.norm()`:"
      ]
    },
    {
      "cell_type": "code",
      "metadata": {
        "colab": {
          "base_uri": "https://localhost:8080/"
        },
        "id": "tmLjOeBChzAM",
        "outputId": "8889ad40-746e-47b2-ddac-4e45308b6daf"
      },
      "source": [
        "np.linalg.norm(A)"
      ],
      "execution_count": 6,
      "outputs": [
        {
          "output_type": "execute_result",
          "data": {
            "text/plain": [
              "17.549928774784245"
            ]
          },
          "metadata": {
            "tags": []
          },
          "execution_count": 6
        }
      ]
    },
    {
      "cell_type": "markdown",
      "metadata": {
        "id": "AAshydn_hzAO"
      },
      "source": [
        "Норма Фробениуса $\\bs{A}$ is 17.549928774784245.\n",
        "\n",
        "Зі слідом результат ідентичний:"
      ]
    },
    {
      "cell_type": "code",
      "metadata": {
        "colab": {
          "base_uri": "https://localhost:8080/"
        },
        "id": "16ZaKwi3hzAP",
        "outputId": "e84eeb0a-5fa1-482f-f6b9-a588fa312840"
      },
      "source": [
        "np.sqrt(np.trace(A.dot(A.T)))"
      ],
      "execution_count": 7,
      "outputs": [
        {
          "output_type": "execute_result",
          "data": {
            "text/plain": [
              "17.549928774784245"
            ]
          },
          "metadata": {
            "tags": []
          },
          "execution_count": 7
        }
      ]
    },
    {
      "cell_type": "markdown",
      "metadata": {
        "id": "e3Ml-mjBhzAQ"
      },
      "source": [
        "Оскільки транспозиція матриці не змінює діагоналі, слід матриці дорівнює сліду її транспонування:\n",
        "\n",
        "$$\n",
        "\\Tr(\\bs{A})=\\Tr(\\bs{A}^T)\n",
        "$$"
      ]
    },
    {
      "cell_type": "markdown",
      "metadata": {
        "id": "DwzGTQfShzAR"
      },
      "source": [
        "## Слід добутку\n",
        "\n",
        "$$\n",
        "\\Tr(\\bs{ABC}) = \\Tr(\\bs{CAB}) = \\Tr(\\bs{BCA})\n",
        "$$\n",
        "\n",
        "\n",
        "### Приклад 1.\n",
        "\n",
        "Подивимось приклад цієї властивості.\n",
        "\n",
        "$$\n",
        "\\bs{A}=\n",
        "\\begin{bmatrix}\n",
        "    4 & 12 \\\\\\\\\n",
        "    7 & 6\n",
        "\\end{bmatrix}\n",
        "$$\n",
        "\n",
        "$$\n",
        "\\bs{B}=\n",
        "\\begin{bmatrix}\n",
        "    1 & -3 \\\\\\\\\n",
        "    4 & 3\n",
        "\\end{bmatrix}\n",
        "$$\n",
        "\n",
        "$$\n",
        "\\bs{C}=\n",
        "\\begin{bmatrix}\n",
        "    6 & 6 \\\\\\\\\n",
        "    2 & 5\n",
        "\\end{bmatrix}\n",
        "$$"
      ]
    },
    {
      "cell_type": "code",
      "metadata": {
        "colab": {
          "base_uri": "https://localhost:8080/"
        },
        "id": "_8reISsJhzAS",
        "outputId": "ae7048aa-35f1-44a6-d53f-89cc5f5d3d5c"
      },
      "source": [
        "A = np.array([[4, 12], [7, 6]])\n",
        "B = np.array([[1, -3], [4, 3]])\n",
        "C = np.array([[6, 6], [2, 5]])\n",
        "\n",
        "np.trace(A.dot(B).dot(C))"
      ],
      "execution_count": 8,
      "outputs": [
        {
          "output_type": "execute_result",
          "data": {
            "text/plain": [
              "531"
            ]
          },
          "metadata": {
            "tags": []
          },
          "execution_count": 8
        }
      ]
    },
    {
      "cell_type": "code",
      "metadata": {
        "colab": {
          "base_uri": "https://localhost:8080/"
        },
        "id": "90bkxm1phzAT",
        "outputId": "c232e72c-84bc-4d13-da6d-157d7246f072"
      },
      "source": [
        "np.trace(C.dot(A).dot(B))"
      ],
      "execution_count": 9,
      "outputs": [
        {
          "output_type": "execute_result",
          "data": {
            "text/plain": [
              "531"
            ]
          },
          "metadata": {
            "tags": []
          },
          "execution_count": 9
        }
      ]
    },
    {
      "cell_type": "code",
      "metadata": {
        "colab": {
          "base_uri": "https://localhost:8080/"
        },
        "id": "PImji-wjhzAU",
        "outputId": "d513faad-1070-411c-ae48-d82c0751a3cb"
      },
      "source": [
        "np.trace(B.dot(C).dot(A))"
      ],
      "execution_count": 10,
      "outputs": [
        {
          "output_type": "execute_result",
          "data": {
            "text/plain": [
              "531"
            ]
          },
          "metadata": {
            "tags": []
          },
          "execution_count": 10
        }
      ]
    },
    {
      "cell_type": "markdown",
      "metadata": {
        "id": "a_m1X7WkhzAV"
      },
      "source": [
        "$$\n",
        "\\bs{ABC}=\n",
        "\\begin{bmatrix}\n",
        "    360 & 432 \\\\\\\\\n",
        "    180 & 171\n",
        "\\end{bmatrix}\n",
        "$$\n",
        "\n",
        "$$\n",
        "\\bs{CAB}=\n",
        "\\begin{bmatrix}\n",
        "    498 & 126 \\\\\\\\\n",
        "    259 & 33\n",
        "\\end{bmatrix}\n",
        "$$\n",
        "\n",
        "$$\n",
        "\\bs{BCA}=\n",
        "\\begin{bmatrix}\n",
        "    -63 & -54 \\\\\\\\\n",
        "    393 & 594\n",
        "\\end{bmatrix}\n",
        "$$\n",
        "\n",
        "$$\n",
        "\\Tr(\\bs{ABC}) = \\Tr(\\bs{CAB}) = \\Tr(\\bs{BCA}) =  531\n",
        "$$"
      ]
    },
    {
      "cell_type": "markdown",
      "metadata": {
        "id": "LsN7QhRghzAW"
      },
      "source": [
        "<span class='notes'>\n",
        "    Не соромтеся писати мені електронний лист чи коментар. Програму цієї серії можна знайти [in the introduction post(у вступній статті)](https://hadrienj.github.io/posts/Deep-Learning-Book-Series-Introduction/). Всі зошити можна знайти на [Github](https://github.com/hadrienj/deepLearningBook-Notes).\n",
        "</span>"
      ]
    },
    {
      "cell_type": "markdown",
      "metadata": {
        "id": "GPVFtkcEhzAW"
      },
      "source": [
        "# Список літератури\n",
        "\n",
        "[Trace (linear algebra) - Wikipedia (Слід (лінійна алгебра) - Вікіпедія)](https://en.wikipedia.org/wiki/Trace_(linear_algebra))\n",
        "\n",
        "[Numpy Trace operator(Оператор Numpy Trace)](https://docs.scipy.org/doc/numpy/reference/generated/numpy.trace.html)\n",
        "\n",
        "Переклад: Якимів Іван, студент ІО-02мп, 2020 рік"
      ]
    }
  ]
}