{
  "nbformat": 4,
  "nbformat_minor": 0,
  "metadata": {
    "kernelspec": {
      "display_name": "Python 2",
      "language": "python",
      "name": "python2"
    },
    "language_info": {
      "codemirror_mode": {
        "name": "ipython",
        "version": 2
      },
      "file_extension": ".py",
      "mimetype": "text/x-python",
      "name": "python",
      "nbconvert_exporter": "python",
      "pygments_lexer": "ipython2",
      "version": "2.7.10"
    },
    "colab": {
      "name": "2.11 The determinant_Вовчок_Євген_ІО-02мп.ipynb",
      "provenance": [],
      "collapsed_sections": []
    }
  },
  "cells": [
    {
      "cell_type": "markdown",
      "metadata": {
        "id": "lg0qJOwkgETJ"
      },
      "source": [
        "<a href=\"https://colab.research.google.com/github/AI-KPI/ml_intro/blob/main/linear_regression.ipynb\" target=\"_parent\"><img src=\"https://colab.research.google.com/assets/colab-badge.svg\" alt=\"Open In Colab\"/></a>"
      ]
    },
    {
      "cell_type": "code",
      "metadata": {
        "collapsed": true,
        "scrolled": false,
        "id": "f3VnW7tAfySF"
      },
      "source": [
        "import numpy as np\n",
        "import matplotlib.pyplot as plt\n",
        "import seaborn as sns"
      ],
      "execution_count": 1,
      "outputs": []
    },
    {
      "cell_type": "code",
      "metadata": {
        "colab": {
          "base_uri": "https://localhost:8080/"
        },
        "id": "Zft37b0efySN",
        "outputId": "734d6399-15c4-4abd-af7f-f37951f6dcb5"
      },
      "source": [
        "# Plot style\n",
        "sns.set()\n",
        "%pylab inline\n",
        "pylab.rcParams['figure.figsize'] = (4, 4)"
      ],
      "execution_count": 2,
      "outputs": [
        {
          "output_type": "stream",
          "text": [
            "Populating the interactive namespace from numpy and matplotlib\n"
          ],
          "name": "stdout"
        }
      ]
    },
    {
      "cell_type": "code",
      "metadata": {
        "colab": {
          "base_uri": "https://localhost:8080/",
          "height": 17
        },
        "id": "dL3i2JXffySQ",
        "outputId": "c5ff249c-b9c8-4537-b9bb-db806473dcad"
      },
      "source": [
        "%%html\n",
        "<style>\n",
        ".pquote {\n",
        "  text-align: left;\n",
        "  margin: 40px 0 40px auto;\n",
        "  width: 70%;\n",
        "  font-size: 1.5em;\n",
        "  font-style: italic;\n",
        "  display: block;\n",
        "  line-height: 1.3em;\n",
        "  color: #5a75a7;\n",
        "  font-weight: 600;\n",
        "  border-left: 5px solid rgba(90, 117, 167, .1);\n",
        "  padding-left: 6px;\n",
        "}\n",
        ".notes {\n",
        "  font-style: italic;\n",
        "  display: block;\n",
        "  margin: 40px 10%;\n",
        "}\n",
        "img + em {\n",
        "  text-align: center;\n",
        "  display: block;\n",
        "  color: gray;\n",
        "  font-size: 0.9em;\n",
        "  font-weight: 600;\n",
        "}\n",
        "</style>"
      ],
      "execution_count": 3,
      "outputs": [
        {
          "output_type": "display_data",
          "data": {
            "text/plain": [
              "<IPython.core.display.HTML object>"
            ],
            "text/html": [
              "<style>\n",
              ".pquote {\n",
              "  text-align: left;\n",
              "  margin: 40px 0 40px auto;\n",
              "  width: 70%;\n",
              "  font-size: 1.5em;\n",
              "  font-style: italic;\n",
              "  display: block;\n",
              "  line-height: 1.3em;\n",
              "  color: #5a75a7;\n",
              "  font-weight: 600;\n",
              "  border-left: 5px solid rgba(90, 117, 167, .1);\n",
              "  padding-left: 6px;\n",
              "}\n",
              ".notes {\n",
              "  font-style: italic;\n",
              "  display: block;\n",
              "  margin: 40px 10%;\n",
              "}\n",
              "img + em {\n",
              "  text-align: center;\n",
              "  display: block;\n",
              "  color: gray;\n",
              "  font-size: 0.9em;\n",
              "  font-weight: 600;\n",
              "}\n",
              "</style>"
            ]
          },
          "metadata": {
            "tags": []
          }
        }
      ]
    },
    {
      "cell_type": "code",
      "metadata": {
        "collapsed": true,
        "id": "OL73LdnFfyST"
      },
      "source": [
        "def plotVectors(vecs, cols, alpha=1):\n",
        "    \"\"\"\n",
        "    Plot set of vectors.\n",
        "\n",
        "    Parameters\n",
        "    ----------\n",
        "    vecs : array-like\n",
        "        Coordinates of the vectors to plot. Each vectors is in an array. For\n",
        "        instance: [[1, 3], [2, 2]] can be used to plot 2 vectors.\n",
        "    cols : array-like\n",
        "        Colors of the vectors. For instance: ['red', 'blue'] will display the\n",
        "        first vector in red and the second in blue.\n",
        "    alpha : float\n",
        "        Opacity of vectors\n",
        "\n",
        "    Returns:\n",
        "\n",
        "    fig : instance of matplotlib.figure.Figure\n",
        "        The figure of the vectors\n",
        "    \"\"\"\n",
        "    plt.axvline(x=0, color='#A9A9A9', zorder=0)\n",
        "    plt.axhline(y=0, color='#A9A9A9', zorder=0)\n",
        "\n",
        "    for i in range(len(vecs)):\n",
        "        if (isinstance(alpha, list)):\n",
        "            alpha_i = alpha[i]\n",
        "        else:\n",
        "            alpha_i = alpha\n",
        "        x = np.concatenate([[0,0],vecs[i]])\n",
        "        plt.quiver([x[0]],\n",
        "                   [x[1]],\n",
        "                   [x[2]],\n",
        "                   [x[3]],\n",
        "                   angles='xy', scale_units='xy', scale=1, color=cols[i],\n",
        "                  alpha=alpha_i)"
      ],
      "execution_count": 9,
      "outputs": []
    },
    {
      "cell_type": "markdown",
      "metadata": {
        "id": "-Cd6nlUvfySU"
      },
      "source": [
        "$$\n",
        "\\newcommand\\norm[1]{\\left\\lVert#1\\right\\rVert} \n",
        "\\DeclareMathOperator{\\Tr}{Tr}\n",
        "\\newcommand\\bs[1]{\\boldsymbol{#1}}\n",
        "$$"
      ]
    },
    {
      "cell_type": "markdown",
      "metadata": {
        "id": "aKte1yBQfySW"
      },
      "source": [
        "<span class='notes'>\n",
        "    Цей матеріал є частиною серії 2 глави про лінійну алгебру з [Deep Learning Book](http://www.deeplearningbook.org/) by Goodfellow, I., Bengio, Y., and Courville, A. (2016). Він спрямований на надання інформації, ілюстрацій та коду на мові python, про математичні теорії і побудований на моєму розуміння цих понять. Ви можете перевірити навчальний план у [introduction post(вступній публікації)] (https://hadrienj.github.io/posts/Deep-Learning-Book-Series-Introduction/).\n",
        "</span>"
      ]
    },
    {
      "cell_type": "markdown",
      "metadata": {
        "id": "howpGhK1fySa"
      },
      "source": [
        "# Вступ\n",
        "\n",
        "Цей розділ також дуже легкий! Ми побачимо, що означає детермінанта матриці. Цей спеціальний номер може розповісти нам багато чого про нашу матрицю!"
      ]
    },
    {
      "cell_type": "markdown",
      "metadata": {
        "id": "gi70BPVVfySb"
      },
      "source": [
        "# 2.11 Визначник"
      ]
    },
    {
      "cell_type": "markdown",
      "metadata": {
        "id": "l9O5qI25fySc"
      },
      "source": [
        "Ми вже бачили [2.8](https://hadrienj.github.io/posts/Deep-Learning-Book-Series-2.8-Singular-Value-Decomposition/) що матрицю можна розглядати як лінійне перетворення простору. Визначник матриці $\\bs{A}$ - це число, що відповідає 'мультиплікативній зміні', яку ви отримуєте, коли перетворюєте свій простір за допомогою цієї матриці(двитись коментар Pete L. Clark в [питання про SE](https://math.stackexchange.com/questions/668/whats-an-intuitive-way-to-think-about-the-determinant)). Негативний детермінант означає, що відбувається зміна орієнтації (а не лише масштабування та / або обертання). Як зазначив Nykamp DQ у [Math Insight](https://mathinsight.org/determinant_linear_transformation), зміна орієнтації означає, наприклад, у 2D, що ми беремо площину з цих 2-х вимірів, робимо деякі перетворення і повертаємось до початкового 2D-простору. Ось приклад розмежування позитивної та негативної детермінанти:\n",
        "\n",
        "<img src=\"images/positive-negative-determinant.png\" width=\"400\" alt=\"Порівняння ефекту позитивних та негативних детермінант\" title=\"Comparison of positive and negative determinant\">\n",
        "<em>Визначник матриці може розповісти вам багато речей про перетворення, пов'язані з цією матрицею</em>\n",
        "\n",
        "Ви бачите, що друге перетворення неможливо отримати за допомогою обертання та масштабування. Цей знак може розповісти вам про характер перетворення, пов'язаного з матрицею!\n",
        "\n",
        "Крім того, детермінант також дає вам 'кількість' трансформації. Якщо взяти 'n' -вимірний одиничний куб і застосувати матрицю $\\bs{A}$ на ньому абсолютне значення визначника відповідає площі перетвореної фігури. Ви можете повірити мені легше після наступного прикладу.\n",
        "\n",
        "### Приклад 1.\n",
        "\n",
        "Для обчислення площі фігур ми будемо використовувати прості квадрати в 2 вимірах. Одиничну квадратну площу можна обчислити за допомогою теореми Піфагора, взявши два одиничні вектори.\n",
        "\n",
        "<img src=\"images/unit-square-area.png\" width=\"300\" alt=\"Ілюстрація одиничної квадратної площі та одиничних векторів у двох вимірах\" title=\"The unit square area\">\n",
        "<em>Одиниця квадратної площі</em>\n",
        "\n",
        "Довжини $i$ і $j$ становлять $1$, отже площа одиничної площі становить $1$.\n",
        "\n",
        "Почнемо зі створення обох векторів у Python:"
      ]
    },
    {
      "cell_type": "code",
      "metadata": {
        "colab": {
          "base_uri": "https://localhost:8080/",
          "height": 274
        },
        "id": "fr9URJaBfySe",
        "outputId": "cc3307e1-2f91-4d6a-9d96-70cda59828a3"
      },
      "source": [
        "orange = '#FF9A13'\n",
        "blue = '#1190FF'\n",
        "    \n",
        "i = [0, 1]\n",
        "j = [1, 0]\n",
        "\n",
        "plotVectors([i, j], [[blue], [orange]])\n",
        "plt.xlim(-0.5, 3)\n",
        "plt.ylim(-0.5, 3)\n",
        "plt.show()"
      ],
      "execution_count": 10,
      "outputs": [
        {
          "output_type": "display_data",
          "data": {
            "image/png": "[encoded data removed]",
            "text/plain": [
              "<Figure size 288x288 with 1 Axes>"
            ]
          },
          "metadata": {
            "tags": [],
            "needs_background": "light"
          }
        }
      ]
    },
    {
      "cell_type": "markdown",
      "metadata": {
        "id": "TDStQzcTfySh"
      },
      "source": [
        "Ми застосуємо\n",
        "\n",
        "$$\n",
        "\\bs{A}=\\begin{bmatrix}\n",
        "    2 & 0\\\\\\\\\n",
        "    0 & 2\n",
        "\\end{bmatrix}\n",
        "$$\n",
        "\n",
        "до $i$ і $j$. Ви можете помітити, що ця матриця особлива: вона діагональна. Тож це лише масштабуватиме наш простір. Тут немає обертання. Точніше, він буде масштабувати кожен вимір однаково, оскільки діагональні значення ідентичні. Створимо матрицю $\\bs{A}$:"
      ]
    },
    {
      "cell_type": "code",
      "metadata": {
        "colab": {
          "base_uri": "https://localhost:8080/"
        },
        "id": "ffk_3VPdfySj",
        "outputId": "d8792bb8-8b78-4d5c-f83f-9d53113bb8fb"
      },
      "source": [
        "A = np.array([[2, 0], [0, 2]])\n",
        "A"
      ],
      "execution_count": 11,
      "outputs": [
        {
          "output_type": "execute_result",
          "data": {
            "text/plain": [
              "array([[2, 0],\n",
              "       [0, 2]])"
            ]
          },
          "metadata": {
            "tags": []
          },
          "execution_count": 11
        }
      ]
    },
    {
      "cell_type": "markdown",
      "metadata": {
        "id": "VO5NBHVyfySk"
      },
      "source": [
        "Зараз ми застосуємо $\\bs{A}$ на наших двох одиничних векторах $i$ і $j$ і побудуємо графік отриманих нових векторів:"
      ]
    },
    {
      "cell_type": "code",
      "metadata": {
        "colab": {
          "base_uri": "https://localhost:8080/",
          "height": 274
        },
        "id": "8CTmxDnwfySk",
        "outputId": "239b6ce5-ca7b-4b09-daa1-ee06044fd38d"
      },
      "source": [
        "new_i = A.dot(i)\n",
        "new_j = A.dot(j)\n",
        "plotVectors([new_i, new_j], [['#1190FF'], ['#FF9A13']])\n",
        "plt.xlim(-0.5, 3)\n",
        "plt.ylim(-0.5, 3)\n",
        "plt.show()"
      ],
      "execution_count": 12,
      "outputs": [
        {
          "output_type": "display_data",
          "data": {
            "image/png": "[encoded data removed]",
            "text/plain": [
              "<Figure size 288x288 with 1 Axes>"
            ]
          },
          "metadata": {
            "tags": [],
            "needs_background": "light"
          }
        }
      ]
    },
    {
      "cell_type": "markdown",
      "metadata": {
        "id": "HUF9csvMfySl"
      },
      "source": [
        "Як і очікувалося, ми можемо бачити, що квадрат, що відповідає $i$ і $j$ не обертався, але довжина $i$ і $j$ подвоїлася. Тепер ми обчислимо визначник $\\bs{A}$ (Моежете переглянути [Статтю Вікіпедії](https://en.wikipedia.org/wiki/Determinant) докладніше про обчислення визначника):\n",
        "\n",
        "<img src=\"images/unit-square-area-transformed.png\" width=\"300\" alt=\"Площі одиничного квадрата та його перетворення матрицею\" title=\"The transformed unit square\">\n",
        "<em>Одиничний квадрат, перетворений матрицею</em>"
      ]
    },
    {
      "cell_type": "code",
      "metadata": {
        "colab": {
          "base_uri": "https://localhost:8080/"
        },
        "id": "x0xhNwHqfySl",
        "outputId": "229b7aa0-1246-4a72-bd6a-2cff4c3d500c"
      },
      "source": [
        "np.linalg.det(A)"
      ],
      "execution_count": 13,
      "outputs": [
        {
          "output_type": "execute_result",
          "data": {
            "text/plain": [
              "4.0"
            ]
          },
          "metadata": {
            "tags": []
          },
          "execution_count": 13
        }
      ]
    },
    {
      "cell_type": "markdown",
      "metadata": {
        "id": "U6YwhCHQfySm"
      },
      "source": [
        "І так, перетворення помножило площу одиничного квадрата на 4. Довжини $new_i$ і $new_j$ дорівнюють $2$ (thus $2\\cdot2=4$)."
      ]
    },
    {
      "cell_type": "markdown",
      "metadata": {
        "collapsed": true,
        "id": "EbeDarJafySn"
      },
      "source": [
        "### Приклад 2.\n",
        "\n",
        "Побачимо тепер приклад негативного детермінанта.\n",
        "\n",
        "Ми перетворимо одиничний квадрат за допомогою матриці:\n",
        "\n",
        "$$\n",
        "\\bs{B}=\\begin{bmatrix}\n",
        "    -2 & 0\\\\\\\\\n",
        "    0 & 2\n",
        "\\end{bmatrix}\n",
        "$$\n",
        "\n",
        "Його визначником є $-4$:"
      ]
    },
    {
      "cell_type": "code",
      "metadata": {
        "colab": {
          "base_uri": "https://localhost:8080/"
        },
        "id": "jkq030TzfySo",
        "outputId": "33fad7de-cb62-4fb8-c45a-e85ae0e8f23d"
      },
      "source": [
        "B = np.array([[-2, 0], [0, 2]])\n",
        "np.linalg.det(B)"
      ],
      "execution_count": 14,
      "outputs": [
        {
          "output_type": "execute_result",
          "data": {
            "text/plain": [
              "-4.0"
            ]
          },
          "metadata": {
            "tags": []
          },
          "execution_count": 14
        }
      ]
    },
    {
      "cell_type": "code",
      "metadata": {
        "colab": {
          "base_uri": "https://localhost:8080/",
          "height": 274
        },
        "id": "IEwG7_j0fySo",
        "outputId": "673ed445-b658-4bb6-c567-2468ed6ad023"
      },
      "source": [
        "new_i_1 = B.dot(i)\n",
        "new_j_1 = B.dot(j)\n",
        "plotVectors([new_i_1, new_j_1], [['#1190FF'], ['#FF9A13']])\n",
        "plt.xlim(-3, 0.5)\n",
        "plt.ylim(-0.5, 3)\n",
        "plt.show()"
      ],
      "execution_count": 15,
      "outputs": [
        {
          "output_type": "display_data",
          "data": {
            "image/png": "[encoded data removed]",
            "text/plain": [
              "<Figure size 288x288 with 1 Axes>"
            ]
          },
          "metadata": {
            "tags": [],
            "needs_background": "light"
          }
        }
      ]
    },
    {
      "cell_type": "markdown",
      "metadata": {
        "id": "OOr_iWFLfySo"
      },
      "source": [
        "Ми бачимо, що матриці з визначником $2$ і $-2$ модифікували площу одиничного квадрата однаково.\n",
        "\n",
        "<img src=\"images/unit-square-area-transformed-1.png\" width=\"300\" alt=\"Площі одиничного квадрата та його перетворення матрицею з негативним визначником\" title=\"The transformed unit square\">\n",
        "<em>Одиничний квадрат, перетворений матрицею з від’ємним визначником</em>\n",
        "\n",
        "Абсолютне значення визначника показує, що, як і в першому прикладі, площа нового квадрата в 4 рази перевищує площу одиничного квадрата. Але цього разу це було не просто масштабування, а й трансформація. Це не очевидно лише з одиничними векторами, тому давайте перетворимо деякі випадкові точки. Ми будемо використовувати матрицю\n",
        "\n",
        "$$\n",
        "\\bs{C}=\\begin{bmatrix}\n",
        "    -1 & 0\\\\\\\\\n",
        "    0 & 1\n",
        "\\end{bmatrix}\n",
        "$$\n",
        "\n",
        "що має детермінант, рівний $-1$ для простоти:"
      ]
    },
    {
      "cell_type": "code",
      "metadata": {
        "collapsed": true,
        "id": "i2nmdERPfySp"
      },
      "source": [
        "# Some random points\n",
        "points = np.array([[1, 3], [2, 2], [3, 1], [4, 7], [5, 4]])"
      ],
      "execution_count": 16,
      "outputs": []
    },
    {
      "cell_type": "code",
      "metadata": {
        "colab": {
          "base_uri": "https://localhost:8080/"
        },
        "id": "rGCfucQBfySp",
        "outputId": "d84ab997-c112-4653-9c96-072d6ad6725c"
      },
      "source": [
        "C = np.array([[-1, 0], [0, 1]])\n",
        "np.linalg.det(C)"
      ],
      "execution_count": 17,
      "outputs": [
        {
          "output_type": "execute_result",
          "data": {
            "text/plain": [
              "-1.0"
            ]
          },
          "metadata": {
            "tags": []
          },
          "execution_count": 17
        }
      ]
    },
    {
      "cell_type": "markdown",
      "metadata": {
        "id": "oMEP9KcCfySq"
      },
      "source": [
        "Оскільки визначник - $-1$, площа простору не буде змінена. Однак, оскільки воно є негативним, ми спостерігатимемо перетворення, яке ми не можемо отримати за допомогою обертання:"
      ]
    },
    {
      "cell_type": "code",
      "metadata": {
        "colab": {
          "base_uri": "https://localhost:8080/",
          "height": 274
        },
        "id": "QLmf80r8fySq",
        "outputId": "1eaa5c05-4923-4748-eef4-66d48a9bcbad"
      },
      "source": [
        "newPoints = points.dot(C)\n",
        "\n",
        "plt.figure()\n",
        "plt.plot(points[:, 0], points[:, 1])\n",
        "plt.plot(newPoints[:, 0], newPoints[:, 1])\n",
        "plt.show()"
      ],
      "execution_count": 18,
      "outputs": [
        {
          "output_type": "display_data",
          "data": {
            "image/png": "[encoded data removed]",
            "text/plain": [
              "<Figure size 288x288 with 1 Axes>"
            ]
          },
          "metadata": {
            "tags": [],
            "needs_background": "light"
          }
        }
      ]
    },
    {
      "cell_type": "markdown",
      "metadata": {
        "id": "w1X6AUdvfySr"
      },
      "source": [
        "Ви можете побачити, що перетворення відображало початкову форму.\n",
        "\n",
        "# Висновок\n",
        "\n",
        "Ми бачили, що детермінанта матриці - це особливе значення, яке говорить нам багато речей про перетворення, що відповідають цій матриці. Тепер перейдіть до 'останнього розділу' Аналізу основних компонентів (PCA)."
      ]
    },
    {
      "cell_type": "markdown",
      "metadata": {
        "id": "SocX3wUUfySs"
      },
      "source": [
        "<span class='notes'>\n",
        " Не соромтеся писати мені електронний лист чи коментар. Програму цієї серії можна знайти [in the introduction post(у вступній статті)](https://hadrienj.github.io/posts/Deep-Learning-Book-Series-Introduction/). Всі зошити можна знайти на [Github](https://github.com/hadrienj/deepLearningBook-Notes).\n",
        "</span>"
      ]
    },
    {
      "cell_type": "markdown",
      "metadata": {
        "id": "_79MIIMJfySt"
      },
      "source": [
        "# Список літератури\n",
        "\n",
        "## Лінійні перетворення\n",
        "\n",
        "- [Nykamp DQ, “Determinants and linear transformations.”(“Визначники та лінійні перетворення”) From Math Insight](https://mathinsight.org/determinant_linear_transformation)\n",
        "\n",
        "- [Determinant intuition - SE( Інуїція визначника - SE)](https://math.stackexchange.com/questions/668/whats-an-intuitive-way-to-think-about-the-determinant)\n",
        "\n",
        "## Numpy\n",
        "\n",
        "- [Numpy визначник](https://docs.scipy.org/doc/numpy-1.13.0/reference/generated/numpy.linalg.det.html)\n",
        "\n",
        "Переклад: Вовчок Євген, студент ІО-02мп, 2020 рік\n",
        "\n"
      ]
    },
    {
      "cell_type": "code",
      "metadata": {
        "id": "TJGiSnuFf_eB"
      },
      "source": [
        ""
      ],
      "execution_count": 18,
      "outputs": []
    }
  ]
}