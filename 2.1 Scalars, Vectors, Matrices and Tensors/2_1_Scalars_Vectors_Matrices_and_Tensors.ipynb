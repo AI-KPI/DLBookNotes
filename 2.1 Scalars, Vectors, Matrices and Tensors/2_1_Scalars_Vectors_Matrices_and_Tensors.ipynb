{
  "nbformat": 4,
  "nbformat_minor": 0,
  "metadata": {
    "kernelspec": {
      "display_name": "Python 3",
      "language": "python",
      "name": "python3"
    },
    "language_info": {
      "codemirror_mode": {
        "name": "ipython",
        "version": 3
      },
      "file_extension": ".py",
      "mimetype": "text/x-python",
      "name": "python",
      "nbconvert_exporter": "python",
      "pygments_lexer": "ipython3",
      "version": "3.9.0"
    },
    "toc": {
      "base_numbering": 1,
      "nav_menu": {},
      "number_sections": false,
      "sideBar": true,
      "skip_h1_title": false,
      "title_cell": "Table of Contents",
      "title_sidebar": "Contents",
      "toc_cell": false,
      "toc_position": {},
      "toc_section_display": true,
      "toc_window_display": false
    },
    "colab": {
      "name": "2_1_Scalars_Vectors_Matrices_and_Tensors.ipynb",
      "provenance": [],
      "collapsed_sections": []
    }
  },
  "cells": [
    {
      "cell_type": "markdown",
      "metadata": {
        "id": "Fdo_o9fYXA9Y"
      },
      "source": [
        "<a href=\"https://colab.research.google.com/github/AI-KPI/DLBookNotes/blob/main/2.1 Scalars%2C Vectors%2C Matrices and Tensors/2_1_Scalars_Vectors_Matrices_and_Tensors.ipynb\" target=\"_parent\"><img src=\"https://colab.research.google.com/assets/colab-badge.svg\" alt=\"Open In Colab\"/></a>"
      ]
    },
    {
      "cell_type": "code",
      "metadata": {
        "id": "vi7_Hdl8VxxB"
      },
      "source": [
        "import numpy as np"
      ],
      "execution_count": 1,
      "outputs": []
    },
    {
      "cell_type": "markdown",
      "metadata": {
        "id": "k6gNNtuuVxxR"
      },
      "source": [
        "$$\n",
        "\\newcommand\\bs[1]{\\boldsymbol{#1}}\n",
        "$$"
      ]
    },
    {
      "cell_type": "markdown",
      "metadata": {
        "id": "VDsKK0DlVxxS"
      },
      "source": [
        "<span class='notes'>\n",
        "    Дана стаття є частиною 2го розділу книги про лінійну алгебру з [Deep Learning Book] (http://www.deeplearningbook.org/) Гудфеллоу, І., Бенджо, Ю. та Курвіля, А. ( 2016). Вона спрямована на надання асоціаций / малюнків / коду Пайтона з математичних теорій і побудована як моє розуміння цих понять. Ви можете перевірити навчальний план у [вступній публікації] (https://hadrienj.github.io/posts/Deep-Learning-Book-Series-Introduction/).\n",
        "</span>"
      ]
    },
    {
      "cell_type": "markdown",
      "metadata": {
        "id": "XC1FxoURVxxS"
      },
      "source": [
        "# Вступ\n",
        "\n",
        "Це перша публікація / блокнот із серії, що слідує навчальній програмі [глави про лінійну алгебру з Посібника про глибинне навчання] (http://www.deeplearningbook.org/contents/linear_algebra.html) від Goodfellow et al .. - це сукупність думок / деталей / розробок / прикладів, які я зробив, читаючи цей розділ. Він розроблений, щоб допомогти вам вивчити вступ до лінійної алгебри. Детальніше про цю серію та навчальну програму дивись у [вступній публікації] (https://hadrienj.github.io/posts/Deep-Learning-Book-Series-Introduction/).\n",
        "\n",
        "Цей перший розділ досить легкий і стосується основних елементів, що використовуються в лінійній алгебрі, та їх визначень. Він також вводить важливі функції в Python / Numpy, якими ми будемо користуватися протягом усієї серії. Це пояснить, як створювати та використовувати вектори та матриці на прикладах."
      ]
    },
    {
      "cell_type": "markdown",
      "metadata": {
        "id": "d7kvkWbdVxxU"
      },
      "source": [
        "# 2.1 Скаляри, вектори, матриці та тензори\n",
        "\n",
        "Почнемо з деяких основних визначень:\n",
        "\n",
        "<img src=\"images/scalar-vector-matrix-tensor.png\" width=\"400\" alt=\"An example of a scalar, a vector, a matrix and a tensor\" title=\"Difference between a scalar, a vector, a matrix and a tensor\">\n",
        "<em>Різниця між скаляром, вектором, матрицею і тензором</em>\n",
        "\n",
        "- Скаляр - це одне число\n",
        "- Вектор - це масив чисел.\n",
        "\n",
        "$$\n",
        "\\bs{x} =\\begin{bmatrix}\n",
        "    x_1 \\\\\\\\\n",
        "    x_2 \\\\\\\\\n",
        "    \\cdots \\\\\\\\\n",
        "    x_n\n",
        "\\end{bmatrix}\n",
        "$$\n",
        "\n",
        "- Матриця - це двовимірний масив\n",
        "\n",
        "$$\n",
        "\\bs{A}=\n",
        "\\begin{bmatrix}\n",
        "    A_{1,1} & A_{1,2} & \\cdots & A_{1,n} \\\\\\\\\n",
        "    A_{2,1} & A_{2,2} & \\cdots & A_{2,n} \\\\\\\\\n",
        "    \\cdots & \\cdots & \\cdots & \\cdots \\\\\\\\\n",
        "    A_{m,1} & A_{m,2} & \\cdots & A_{m,n}\n",
        "\\end{bmatrix}\n",
        "$$\n",
        "\n",
        "- Тензор - це $ n $ -вимірний масив з $ n> 2 $\n",
        "\n",
        "Ми дотримуватимемось конвенцій, що використовуються в [Deep Learning Book](http://www.deeplearningbook.org/):\n",
        "\n",
        "- скаляри пишуться малими літерами та курсивом. Наприклад: $ n $\n",
        "- вектори пишуться малими літерами, курсивом та жирним шрифтом. Наприклад: $\\bs{x}$\n",
        "- матриці пишуться великими літерами, курсивом та жирним шрифтом. Наприклад: $\\bs{X}$"
      ]
    },
    {
      "cell_type": "markdown",
      "metadata": {
        "id": "94CSg94DVxxW"
      },
      "source": [
        "### Приклад 1.\n",
        "\n",
        "#### Створіть вектор за допомогою Python та Numpy\n",
        "\n",
        "*Підказка щодо програмування*: На відміну від функції `matrix ()`, яка обов'язково створює $ 2 $-вимірні матриці, ви можете створити $ n $-вимірні масиви за допомогою функції `array ()`. Головною перевагою використання `matrix ()` є корисні методи (кон'юговане транспонування, обернення матриці, матричні операції ...). Ми будемо використовувати функцію ʻarray () `у цій серії.\n",
        "\n",
        "Ми почнемо зі створення вектора. Це просто $ 1 $-вимірний масив:"
      ]
    },
    {
      "cell_type": "code",
      "metadata": {
        "id": "QhixmmvuVxxW",
        "colab": {
          "base_uri": "https://localhost:8080/"
        },
        "outputId": "7361ac16-3dae-4bd1-d5ca-5c26d28f65eb"
      },
      "source": [
        "x = np.array([1, 2, 3, 4])\n",
        "x"
      ],
      "execution_count": 2,
      "outputs": [
        {
          "output_type": "execute_result",
          "data": {
            "text/plain": [
              "array([1, 2, 3, 4])"
            ]
          },
          "metadata": {
            "tags": []
          },
          "execution_count": 2
        }
      ]
    },
    {
      "cell_type": "markdown",
      "metadata": {
        "id": "LRXxTwz_VxxX"
      },
      "source": [
        "### Приклад 2.\n",
        "\n",
        "#### Створіть матрицю (3x2) із вкладеними дужками\n",
        "\n",
        "Функція `array () `також може створювати $ 2 $-вимірні масиви з вкладеними дужками:"
      ]
    },
    {
      "cell_type": "code",
      "metadata": {
        "id": "kYCP3iQcVxxX",
        "colab": {
          "base_uri": "https://localhost:8080/"
        },
        "outputId": "103659d0-ea8a-4f55-d07e-987159b66cdf"
      },
      "source": [
        "A = np.array([[1, 2], [3, 4], [5, 6]])\n",
        "A"
      ],
      "execution_count": 3,
      "outputs": [
        {
          "output_type": "execute_result",
          "data": {
            "text/plain": [
              "array([[1, 2],\n",
              "       [3, 4],\n",
              "       [5, 6]])"
            ]
          },
          "metadata": {
            "tags": []
          },
          "execution_count": 3
        }
      ]
    },
    {
      "cell_type": "markdown",
      "metadata": {
        "id": "d3AWc_KoVxxY"
      },
      "source": [
        "### Розмірність масиву\n",
        "\n",
        "Розмірність масиву (тобто його розміри) повідомляє вам кількість значень для кожного виміру. Для $ 2 $-вимірного масиву це дасть вам кількість рядків і кількість стовпців. Давайте знайдемо розмірність попереднього $ 2 $-вимірного масиву `A`. Оскільки `A` є масивом Numpy (він був створений за допомогою функції `array () `), ви можете отримати доступ до його розмірності за допомогою:"
      ]
    },
    {
      "cell_type": "code",
      "metadata": {
        "id": "BEDuiNUCVxxa",
        "colab": {
          "base_uri": "https://localhost:8080/"
        },
        "outputId": "dcbbd92d-47b0-49bf-cd90-fc586b18e763"
      },
      "source": [
        "A.shape"
      ],
      "execution_count": 4,
      "outputs": [
        {
          "output_type": "execute_result",
          "data": {
            "text/plain": [
              "(3, 2)"
            ]
          },
          "metadata": {
            "tags": []
          },
          "execution_count": 4
        }
      ]
    },
    {
      "cell_type": "markdown",
      "metadata": {
        "id": "njR-KOG7Vxxa"
      },
      "source": [
        "Ми бачимо, що $\\bs{A}$ має 3 рядки та 2 стовпці.\n",
        "\n",
        "Давайте перевіримо розмірність нашого першого вектора:"
      ]
    },
    {
      "cell_type": "code",
      "metadata": {
        "id": "oHy3TxrxVxxb",
        "colab": {
          "base_uri": "https://localhost:8080/"
        },
        "outputId": "dedb6edb-c562-47ab-f580-886da88caefe"
      },
      "source": [
        "x.shape"
      ],
      "execution_count": 5,
      "outputs": [
        {
          "output_type": "execute_result",
          "data": {
            "text/plain": [
              "(4,)"
            ]
          },
          "metadata": {
            "tags": []
          },
          "execution_count": 5
        }
      ]
    },
    {
      "cell_type": "markdown",
      "metadata": {
        "id": "HM_pItAjVxxb"
      },
      "source": [
        "Як і очікувалось, $\\bs{x}$ має лише один вимір(одновимірний). Число відповідає довжині масиву:"
      ]
    },
    {
      "cell_type": "code",
      "metadata": {
        "id": "iAcvLNSYVxxc",
        "colab": {
          "base_uri": "https://localhost:8080/"
        },
        "outputId": "5ccdb9ed-5e30-4c3f-d12b-40fe09d0833a"
      },
      "source": [
        "len(x)"
      ],
      "execution_count": 6,
      "outputs": [
        {
          "output_type": "execute_result",
          "data": {
            "text/plain": [
              "4"
            ]
          },
          "metadata": {
            "tags": []
          },
          "execution_count": 6
        }
      ]
    },
    {
      "cell_type": "markdown",
      "metadata": {
        "id": "aUQGfI_vVxxc"
      },
      "source": [
        "# Транпонування\n",
        "\n",
        "За допомогою транпонування ви можете перетворити вектор-рядок у вектор-стовпець і навпаки:\n",
        "\n",
        "<img src=\"images/vector-transposition.png\" alt=\"Transposition of a vector\" title=\"Vector transposition\" width=\"200\">\n",
        "<em>Транспонування вектораn</em>\n",
        "\n",
        "Транспонування $\\bs{A}^{\\text{T}}$ матриці $\\bs{A}$ відповідає дзеркальному відображенню по осям. Якщо матриця - це квадратна матриця (однакова кількість стовпців і рядків):\n",
        "\n",
        "<img src=\"images/square-matrix-transposition.png\" alt=\"Transposition of a square matrix\" title=\"Square matrix transposition\" width=\"300\">\n",
        "<em>Транспонування квадратної матриці</em>\n",
        "\n",
        "Якщо матриця не квадратна, ідея однакова:\n",
        "\n",
        "<img src=\"images/non-squared-matrix-transposition.png\" alt=\"Transposition of a square matrix\" title=\"Non square matrix transposition\" width=\"300\">\n",
        "<em>Транспонування не квадратичної матриці</em>\n",
        "\n",
        "\n",
        "Верхній індекс $^\\text{T}$ використовується для транспонованих матриць.\n",
        "\n",
        "$$\n",
        "\\bs{A}=\n",
        "\\begin{bmatrix}\n",
        "    A_{1,1} & A_{1,2} \\\\\\\\\n",
        "    A_{2,1} & A_{2,2} \\\\\\\\\n",
        "    A_{3,1} & A_{3,2}\n",
        "\\end{bmatrix}\n",
        "$$\n",
        "\n",
        "$$\n",
        "\\bs{A}^{\\text{T}}=\n",
        "\\begin{bmatrix}\n",
        "    A_{1,1} & A_{2,1} & A_{3,1} \\\\\\\\\n",
        "    A_{1,2} & A_{2,2} & A_{3,2}\n",
        "\\end{bmatrix}\n",
        "$$\n",
        "\n",
        "Форма ($m\\times n$) інвертується і стає ($n\\times m$).\n",
        "\n",
        "<img src=\"images/dimensions-transposition-matrix.png\" alt=\"Dimensions of matrix transposition\" title=\"Dimensions of matrix transposition\" width=\"300\">\n",
        "<em>Розмірність транспонованої мариці</em>"
      ]
    },
    {
      "cell_type": "markdown",
      "metadata": {
        "id": "N12QjnLSVxxd"
      },
      "source": [
        "### Приклад 3.\n",
        "\n",
        "#### Створіть матрицю A і транспонуйте її"
      ]
    },
    {
      "cell_type": "code",
      "metadata": {
        "id": "s--dQ_JVVxxd",
        "colab": {
          "base_uri": "https://localhost:8080/"
        },
        "outputId": "0341f7ca-5d5b-48a2-9e68-e94781ea6343"
      },
      "source": [
        "A = np.array([[1, 2], [3, 4], [5, 6]])\n",
        "A"
      ],
      "execution_count": 7,
      "outputs": [
        {
          "output_type": "execute_result",
          "data": {
            "text/plain": [
              "array([[1, 2],\n",
              "       [3, 4],\n",
              "       [5, 6]])"
            ]
          },
          "metadata": {
            "tags": []
          },
          "execution_count": 7
        }
      ]
    },
    {
      "cell_type": "code",
      "metadata": {
        "id": "GEKozmEVVxxd",
        "colab": {
          "base_uri": "https://localhost:8080/"
        },
        "outputId": "b265062f-2df4-44a8-905d-910bdc432853"
      },
      "source": [
        "A_t = A.T\n",
        "A_t"
      ],
      "execution_count": 8,
      "outputs": [
        {
          "output_type": "execute_result",
          "data": {
            "text/plain": [
              "array([[1, 3, 5],\n",
              "       [2, 4, 6]])"
            ]
          },
          "metadata": {
            "tags": []
          },
          "execution_count": 8
        }
      ]
    },
    {
      "cell_type": "markdown",
      "metadata": {
        "id": "-nusxjGiVxxd"
      },
      "source": [
        "Ми можемо перевірити розмірність матриці:"
      ]
    },
    {
      "cell_type": "code",
      "metadata": {
        "id": "t2htaOfEVxxe",
        "colab": {
          "base_uri": "https://localhost:8080/"
        },
        "outputId": "4a347017-6bd6-4f5a-ccaf-48c8297fd063"
      },
      "source": [
        "A.shape"
      ],
      "execution_count": 9,
      "outputs": [
        {
          "output_type": "execute_result",
          "data": {
            "text/plain": [
              "(3, 2)"
            ]
          },
          "metadata": {
            "tags": []
          },
          "execution_count": 9
        }
      ]
    },
    {
      "cell_type": "code",
      "metadata": {
        "id": "Vyh6bo1IVxxe",
        "colab": {
          "base_uri": "https://localhost:8080/"
        },
        "outputId": "bdba422c-4b77-4bb1-b0c2-ab0fca023160"
      },
      "source": [
        "A_t.shape"
      ],
      "execution_count": 10,
      "outputs": [
        {
          "output_type": "execute_result",
          "data": {
            "text/plain": [
              "(2, 3)"
            ]
          },
          "metadata": {
            "tags": []
          },
          "execution_count": 10
        }
      ]
    },
    {
      "cell_type": "markdown",
      "metadata": {
        "id": "DtDyIjQqVxxf"
      },
      "source": [
        "Ми бачимо, що кількість стовпців стає кількістю рядків після транспонування і навпаки."
      ]
    },
    {
      "cell_type": "markdown",
      "metadata": {
        "id": "amqh5KSYVxxf"
      },
      "source": [
        "# Додавання\n",
        "\n",
        "<img src=\"images/matrix-addition.png\" alt=\"Addition of two matrices\" title=\"Addition of two matrices\" width=\"300\">\n",
        "<em>Додавання двох матриць</em>\n",
        "\n",
        "Матриці можна додавати, якщо вони мають однакову розмірність:\n",
        "\n",
        "$$\\bs{A} + \\bs{B} = \\bs{C}$$\n",
        "\n",
        "Кожен елемент $\\bs{A}$ додається до відповідного елементу $\\bs{B}$:\n",
        "\n",
        "$$\\bs{A}_{i,j} + \\bs{B}_{i,j} = \\bs{C}_{i,j}$$\n",
        "\n",
        "$i$ - індекс рядка та $j$ - індекс стовпця.\n",
        "\n",
        "$$\n",
        "\\begin{bmatrix}\n",
        "    A_{1,1} & A_{1,2} \\\\\\\\\n",
        "    A_{2,1} & A_{2,2} \\\\\\\\\n",
        "    A_{3,1} & A_{3,2}\n",
        "\\end{bmatrix}+\n",
        "\\begin{bmatrix}\n",
        "    B_{1,1} & B_{1,2} \\\\\\\\\n",
        "    B_{2,1} & B_{2,2} \\\\\\\\\n",
        "    B_{3,1} & B_{3,2}\n",
        "\\end{bmatrix}=\n",
        "\\begin{bmatrix}\n",
        "    A_{1,1} + B_{1,1} & A_{1,2} + B_{1,2} \\\\\\\\\n",
        "    A_{2,1} + B_{2,1} & A_{2,2} + B_{2,2} \\\\\\\\\n",
        "    A_{3,1} + B_{3,1} & A_{3,2} + B_{3,2}\n",
        "\\end{bmatrix}\n",
        "$$\n",
        "\n",
        "Розмірність $\\bs{A}$, $\\bs{B}$ і $\\bs{C}$ однакові. Перевіримо це на прикладі:"
      ]
    },
    {
      "cell_type": "markdown",
      "metadata": {
        "id": "U8fYTIeNVxxg"
      },
      "source": [
        "### Приклад 4.\n",
        "\n",
        "#### Створіть дві матриці A і B і додайте їх\n",
        "\n",
        "За допомогою Numpy ви можете додавати матриці так само, як і вектори або скаляри."
      ]
    },
    {
      "cell_type": "code",
      "metadata": {
        "id": "zb_JCv7_Vxxg",
        "colab": {
          "base_uri": "https://localhost:8080/"
        },
        "outputId": "de0f7e59-e36e-4596-ce0a-0cd384d51633"
      },
      "source": [
        "A = np.array([[1, 2], [3, 4], [5, 6]])\n",
        "A"
      ],
      "execution_count": 11,
      "outputs": [
        {
          "output_type": "execute_result",
          "data": {
            "text/plain": [
              "array([[1, 2],\n",
              "       [3, 4],\n",
              "       [5, 6]])"
            ]
          },
          "metadata": {
            "tags": []
          },
          "execution_count": 11
        }
      ]
    },
    {
      "cell_type": "code",
      "metadata": {
        "id": "0CRaNKJJVxxg",
        "colab": {
          "base_uri": "https://localhost:8080/"
        },
        "outputId": "ab0d793a-f4a3-45a4-b70b-6e6a017cce0c"
      },
      "source": [
        "B = np.array([[2, 5], [7, 4], [4, 3]])\n",
        "B"
      ],
      "execution_count": 12,
      "outputs": [
        {
          "output_type": "execute_result",
          "data": {
            "text/plain": [
              "array([[2, 5],\n",
              "       [7, 4],\n",
              "       [4, 3]])"
            ]
          },
          "metadata": {
            "tags": []
          },
          "execution_count": 12
        }
      ]
    },
    {
      "cell_type": "code",
      "metadata": {
        "id": "SAprjtoqVxxi",
        "colab": {
          "base_uri": "https://localhost:8080/"
        },
        "outputId": "8296b891-3adf-4cd8-f65f-c0b39cc5ca2e"
      },
      "source": [
        "# Додавання A і B\n",
        "C = A + B\n",
        "C"
      ],
      "execution_count": 13,
      "outputs": [
        {
          "output_type": "execute_result",
          "data": {
            "text/plain": [
              "array([[ 3,  7],\n",
              "       [10,  8],\n",
              "       [ 9,  9]])"
            ]
          },
          "metadata": {
            "tags": []
          },
          "execution_count": 13
        }
      ]
    },
    {
      "cell_type": "markdown",
      "metadata": {
        "id": "SxOCE78ZVxxi"
      },
      "source": [
        "Також можна додати скаляр до матриці. Це означає додавання цього скаляра до кожного елементу матриці.\n",
        "\n",
        "$$\n",
        "\\alpha+ \\begin{bmatrix}\n",
        "    A_{1,1} & A_{1,2} \\\\\\\\\n",
        "    A_{2,1} & A_{2,2} \\\\\\\\\n",
        "    A_{3,1} & A_{3,2}\n",
        "\\end{bmatrix}=\n",
        "\\begin{bmatrix}\n",
        "    \\alpha + A_{1,1} & \\alpha + A_{1,2} \\\\\\\\\n",
        "    \\alpha + A_{2,1} & \\alpha + A_{2,2} \\\\\\\\\n",
        "    \\alpha + A_{3,1} & \\alpha + A_{3,2}\n",
        "\\end{bmatrix}\n",
        "$$"
      ]
    },
    {
      "cell_type": "markdown",
      "metadata": {
        "id": "dDPA7TYQVxxi"
      },
      "source": [
        "### Приклад 5.\n",
        "\n",
        "#### Додавання скаляру до матриці"
      ]
    },
    {
      "cell_type": "code",
      "metadata": {
        "id": "aY9MOv6RVxxj",
        "colab": {
          "base_uri": "https://localhost:8080/"
        },
        "outputId": "96b9b0d1-6dc5-498f-b646-b705430fb634"
      },
      "source": [
        "A"
      ],
      "execution_count": 14,
      "outputs": [
        {
          "output_type": "execute_result",
          "data": {
            "text/plain": [
              "array([[1, 2],\n",
              "       [3, 4],\n",
              "       [5, 6]])"
            ]
          },
          "metadata": {
            "tags": []
          },
          "execution_count": 14
        }
      ]
    },
    {
      "cell_type": "code",
      "metadata": {
        "id": "xF7SRkQWVxxj",
        "colab": {
          "base_uri": "https://localhost:8080/"
        },
        "outputId": "f608a060-76bd-4de6-897e-52c6bb908f50"
      },
      "source": [
        "# Приклад: Додати 4 до матриці A\n",
        "C = A+4\n",
        "C"
      ],
      "execution_count": 15,
      "outputs": [
        {
          "output_type": "execute_result",
          "data": {
            "text/plain": [
              "array([[ 5,  6],\n",
              "       [ 7,  8],\n",
              "       [ 9, 10]])"
            ]
          },
          "metadata": {
            "tags": []
          },
          "execution_count": 15
        }
      ]
    },
    {
      "cell_type": "markdown",
      "metadata": {
        "id": "xynNYjOGVxxj"
      },
      "source": [
        "# Розширення\n",
        "\n",
        "Numpy може обробляти операції з масивами різної розмірності. Менший масив буде розширений відповідно до розмірності більшого. Перевага полягає в тому, що це робиться в `C` під капотом (як і будь-які векторні операції в Numpy). Власне, ми використовували розширення у прикладі 5. Скаляр був перетворений у масив тієї ж форми, що і $\\bs{A}$.\n",
        "\n",
        "Ось ще один загальний приклад:\n",
        "\n",
        "$$\n",
        "\\begin{bmatrix}\n",
        "    A_{1,1} & A_{1,2} \\\\\\\\\n",
        "    A_{2,1} & A_{2,2} \\\\\\\\\n",
        "    A_{3,1} & A_{3,2}\n",
        "\\end{bmatrix}+\n",
        "\\begin{bmatrix}\n",
        "    B_{1,1} \\\\\\\\\n",
        "    B_{2,1} \\\\\\\\\n",
        "    B_{3,1}\n",
        "\\end{bmatrix}\n",
        "$$\n",
        "\n",
        "еквівалентно до\n",
        "\n",
        "$$\n",
        "\\begin{bmatrix}\n",
        "    A_{1,1} & A_{1,2} \\\\\\\\\n",
        "    A_{2,1} & A_{2,2} \\\\\\\\\n",
        "    A_{3,1} & A_{3,2}\n",
        "\\end{bmatrix}+\n",
        "\\begin{bmatrix}\n",
        "    B_{1,1} & B_{1,1} \\\\\\\\\n",
        "    B_{2,1} & B_{2,1} \\\\\\\\\n",
        "    B_{3,1} & B_{3,1}\n",
        "\\end{bmatrix}=\n",
        "\\begin{bmatrix}\n",
        "    A_{1,1} + B_{1,1} & A_{1,2} + B_{1,1} \\\\\\\\\n",
        "    A_{2,1} + B_{2,1} & A_{2,2} + B_{2,1} \\\\\\\\\n",
        "    A_{3,1} + B_{3,1} & A_{3,2} + B_{3,1}\n",
        "\\end{bmatrix}\n",
        "$$\n",
        "\n",
        "де матриця ($3 \\times 1 $) перетворюється в потрібну форму ($ 3 \\times 2 $) шляхом копіювання першого стовпця. Numpy зробить це автоматично, якщо розмірності можуть збігатися."
      ]
    },
    {
      "cell_type": "markdown",
      "metadata": {
        "id": "SmBWn3TqVxxj"
      },
      "source": [
        "### Приклад 6.\n",
        "\n",
        "#### Додайте дві матриці різної форми"
      ]
    },
    {
      "cell_type": "code",
      "metadata": {
        "id": "yCCjKEGBVxxk",
        "colab": {
          "base_uri": "https://localhost:8080/"
        },
        "outputId": "642d10b7-a3ef-4fe7-c25c-12ee27338773"
      },
      "source": [
        "A = np.array([[1, 2], [3, 4], [5, 6]])\n",
        "A"
      ],
      "execution_count": 16,
      "outputs": [
        {
          "output_type": "execute_result",
          "data": {
            "text/plain": [
              "array([[1, 2],\n",
              "       [3, 4],\n",
              "       [5, 6]])"
            ]
          },
          "metadata": {
            "tags": []
          },
          "execution_count": 16
        }
      ]
    },
    {
      "cell_type": "code",
      "metadata": {
        "id": "MGI1rsfBVxxk",
        "colab": {
          "base_uri": "https://localhost:8080/"
        },
        "outputId": "f6de372d-40f2-4242-b78c-2362b39751a3"
      },
      "source": [
        "B = np.array([[2], [4], [6]])\n",
        "B"
      ],
      "execution_count": 17,
      "outputs": [
        {
          "output_type": "execute_result",
          "data": {
            "text/plain": [
              "array([[2],\n",
              "       [4],\n",
              "       [6]])"
            ]
          },
          "metadata": {
            "tags": []
          },
          "execution_count": 17
        }
      ]
    },
    {
      "cell_type": "code",
      "metadata": {
        "id": "PVztQrbUVxxk",
        "colab": {
          "base_uri": "https://localhost:8080/"
        },
        "outputId": "57b84be0-92e6-424b-f608-c662fb77f452"
      },
      "source": [
        "# Розширення\n",
        "C=A+B\n",
        "C"
      ],
      "execution_count": 18,
      "outputs": [
        {
          "output_type": "execute_result",
          "data": {
            "text/plain": [
              "array([[ 3,  4],\n",
              "       [ 7,  8],\n",
              "       [11, 12]])"
            ]
          },
          "metadata": {
            "tags": []
          },
          "execution_count": 18
        }
      ]
    },
    {
      "cell_type": "markdown",
      "metadata": {
        "id": "naO592BpVxxl"
      },
      "source": [
        "Ви можете знайти основні операції з матрицями, описані простою мовою [тут](https://www.mathsisfun.com/algebra/matrix-introduction.html)."
      ]
    },
    {
      "cell_type": "markdown",
      "metadata": {
        "id": "hmEbDa8dVxxl"
      },
      "source": [
        "<span class='notes'>\n",
        "    Не соромтеся писати мені на електронну пошту чи коментарі. Програму цієї серії можна знайти [у вступномі пості](https://hadrienj.github.io/posts/Deep-Learning-Book-Series-Introduction/). Всі блокноти можна знайти на [Github](https://github.com/hadrienj/deepLearningBook-Notes).\n",
        "</span>"
      ]
    },
    {
      "cell_type": "markdown",
      "metadata": {
        "id": "UuyEO7y1Vxxm"
      },
      "source": [
        "# Список використаної літератури\n",
        "\n",
        "- [Скаляри, вектори, матриці та тензори](https://github.com/hadrienj/deepLearningBook-Notes/tree/master/2.1%20Scalars%2C%20Vectors%2C%20Matrices%20and%20Tensors)\n",
        "\n",
        "Переклад: Панасюк Олександр, студент ІО-02мп, 2020 рік"
      ]
    }
  ]
}