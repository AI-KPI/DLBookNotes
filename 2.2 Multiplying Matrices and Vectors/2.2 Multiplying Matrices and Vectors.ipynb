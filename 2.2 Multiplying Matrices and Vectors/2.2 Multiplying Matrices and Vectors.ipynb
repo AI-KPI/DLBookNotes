{
  "nbformat": 4,
  "nbformat_minor": 0,
  "metadata": {
    "hide_code_all_hidden": false,
    "kernelspec": {
      "display_name": "Python 3",
      "language": "python",
      "name": "python3"
    },
    "language_info": {
      "codemirror_mode": {
        "name": "ipython",
        "version": 3
      },
      "file_extension": ".py",
      "mimetype": "text/x-python",
      "name": "python",
      "nbconvert_exporter": "python",
      "pygments_lexer": "ipython3",
      "version": "3.7.2"
    },
    "toc": {
      "base_numbering": 1,
      "nav_menu": {},
      "number_sections": false,
      "sideBar": true,
      "skip_h1_title": false,
      "title_cell": "Table of Contents",
      "title_sidebar": "Contents",
      "toc_cell": false,
      "toc_position": {},
      "toc_section_display": true,
      "toc_window_display": false
    },
    "colab": {
      "name": "Multiplying Matrices and Vectors_Шапран Андрій_ІО-01мн (2).ipynb",
      "provenance": [],
      "collapsed_sections": [
        "2v-BruV_pXYt"
      ]
    }
  },
  "cells": [
    {
      "cell_type": "markdown",
      "metadata": {
        "id": "K5ze783MpZNt"
      },
      "source": [
        "<a href=\"https://colab.research.google.com/github/AI-KPI/DLBookNotes/blob/main/2.2 Multiplying Matrices and Vectors/2.2 Multiplying Matrices and Vectors.ipynb\" target=\"_parent\"><img src=\"https://colab.research.google.com/assets/colab-badge.svg\" alt=\"Open In Colab\"/></a>"
      ]
    },
    {
      "cell_type": "code",
      "metadata": {
        "collapsed": true,
        "hideCode": false,
        "hidePrompt": false,
        "id": "UxdPpAHwpXX_"
      },
      "source": [
        "import numpy as np"
      ],
      "execution_count": 1,
      "outputs": []
    },
    {
      "cell_type": "code",
      "metadata": {
        "collapsed": true,
        "hideCode": false,
        "hidePrompt": false,
        "id": "KLyEcKMnpXYD"
      },
      "source": [
        "# Уникайте неточних плаваючих значень (наприклад, для зворотних матриць у крапковому добутку)\n",
        "# Дивись https://stackoverflow.com/questions/24537791/numpy-matrix-inversion-rounding-errors\n",
        "np.set_printoptions(suppress=True)"
      ],
      "execution_count": 2,
      "outputs": []
    },
    {
      "cell_type": "code",
      "metadata": {
        "colab": {
          "base_uri": "https://localhost:8080/",
          "height": 17
        },
        "id": "Kt_jhnrbpXYF",
        "outputId": "2db869c8-d6e4-4ce0-c6af-7ad8783ce95f"
      },
      "source": [
        "%%html\n",
        "<style>\n",
        ".pquote {\n",
        "  text-align: left;\n",
        "  margin: 40px 0 40px auto;\n",
        "  width: 70%;\n",
        "  font-size: 1.5em;\n",
        "  font-style: italic;\n",
        "  display: block;\n",
        "  line-height: 1.3em;\n",
        "  color: #5a75a7;\n",
        "  font-weight: 600;\n",
        "  border-left: 5px solid rgba(90, 117, 167, .1);\n",
        "  padding-left: 6px;\n",
        "}\n",
        ".notes {\n",
        "  font-style: italic;\n",
        "  display: block;\n",
        "  margin: 40px 10%;\n",
        "}\n",
        "img + em {\n",
        "  text-align: center;\n",
        "  display: block;\n",
        "  color: gray;\n",
        "  font-size: 0.9em;\n",
        "  font-weight: 600;\n",
        "}\n",
        "</style>"
      ],
      "execution_count": 3,
      "outputs": [
        {
          "output_type": "display_data",
          "data": {
            "text/html": [
              "<style>\n",
              ".pquote {\n",
              "  text-align: left;\n",
              "  margin: 40px 0 40px auto;\n",
              "  width: 70%;\n",
              "  font-size: 1.5em;\n",
              "  font-style: italic;\n",
              "  display: block;\n",
              "  line-height: 1.3em;\n",
              "  color: #5a75a7;\n",
              "  font-weight: 600;\n",
              "  border-left: 5px solid rgba(90, 117, 167, .1);\n",
              "  padding-left: 6px;\n",
              "}\n",
              ".notes {\n",
              "  font-style: italic;\n",
              "  display: block;\n",
              "  margin: 40px 10%;\n",
              "}\n",
              "img + em {\n",
              "  text-align: center;\n",
              "  display: block;\n",
              "  color: gray;\n",
              "  font-size: 0.9em;\n",
              "  font-weight: 600;\n",
              "}\n",
              "</style>"
            ],
            "text/plain": [
              "<IPython.core.display.HTML object>"
            ]
          },
          "metadata": {
            "tags": []
          }
        }
      ]
    },
    {
      "cell_type": "markdown",
      "metadata": {
        "id": "4PJYv9VApXYI"
      },
      "source": [
        "$$\n",
        "\\newcommand\\bs[1]{\\boldsymbol{#1}}\n",
        "$$"
      ]
    },
    {
      "cell_type": "markdown",
      "metadata": {
        "id": "yTv700jxpXYJ"
      },
      "source": [
        "<span class='notes'>\n",
        "    Цей матеріал є частиною курсу, що йде після глави 2 про лінійну алгебру з [Deep Learning Book] (http://www.deeplearningbook.org/) Гудфеллоу, І., Бенджо, Ю. та Курвіля, А. ( 2016). Він спрямований на підготовку чуття/малюнків/коду на мові python з математичних теорій і побудований так, як я розумію ці поняття. Ви можете подивитися на навчальний план у [вступній публікації] (https://hadrienj.github.io/posts/Deep-Learning-Book-Series-Introduction/).\n",
        "</span>"
      ]
    },
    {
      "cell_type": "markdown",
      "metadata": {
        "id": "p5NjyU_5pXYK"
      },
      "source": [
        "# Вступ\n",
        "\n",
        "Скалярний добуток є основним поняттям лінійної алгебри, а отже, машинного навчання та науки про дані. Ми розглянемо деякі властивості цієї операції. Після чого ми помітимо деякий зв'язок між матрицями та системами лінійних рівнянь."
      ]
    },
    {
      "cell_type": "markdown",
      "metadata": {
        "hideCode": false,
        "hidePrompt": false,
        "id": "ohSkvJOupXYL"
      },
      "source": [
        "# 2.2 Множення матриць і векторів\n",
        "\n",
        "Стандартний спосіб множення матриць - це не множення кожного елемента однієї матриці з кожним елементом іншої (що називається * елементний продукт *), а обчислення суми добутків між рядками та стовпцями. Матричний добуток, який також називають ** скалярним добутком **, обчислюється таким чином:\n",
        "\n",
        "<img src=\"images/dot-product.png\" width=\"400\" alt=\"Приклад обчислення скалярного добутоку між матрицею та вектором\" title=\"Скалярний добуток між матрицею та вектором\">\n",
        "<em>Скалярний добуток матриці та вектора</em>\n",
        "\n",
        "Кількість стовпців першої матриці має бути рівною кількості рядків другої матриці. Якщо розміри першої матриці ($ m \\ times n $), друга матриця повинна мати форму ($ n \\ times x $). Отримана матриця матиме форму ($ m \\ times x $)."
      ]
    },
    {
      "cell_type": "markdown",
      "metadata": {
        "id": "Ad_x5bM0pXYN"
      },
      "source": [
        "### Приклад 1.\n",
        "\n",
        "Почнемо з множення матриці та вектор.\n",
        "\n",
        "$$\\bs{A} \\bs{b} = \\bs{C}$$\n",
        "\n",
        "З $\n",
        "\\bs{A}=\n",
        "\\begin{bmatrix}\n",
        "    1 & 2\\\\\\\\\n",
        "    3 & 4\\\\\\\\\n",
        "    5 & 6\n",
        "\\end{bmatrix}\n",
        "$ та $\\bs{b}=\\begin{bmatrix}\n",
        "    2\\\\\\\\\n",
        "    4\n",
        "\\end{bmatrix}$.\n",
        "\n",
        "Ми бачимо, що формула така:\n",
        "\n",
        "$$\n",
        "\\begin{align*}\n",
        "&\\begin{bmatrix}\n",
        "    A_{1,1} & A_{1,2} \\\\\\\\\n",
        "    A_{2,1} & A_{2,2} \\\\\\\\\n",
        "    A_{3,1} & A_{3,2}\n",
        "\\end{bmatrix}\\times\n",
        "\\begin{bmatrix}\n",
        "    B_{1,1} \\\\\\\\\n",
        "    B_{2,1}\n",
        "\\end{bmatrix}=\\\\\\\\\n",
        "&\\begin{bmatrix}\n",
        "    A_{1,1}B_{1,1} + A_{1,2}B_{2,1} \\\\\\\\\n",
        "    A_{2,1}B_{1,1} + A_{2,2}B_{2,1} \\\\\\\\\n",
        "    A_{3,1}B_{1,1} + A_{3,2}B_{2,1}\n",
        "\\end{bmatrix}\n",
        "\\end{align*}\n",
        "$$\n",
        "\n",
        "Ми отримаємо:\n",
        "\n",
        "$$\n",
        "\\begin{align*}\n",
        "&\\begin{bmatrix}\n",
        "    1 & 2 \\\\\\\\\n",
        "    3 & 4 \\\\\\\\\n",
        "    5 & 6\n",
        "\\end{bmatrix}\n",
        "\\begin{bmatrix}\n",
        "    2 \\\\\\\\\n",
        "    4\n",
        "\\end{bmatrix}=\\\\\\\\\n",
        "&\\begin{bmatrix}\n",
        "    1 \\times 2 + 2 \\times 4 \\\\\\\\\n",
        "    3 \\times 2 + 4 \\times 4 \\\\\\\\\n",
        "    5 \\times 2 + 6 \\times 4\n",
        "\\end{bmatrix}=\n",
        "\\begin{bmatrix}\n",
        "    10 \\\\\\\\\n",
        "    22 \\\\\\\\\n",
        "    34\n",
        "\\end{bmatrix}\n",
        "\\end{align*}\n",
        "$$\n",
        "\n",
        "Гарною звичкою є перевіряти розміри матриці, щоб побачити, що відбувається. У цьому прикладі ми бачимо, що форма $ \\ bs {A} $ ($ 3 \\times 2 $), а форма $ \\ bs {b} $ - ($ 2 \\times 1 $). Отже, розміри $ \\ bs {C} $ є ($ 3 \\times 1 $)."
      ]
    },
    {
      "cell_type": "markdown",
      "metadata": {
        "hideCode": false,
        "hidePrompt": false,
        "id": "0gbODbVbpXYP"
      },
      "source": [
        "### З Numpy\n",
        "\n",
        "Функція Numpy dot () може бути використана для обчислення матричного добутку (або скалярного добутку). Спробуємо відтворити останній приклад:"
      ]
    },
    {
      "cell_type": "code",
      "metadata": {
        "hideCode": false,
        "hidePrompt": false,
        "colab": {
          "base_uri": "https://localhost:8080/"
        },
        "id": "Mvt1i7_NpXYQ",
        "outputId": "8bfd4dfa-5c06-4708-de0d-1474b9e2d3cd"
      },
      "source": [
        "A = np.array([[1, 2], [3, 4], [5, 6]])\n",
        "A"
      ],
      "execution_count": 4,
      "outputs": [
        {
          "output_type": "execute_result",
          "data": {
            "text/plain": [
              "array([[1, 2],\n",
              "       [3, 4],\n",
              "       [5, 6]])"
            ]
          },
          "metadata": {
            "tags": []
          },
          "execution_count": 4
        }
      ]
    },
    {
      "cell_type": "code",
      "metadata": {
        "colab": {
          "base_uri": "https://localhost:8080/"
        },
        "id": "UG5Q48HPpXYR",
        "outputId": "a9ae04ba-44d5-4f7b-b3c9-6ddfc214653f"
      },
      "source": [
        "B = np.array([[2], [4]])\n",
        "B"
      ],
      "execution_count": 5,
      "outputs": [
        {
          "output_type": "execute_result",
          "data": {
            "text/plain": [
              "array([[2],\n",
              "       [4]])"
            ]
          },
          "metadata": {
            "tags": []
          },
          "execution_count": 5
        }
      ]
    },
    {
      "cell_type": "code",
      "metadata": {
        "hideCode": false,
        "hidePrompt": false,
        "colab": {
          "base_uri": "https://localhost:8080/"
        },
        "id": "F23jLvUqpXYV",
        "outputId": "64c99aba-d77b-4954-ecbc-4e25a68a2dbe"
      },
      "source": [
        "C = np.dot(A, B)\n",
        "C"
      ],
      "execution_count": 6,
      "outputs": [
        {
          "output_type": "execute_result",
          "data": {
            "text/plain": [
              "array([[10],\n",
              "       [22],\n",
              "       [34]])"
            ]
          },
          "metadata": {
            "tags": []
          },
          "execution_count": 6
        }
      ]
    },
    {
      "cell_type": "markdown",
      "metadata": {
        "id": "pg6YWCcNpXYW"
      },
      "source": [
        "Еквівалентно використанню методу `dot ()` масивів Numpy:"
      ]
    },
    {
      "cell_type": "code",
      "metadata": {
        "colab": {
          "base_uri": "https://localhost:8080/"
        },
        "id": "dFnG5AzapXYX",
        "outputId": "3702e024-5b44-43e3-e70c-e75cac530e10"
      },
      "source": [
        "C = A.dot(B)\n",
        "C"
      ],
      "execution_count": 7,
      "outputs": [
        {
          "output_type": "execute_result",
          "data": {
            "text/plain": [
              "array([[10],\n",
              "       [22],\n",
              "       [34]])"
            ]
          },
          "metadata": {
            "tags": []
          },
          "execution_count": 7
        }
      ]
    },
    {
      "cell_type": "markdown",
      "metadata": {
        "hideCode": false,
        "hidePrompt": false,
        "id": "xWX5a2JrpXYX"
      },
      "source": [
        "### Приклад 2.\n",
        "\n",
        "Множення двох матриць.\n",
        "\n",
        "$$\\bs{A} \\times \\bs{B} = \\bs{C}$$\n",
        "\n",
        "З:\n",
        "\n",
        "$$\\bs{A}=\\begin{bmatrix}\n",
        "    1 & 2 & 3 \\\\\\\\\n",
        "    4 & 5 & 6 \\\\\\\\\n",
        "    7 & 8 & 9 \\\\\\\\\n",
        "    10 & 11 & 12\n",
        "\\end{bmatrix}\n",
        "$$\n",
        "\n",
        "та:\n",
        "\n",
        "$$\\bs{B}=\\begin{bmatrix}\n",
        "    2 & 7 \\\\\\\\\n",
        "    1 & 2 \\\\\\\\\n",
        "    3 & 6\n",
        "\\end{bmatrix}\n",
        "$$\n",
        "\n",
        "Отже, ми маємо:\n",
        "\n",
        "$$\n",
        "\\begin{align*}\n",
        "&\\begin{bmatrix}\n",
        "    1 & 2 & 3 \\\\\\\\\n",
        "    4 & 5 & 6 \\\\\\\\\n",
        "    7 & 8 & 9 \\\\\\\\\n",
        "    10 & 11 & 12\n",
        "\\end{bmatrix}\n",
        "\\begin{bmatrix}\n",
        "    2 & 7 \\\\\\\\\n",
        "    1 & 2 \\\\\\\\\n",
        "    3 & 6\n",
        "\\end{bmatrix}=\\\\\\\\\n",
        "&\\begin{bmatrix}\n",
        "    2 \\times 1 + 1 \\times 2 + 3 \\times 3 & 7 \\times 1 + 2 \\times 2 + 6 \\times 3 \\\\\\\\\n",
        "    2 \\times 4 + 1 \\times 5 + 3 \\times 6 & 7 \\times 4 + 2 \\times 5 + 6 \\times 6 \\\\\\\\\n",
        "    2 \\times 7 + 1 \\times 8 + 3 \\times 9 & 7 \\times 7 + 2 \\times 8 + 6 \\times 9 \\\\\\\\\n",
        "    2 \\times 10 + 1 \\times 11 + 3 \\times 12 & 7 \\times 10 + 2 \\times 11 + 6 \\times 12 \\\\\\\\\n",
        "\\end{bmatrix}\\\\\\\\\n",
        "&=\n",
        "\\begin{bmatrix}\n",
        "    13 & 29 \\\\\\\\\n",
        "    31 & 74 \\\\\\\\\n",
        "    49 & 119 \\\\\\\\\n",
        "    67 & 164\n",
        "\\end{bmatrix}\n",
        "\\end{align*}\n",
        "$$\n",
        "\n",
        "Давайте перевіримо результат за допомогою Numpy:"
      ]
    },
    {
      "cell_type": "code",
      "metadata": {
        "hideCode": false,
        "hidePrompt": false,
        "colab": {
          "base_uri": "https://localhost:8080/"
        },
        "id": "UDurhrz6pXYY",
        "outputId": "5c351ec6-24a0-4e25-c6bc-6388cb3fdcb5"
      },
      "source": [
        "A = np.array([[1, 2, 3], [4, 5, 6], [7, 8, 9], [10, 11, 12]])\n",
        "A"
      ],
      "execution_count": 8,
      "outputs": [
        {
          "output_type": "execute_result",
          "data": {
            "text/plain": [
              "array([[ 1,  2,  3],\n",
              "       [ 4,  5,  6],\n",
              "       [ 7,  8,  9],\n",
              "       [10, 11, 12]])"
            ]
          },
          "metadata": {
            "tags": []
          },
          "execution_count": 8
        }
      ]
    },
    {
      "cell_type": "code",
      "metadata": {
        "colab": {
          "base_uri": "https://localhost:8080/"
        },
        "id": "iL8fKVKEpXYY",
        "outputId": "94b4ee55-08ba-432f-dbce-17d372152da1"
      },
      "source": [
        "B = np.array([[2, 7], [1, 2], [3, 6]])\n",
        "B"
      ],
      "execution_count": 9,
      "outputs": [
        {
          "output_type": "execute_result",
          "data": {
            "text/plain": [
              "array([[2, 7],\n",
              "       [1, 2],\n",
              "       [3, 6]])"
            ]
          },
          "metadata": {
            "tags": []
          },
          "execution_count": 9
        }
      ]
    },
    {
      "cell_type": "code",
      "metadata": {
        "hideCode": false,
        "hidePrompt": false,
        "colab": {
          "base_uri": "https://localhost:8080/"
        },
        "id": "8JCa99JTpXYZ",
        "outputId": "9fb2b4fd-8479-4015-c3a4-98af59a1e2c2"
      },
      "source": [
        "C = A.dot(B)\n",
        "C"
      ],
      "execution_count": 10,
      "outputs": [
        {
          "output_type": "execute_result",
          "data": {
            "text/plain": [
              "array([[ 13,  29],\n",
              "       [ 31,  74],\n",
              "       [ 49, 119],\n",
              "       [ 67, 164]])"
            ]
          },
          "metadata": {
            "tags": []
          },
          "execution_count": 10
        }
      ]
    },
    {
      "cell_type": "markdown",
      "metadata": {
        "hideCode": false,
        "hidePrompt": false,
        "id": "NAw2mKIopXYa"
      },
      "source": [
        "Це працює!\n",
        "\n",
        "# Формалізація скалярного добутку\n",
        "\n",
        "Скалярний добуток може бути формалізований за допомогою наступного рівняння:\n",
        "\n",
        "$$\n",
        "C_{i,j} = A_{i,k}B_{k,j} = \\sum_{k}A_{i,k}B_{k,j}\n",
        "$$\n",
        "\n",
        "Ви можете знайти більше прикладів для скалярного добутку [тут](https://www.mathsisfun.com/algebra/matrix-multiplying.html)."
      ]
    },
    {
      "cell_type": "markdown",
      "metadata": {
        "hideCode": false,
        "hidePrompt": false,
        "id": "M97a3s2VpXYa"
      },
      "source": [
        "# Властивості скалярного добутку\n",
        "\n",
        "Зараз ми бачимо деякі цікаві властивості скалярного продукту. Використовуючи прості приклади для кожної властивості, ми звикнемо до функцій Numpy.\n",
        "\n",
        "## Множення матриць є розподільним\n",
        "\n",
        "$$\\bs{A}(\\bs{B}+\\bs{C}) = \\bs{AB}+\\bs{AC}$$\n",
        "\n",
        "### Приклад 3.\n",
        "\n",
        "$$\n",
        "\\bs{A}=\\begin{bmatrix}\n",
        "    2 & 3 \\\\\\\\\n",
        "    1 & 4 \\\\\\\\\n",
        "    7 & 6\n",
        "\\end{bmatrix}, \n",
        "\\bs{B}=\\begin{bmatrix}\n",
        "    5 \\\\\\\\\n",
        "    2\n",
        "\\end{bmatrix}, \n",
        "\\bs{C}=\\begin{bmatrix}\n",
        "    4 \\\\\\\\\n",
        "    3\n",
        "\\end{bmatrix}\n",
        "$$\n",
        "\n",
        "\n",
        "$$\n",
        "\\begin{align*}\n",
        "\\bs{A}(\\bs{B}+\\bs{C})&=\\begin{bmatrix}\n",
        "    2 & 3 \\\\\\\\\n",
        "    1 & 4 \\\\\\\\\n",
        "    7 & 6\n",
        "\\end{bmatrix}\\times\n",
        "\\left(\\begin{bmatrix}\n",
        "    5 \\\\\\\\\n",
        "    2\n",
        "\\end{bmatrix}+\n",
        "\\begin{bmatrix}\n",
        "    4 \\\\\\\\\n",
        "    3\n",
        "\\end{bmatrix}\\right)=\n",
        "\\begin{bmatrix}\n",
        "    2 & 3 \\\\\\\\\n",
        "    1 & 4 \\\\\\\\\n",
        "    7 & 6\n",
        "\\end{bmatrix}\\times\n",
        "\\begin{bmatrix}\n",
        "    9 \\\\\\\\\n",
        "    5\n",
        "\\end{bmatrix}\\\\\\\\\n",
        "&=\n",
        "\\begin{bmatrix}\n",
        "    2 \\times 9 + 3 \\times 5 \\\\\\\\\n",
        "    1 \\times 9 + 4 \\times 5 \\\\\\\\\n",
        "    7 \\times 9 + 6 \\times 5\n",
        "\\end{bmatrix}=\n",
        "\\begin{bmatrix}\n",
        "    33 \\\\\\\\\n",
        "    29 \\\\\\\\\n",
        "    93\n",
        "\\end{bmatrix}\n",
        "\\end{align*}\n",
        "$$\n",
        "\n",
        "еквівалентно до\n",
        "\n",
        "$$\n",
        "\\begin{align*}\n",
        "\\bs{A}\\bs{B}+\\bs{A}\\bs{C} &= \\begin{bmatrix}\n",
        "    2 & 3 \\\\\\\\\n",
        "    1 & 4 \\\\\\\\\n",
        "    7 & 6\n",
        "\\end{bmatrix}\\times\n",
        "\\begin{bmatrix}\n",
        "    5 \\\\\\\\\n",
        "    2\n",
        "\\end{bmatrix}+\n",
        "\\begin{bmatrix}\n",
        "    2 & 3 \\\\\\\\\n",
        "    1 & 4 \\\\\\\\\n",
        "    7 & 6\n",
        "\\end{bmatrix}\\times\n",
        "\\begin{bmatrix}\n",
        "    4 \\\\\\\\\n",
        "    3\n",
        "\\end{bmatrix}\\\\\\\\\n",
        "&=\n",
        "\\begin{bmatrix}\n",
        "    2 \\times 5 + 3 \\times 2 \\\\\\\\\n",
        "    1 \\times 5 + 4 \\times 2 \\\\\\\\\n",
        "    7 \\times 5 + 6 \\times 2\n",
        "\\end{bmatrix}+\n",
        "\\begin{bmatrix}\n",
        "    2 \\times 4 + 3 \\times 3 \\\\\\\\\n",
        "    1 \\times 4 + 4 \\times 3 \\\\\\\\\n",
        "    7 \\times 4 + 6 \\times 3\n",
        "\\end{bmatrix}\\\\\\\\\n",
        "&=\n",
        "\\begin{bmatrix}\n",
        "    16 \\\\\\\\\n",
        "    13 \\\\\\\\\n",
        "    47\n",
        "\\end{bmatrix}+\n",
        "\\begin{bmatrix}\n",
        "    17 \\\\\\\\\n",
        "    16 \\\\\\\\\n",
        "    46\n",
        "\\end{bmatrix}=\n",
        "\\begin{bmatrix}\n",
        "    33 \\\\\\\\\n",
        "    29 \\\\\\\\\n",
        "    93\n",
        "\\end{bmatrix}\n",
        "\\end{align*}\n",
        "$$"
      ]
    },
    {
      "cell_type": "code",
      "metadata": {
        "hideCode": false,
        "hidePrompt": false,
        "colab": {
          "base_uri": "https://localhost:8080/"
        },
        "id": "iW8W2v_BpXYb",
        "outputId": "53f05506-75b9-4cb8-9fab-0b2a3cf1a8be"
      },
      "source": [
        "A = np.array([[2, 3], [1, 4], [7, 6]])\n",
        "A"
      ],
      "execution_count": 11,
      "outputs": [
        {
          "output_type": "execute_result",
          "data": {
            "text/plain": [
              "array([[2, 3],\n",
              "       [1, 4],\n",
              "       [7, 6]])"
            ]
          },
          "metadata": {
            "tags": []
          },
          "execution_count": 11
        }
      ]
    },
    {
      "cell_type": "code",
      "metadata": {
        "colab": {
          "base_uri": "https://localhost:8080/"
        },
        "id": "We9v9j7apXYc",
        "outputId": "5e13e926-c1c3-41a8-f8b1-db3dfa7cce98"
      },
      "source": [
        "B = np.array([[5], [2]])\n",
        "B"
      ],
      "execution_count": 12,
      "outputs": [
        {
          "output_type": "execute_result",
          "data": {
            "text/plain": [
              "array([[5],\n",
              "       [2]])"
            ]
          },
          "metadata": {
            "tags": []
          },
          "execution_count": 12
        }
      ]
    },
    {
      "cell_type": "code",
      "metadata": {
        "hideCode": false,
        "hidePrompt": false,
        "colab": {
          "base_uri": "https://localhost:8080/"
        },
        "id": "Uyr1fD7cpXYd",
        "outputId": "86104e66-a8a0-48cd-f861-cc61d5542233"
      },
      "source": [
        "C = np.array([[4], [3]])\n",
        "C"
      ],
      "execution_count": 13,
      "outputs": [
        {
          "output_type": "execute_result",
          "data": {
            "text/plain": [
              "array([[4],\n",
              "       [3]])"
            ]
          },
          "metadata": {
            "tags": []
          },
          "execution_count": 13
        }
      ]
    },
    {
      "cell_type": "markdown",
      "metadata": {
        "id": "iCIeRMoopXYd"
      },
      "source": [
        "$\\bs{A}(\\bs{B}+\\bs{C})$:"
      ]
    },
    {
      "cell_type": "code",
      "metadata": {
        "hideCode": false,
        "hidePrompt": false,
        "colab": {
          "base_uri": "https://localhost:8080/"
        },
        "id": "Ri7IXCtrpXYd",
        "outputId": "fc10f954-c535-4da3-e446-3a2bea44c201"
      },
      "source": [
        "D = A.dot(B+C)\n",
        "D"
      ],
      "execution_count": 14,
      "outputs": [
        {
          "output_type": "execute_result",
          "data": {
            "text/plain": [
              "array([[33],\n",
              "       [29],\n",
              "       [93]])"
            ]
          },
          "metadata": {
            "tags": []
          },
          "execution_count": 14
        }
      ]
    },
    {
      "cell_type": "markdown",
      "metadata": {
        "id": "eed0J1DRpXYf"
      },
      "source": [
        "is equivalent to $\\bs{AB}+\\bs{AC}$:"
      ]
    },
    {
      "cell_type": "code",
      "metadata": {
        "hideCode": false,
        "hidePrompt": false,
        "colab": {
          "base_uri": "https://localhost:8080/"
        },
        "id": "zHn8FzrJpXYf",
        "outputId": "fc6fcced-cd67-4eb7-9acd-aa3eb77aec51"
      },
      "source": [
        "D = A.dot(B) + A.dot(C)\n",
        "D"
      ],
      "execution_count": 15,
      "outputs": [
        {
          "output_type": "execute_result",
          "data": {
            "text/plain": [
              "array([[33],\n",
              "       [29],\n",
              "       [93]])"
            ]
          },
          "metadata": {
            "tags": []
          },
          "execution_count": 15
        }
      ]
    },
    {
      "cell_type": "markdown",
      "metadata": {
        "hideCode": false,
        "hidePrompt": false,
        "id": "BnApMq1npXYg"
      },
      "source": [
        "## Множення матриць є асоціативним\n",
        "\n",
        "$$\\bs{A}(\\bs{BC}) = (\\bs{AB})\\bs{C}$$\n"
      ]
    },
    {
      "cell_type": "code",
      "metadata": {
        "hideCode": false,
        "hidePrompt": false,
        "colab": {
          "base_uri": "https://localhost:8080/"
        },
        "id": "MZvhFccMpXYg",
        "outputId": "d9648f1b-5663-484d-df50-25920dd983a1"
      },
      "source": [
        "A = np.array([[2, 3], [1, 4], [7, 6]])\n",
        "A"
      ],
      "execution_count": 16,
      "outputs": [
        {
          "output_type": "execute_result",
          "data": {
            "text/plain": [
              "array([[2, 3],\n",
              "       [1, 4],\n",
              "       [7, 6]])"
            ]
          },
          "metadata": {
            "tags": []
          },
          "execution_count": 16
        }
      ]
    },
    {
      "cell_type": "code",
      "metadata": {
        "colab": {
          "base_uri": "https://localhost:8080/"
        },
        "id": "PouTmWUapXYg",
        "outputId": "79c413b9-7d28-46bb-e4f9-fc06013e496f"
      },
      "source": [
        "B = np.array([[5, 3], [2, 2]])\n",
        "B"
      ],
      "execution_count": 17,
      "outputs": [
        {
          "output_type": "execute_result",
          "data": {
            "text/plain": [
              "array([[5, 3],\n",
              "       [2, 2]])"
            ]
          },
          "metadata": {
            "tags": []
          },
          "execution_count": 17
        }
      ]
    },
    {
      "cell_type": "markdown",
      "metadata": {
        "id": "kCoCsOCipXYh"
      },
      "source": [
        "$\\bs{A}(\\bs{BC})$:\n"
      ]
    },
    {
      "cell_type": "code",
      "metadata": {
        "hideCode": false,
        "hidePrompt": false,
        "colab": {
          "base_uri": "https://localhost:8080/"
        },
        "id": "4t6agw7epXYi",
        "outputId": "54bd0038-5830-4682-f109-25185b74cfaa"
      },
      "source": [
        "D = A.dot(B.dot(C))\n",
        "D"
      ],
      "execution_count": 18,
      "outputs": [
        {
          "output_type": "execute_result",
          "data": {
            "text/plain": [
              "array([[100],\n",
              "       [ 85],\n",
              "       [287]])"
            ]
          },
          "metadata": {
            "tags": []
          },
          "execution_count": 18
        }
      ]
    },
    {
      "cell_type": "markdown",
      "metadata": {
        "id": "KCZ4DhdmpXYi"
      },
      "source": [
        "еквівалонтно до $(\\bs{AB})\\bs{C}$:"
      ]
    },
    {
      "cell_type": "code",
      "metadata": {
        "hideCode": false,
        "hidePrompt": false,
        "colab": {
          "base_uri": "https://localhost:8080/"
        },
        "id": "5GsrGiRWpXYi",
        "outputId": "d882e5a6-b23b-45be-ad76-fb0aa0217045"
      },
      "source": [
        "D = (A.dot(B)).dot(C)\n",
        "D"
      ],
      "execution_count": 19,
      "outputs": [
        {
          "output_type": "execute_result",
          "data": {
            "text/plain": [
              "array([[100],\n",
              "       [ 85],\n",
              "       [287]])"
            ]
          },
          "metadata": {
            "tags": []
          },
          "execution_count": 19
        }
      ]
    },
    {
      "cell_type": "markdown",
      "metadata": {
        "hideCode": false,
        "hidePrompt": false,
        "id": "hObP8EOZpXYj"
      },
      "source": [
        "## Множення матриць не є комутативним\n",
        "\n",
        "$$\\bs{AB} \\neq \\bs{BA}$$"
      ]
    },
    {
      "cell_type": "code",
      "metadata": {
        "hideCode": false,
        "hidePrompt": false,
        "colab": {
          "base_uri": "https://localhost:8080/"
        },
        "id": "hLS-m8wopXYk",
        "outputId": "f63df9d0-7e63-456d-ca5b-12d52f9e7790"
      },
      "source": [
        "A = np.array([[2, 3], [6, 5]])\n",
        "A"
      ],
      "execution_count": 20,
      "outputs": [
        {
          "output_type": "execute_result",
          "data": {
            "text/plain": [
              "array([[2, 3],\n",
              "       [6, 5]])"
            ]
          },
          "metadata": {
            "tags": []
          },
          "execution_count": 20
        }
      ]
    },
    {
      "cell_type": "code",
      "metadata": {
        "colab": {
          "base_uri": "https://localhost:8080/"
        },
        "id": "FJS-DLEKpXYk",
        "outputId": "fe341ed6-355d-4abe-b16a-4a939280c737"
      },
      "source": [
        "B = np.array([[5, 3], [2, 2]])\n",
        "B"
      ],
      "execution_count": 21,
      "outputs": [
        {
          "output_type": "execute_result",
          "data": {
            "text/plain": [
              "array([[5, 3],\n",
              "       [2, 2]])"
            ]
          },
          "metadata": {
            "tags": []
          },
          "execution_count": 21
        }
      ]
    },
    {
      "cell_type": "markdown",
      "metadata": {
        "id": "EEWLjaA_pXYk"
      },
      "source": [
        "$\\bs{AB}$:"
      ]
    },
    {
      "cell_type": "code",
      "metadata": {
        "hideCode": false,
        "hidePrompt": false,
        "colab": {
          "base_uri": "https://localhost:8080/"
        },
        "id": "tBgaj1ecpXYk",
        "outputId": "0a99d7da-4097-4201-8492-d550b5227614"
      },
      "source": [
        "AB = np.dot(A, B)\n",
        "AB"
      ],
      "execution_count": 22,
      "outputs": [
        {
          "output_type": "execute_result",
          "data": {
            "text/plain": [
              "array([[16, 12],\n",
              "       [40, 28]])"
            ]
          },
          "metadata": {
            "tags": []
          },
          "execution_count": 22
        }
      ]
    },
    {
      "cell_type": "markdown",
      "metadata": {
        "id": "U_wg24xupXYl"
      },
      "source": [
        "відрізняється від $\\bs{BA}$:"
      ]
    },
    {
      "cell_type": "code",
      "metadata": {
        "hideCode": false,
        "hidePrompt": false,
        "colab": {
          "base_uri": "https://localhost:8080/"
        },
        "id": "pvxS6DkjpXYl",
        "outputId": "131cdca5-cc7a-4f56-acee-ce29c7a26fa5"
      },
      "source": [
        "BA = np.dot(B, A)\n",
        "BA"
      ],
      "execution_count": 23,
      "outputs": [
        {
          "output_type": "execute_result",
          "data": {
            "text/plain": [
              "array([[28, 30],\n",
              "       [16, 16]])"
            ]
          },
          "metadata": {
            "tags": []
          },
          "execution_count": 23
        }
      ]
    },
    {
      "cell_type": "markdown",
      "metadata": {
        "hideCode": false,
        "hidePrompt": false,
        "id": "Tny3h4KXpXYm"
      },
      "source": [
        "## Однак векторне множення є комутативним\n",
        "\n",
        "$$\\bs{x^{ \\text{T}}y} = \\bs{y^{\\text{T}}x} $$"
      ]
    },
    {
      "cell_type": "code",
      "metadata": {
        "hideCode": false,
        "hidePrompt": false,
        "colab": {
          "base_uri": "https://localhost:8080/"
        },
        "id": "XQmYECMIpXYm",
        "outputId": "b463846d-7d38-4628-ee1b-8f7e5db400bb"
      },
      "source": [
        "x = np.array([[2], [6]])\n",
        "x"
      ],
      "execution_count": 24,
      "outputs": [
        {
          "output_type": "execute_result",
          "data": {
            "text/plain": [
              "array([[2],\n",
              "       [6]])"
            ]
          },
          "metadata": {
            "tags": []
          },
          "execution_count": 24
        }
      ]
    },
    {
      "cell_type": "code",
      "metadata": {
        "colab": {
          "base_uri": "https://localhost:8080/"
        },
        "id": "PZyFyXfppXYn",
        "outputId": "79486d8b-1bd6-499a-962d-d58c9311a480"
      },
      "source": [
        "y = np.array([[5], [2]])\n",
        "y"
      ],
      "execution_count": 25,
      "outputs": [
        {
          "output_type": "execute_result",
          "data": {
            "text/plain": [
              "array([[5],\n",
              "       [2]])"
            ]
          },
          "metadata": {
            "tags": []
          },
          "execution_count": 25
        }
      ]
    },
    {
      "cell_type": "markdown",
      "metadata": {
        "id": "5tIpRvcapXYn"
      },
      "source": [
        "$\\bs{x^\\text{T}y}$:"
      ]
    },
    {
      "cell_type": "code",
      "metadata": {
        "hideCode": false,
        "hidePrompt": false,
        "colab": {
          "base_uri": "https://localhost:8080/"
        },
        "id": "VXESlmdZpXYo",
        "outputId": "813b8cb2-c470-46ac-eac0-4b1b38ac8d98"
      },
      "source": [
        "x_ty = x.T.dot(y)\n",
        "x_ty"
      ],
      "execution_count": 26,
      "outputs": [
        {
          "output_type": "execute_result",
          "data": {
            "text/plain": [
              "array([[22]])"
            ]
          },
          "metadata": {
            "tags": []
          },
          "execution_count": 26
        }
      ]
    },
    {
      "cell_type": "markdown",
      "metadata": {
        "id": "n392sgZlpXYo"
      },
      "source": [
        "еквівалентно до $\\bs{y^\\text{T}x}$:"
      ]
    },
    {
      "cell_type": "code",
      "metadata": {
        "hideCode": false,
        "hidePrompt": false,
        "colab": {
          "base_uri": "https://localhost:8080/"
        },
        "id": "VpX61edepXYo",
        "outputId": "c5082af9-fe8d-4968-fc9f-47983998c352"
      },
      "source": [
        "y_tx = y.T.dot(x)\n",
        "y_tx"
      ],
      "execution_count": 27,
      "outputs": [
        {
          "output_type": "execute_result",
          "data": {
            "text/plain": [
              "array([[22]])"
            ]
          },
          "metadata": {
            "tags": []
          },
          "execution_count": 27
        }
      ]
    },
    {
      "cell_type": "markdown",
      "metadata": {
        "hideCode": false,
        "hidePrompt": false,
        "id": "KbB-UbJIpXYp"
      },
      "source": [
        "## Спрощення матричного добутку\n",
        "\n",
        "$$(\\bs{AB})^{\\text{T}} = \\bs{B}^\\text{T}\\bs{A}^\\text{T}$$"
      ]
    },
    {
      "cell_type": "code",
      "metadata": {
        "hideCode": false,
        "hidePrompt": false,
        "colab": {
          "base_uri": "https://localhost:8080/"
        },
        "id": "EHgdktPBpXYp",
        "outputId": "85b0ca96-100f-44f4-f305-78afcd5642dd"
      },
      "source": [
        "A = np.array([[2, 3], [1, 4], [7, 6]])\n",
        "A"
      ],
      "execution_count": 28,
      "outputs": [
        {
          "output_type": "execute_result",
          "data": {
            "text/plain": [
              "array([[2, 3],\n",
              "       [1, 4],\n",
              "       [7, 6]])"
            ]
          },
          "metadata": {
            "tags": []
          },
          "execution_count": 28
        }
      ]
    },
    {
      "cell_type": "code",
      "metadata": {
        "colab": {
          "base_uri": "https://localhost:8080/"
        },
        "id": "LDcWzaO6pXYr",
        "outputId": "68b863ce-baa9-444c-9d2c-24e7e0065c50"
      },
      "source": [
        "B = np.array([[5, 3], [2, 2]])\n",
        "B"
      ],
      "execution_count": 29,
      "outputs": [
        {
          "output_type": "execute_result",
          "data": {
            "text/plain": [
              "array([[5, 3],\n",
              "       [2, 2]])"
            ]
          },
          "metadata": {
            "tags": []
          },
          "execution_count": 29
        }
      ]
    },
    {
      "cell_type": "markdown",
      "metadata": {
        "hideCode": false,
        "hidePrompt": false,
        "id": "q9ylSsCOpXYr"
      },
      "source": [
        "$(\\bs{AB})^{\\text{T}}$:"
      ]
    },
    {
      "cell_type": "code",
      "metadata": {
        "hideCode": false,
        "hidePrompt": false,
        "colab": {
          "base_uri": "https://localhost:8080/"
        },
        "id": "mBmLhkeRpXYr",
        "outputId": "95a06e41-94b9-48a9-c254-ea8ef87b0ef3"
      },
      "source": [
        "AB_t = A.dot(B).T\n",
        "AB_t"
      ],
      "execution_count": 30,
      "outputs": [
        {
          "output_type": "execute_result",
          "data": {
            "text/plain": [
              "array([[16, 13, 47],\n",
              "       [12, 11, 33]])"
            ]
          },
          "metadata": {
            "tags": []
          },
          "execution_count": 30
        }
      ]
    },
    {
      "cell_type": "markdown",
      "metadata": {
        "hideCode": false,
        "hidePrompt": false,
        "id": "eaXaeo-kpXYs"
      },
      "source": [
        "Еквівалентно до $\\bs{B}^\\text{T}\\bs{A}^\\text{T}$:"
      ]
    },
    {
      "cell_type": "code",
      "metadata": {
        "hideCode": false,
        "hidePrompt": false,
        "scrolled": true,
        "colab": {
          "base_uri": "https://localhost:8080/"
        },
        "id": "qgFrERCPpXYs",
        "outputId": "ea31facb-6288-47a6-b2a1-d5425ac38ef3"
      },
      "source": [
        "B_tA = B.T.dot(A.T)\n",
        "B_tA"
      ],
      "execution_count": 31,
      "outputs": [
        {
          "output_type": "execute_result",
          "data": {
            "text/plain": [
              "array([[16, 13, 47],\n",
              "       [12, 11, 33]])"
            ]
          },
          "metadata": {
            "tags": []
          },
          "execution_count": 31
        }
      ]
    },
    {
      "cell_type": "markdown",
      "metadata": {
        "hideCode": false,
        "hidePrompt": false,
        "id": "dz153P6kpXYt"
      },
      "source": [
        "# Система лінійних рівнянь\n",
        "\n",
        "Це важлива частина того, чому лінійна алгебра може бути дуже корисною для вирішення великого розмаїття задач. Тут ми побачимо, що її можна використовувати для представлення систем рівнянь.\n",
        "\n",
        "Система рівнянь - це сукупність кратних рівнянь (принаймні 1). Наприклад:\n",
        "\n",
        "<div>\n",
        "$\n",
        "\\begin{cases}\n",
        "y = 2x + 1 \\\\\\\n",
        "y = \\frac{7}{2}x +3\n",
        "\\end{cases}\n",
        "$\n",
        "</div>\n",
        "\n",
        "Вона визначається кількістю рівнянь та кількістю невідомих. У цьому прикладі є 2 рівняння (перший і другий рядок) і 2 невідомих ($ x $ і $ y $). Крім того, ми називаємо це системою ** лінійних ** рівнянь, оскільки кожне рівняння є лінійним. Ми можемо представити це у двох вимірах: у нас є одна пряма лінія на рівняння, її розміри відповідають невідомим. Ось графік першого рівняння:\n",
        "\n",
        "<img src=\"images/plot-linear-equation.png\" width=\"300\" alt=\"Представлення прямої з рівняння\" title=\"Ділянка лінійного рівняння\">\n",
        "<em>Представлення лінійного рівняння</em>\n",
        "\n",
        "<span class='pquote'>\n",
        "    У нашій системі рівнянь невідомі є розмірами, а кількість рівнянь - кількість прямих (у 2D) або $ n $ -вимірних площинах.\n",
        "</span>"
      ]
    },
    {
      "cell_type": "markdown",
      "metadata": {
        "id": "CCJelZpopXYt"
      },
      "source": [
        "## Використання матриць для опису системи\n",
        "\n",
        "Матриці можна використовувати для опису системи лінійних рівнянь виду $\\bs{Ax}=\\bs{b}$. Ось така система:\n",
        "\n",
        "$$\n",
        "A_{1,1}x_1 + A_{1,2}x_2 + A_{1,n}x_n = b_1 \\\\\\\\\n",
        "A_{2,1}x_1 + A_{2,2}x_2 + A_{2,n}x_n = b_2 \\\\\\\\\n",
        "\\cdots \\\\\\\\\n",
        "A_{m,1}x_1 + A_{m,2}x_2 + A_{m,n}x_n = b_n\n",
        "$$\n",
        "\n",
        "Невідомими (що ми хочемо знайти для вирішення системи) є змінні $x_1$ і $x_2$. Це точно така ж форма, як і в останньому прикладі, але з усіма змінними на одній стороні. $y = 2x + 1$ стає $-2x + y = 1$, причому $x$ відповідає $x_1$, а $y$ відповідає $x_2$. Ми матимемо $n$ невідомих та $m$ рівнянь.\n",
        "\n",
        "Змінні називаються $x_1, x_2, \\cdots, x_n$ за домовленістю, оскільки ми побачимо, що їх можна узагальнити у векторі $\\bs{x}$.\n",
        "\n",
        "### Ліва сторона\n",
        "\n",
        "Лівий бік можна розглядати як добуток матриці $\\bs{A}$, що містить ваги для кожної змінної ($n$ стовпців) і кожного рівняння ($m$ рядка):\n",
        "\n",
        "<div>\n",
        "$\n",
        "\\bs{A}=\n",
        "\\begin{bmatrix}\n",
        "    A_{1,1} & A_{1,2} & \\cdots & A_{1,n} \\\\\\\n",
        "    A_{2,1} & A_{2,2} & \\cdots & A_{2,n} \\\\\\\n",
        "    \\cdots & \\cdots & \\cdots & \\cdots \\\\\\\n",
        "    A_{m,1} & A_{m,2} & \\cdots & A_{m,n}\n",
        "\\end{bmatrix}\n",
        "$\n",
        "</div>\n",
        "\n",
        "з вектором $\\bs{x}$, що містить $n$ невідомих\n",
        "\n",
        "<div>\n",
        "$\n",
        "\\bs{x}=\n",
        "\\begin{bmatrix}\n",
        "    x_1 \\\\\\\n",
        "    x_2 \\\\\\\n",
        "    \\cdots \\\\\\\n",
        "    x_n\n",
        "\\end{bmatrix}\n",
        "$\n",
        "</div>\n",
        "\n",
        "Скалярний добуток $\\bs{A}$ і $\\bs{x}$ дає набір рівнянь. Ось простий приклад:\n",
        "\n",
        "<img src=\"images/system-linear-equations-matrix-form.png\" width=\"400\" alt=\"Матрична форма системи лінійних рівнянь\" title=\"Матрична форма системи лінійних рівнянь\">\n",
        "<em>Матрична форма системи лінійних рівнянь</em>\n",
        "\n",
        "У нас є набір з двох рівнянь з двома невідомими. Отже, кількість рядків $\\bs{A}$ дає кількість рівнянь, а кількість стовпців - кількість невідомих.\n",
        "\n",
        "### Обидві сторони\n",
        "\n",
        "Систему рівнянь можна написати так:\n",
        "\n",
        "$$\n",
        "\\begin{bmatrix}\n",
        "    A_{1,1} & A_{1,2} & \\cdots & A_{1,n} \\\\\\\\\n",
        "    A_{2,1} & A_{2,2} & \\cdots & A_{2,n} \\\\\\\\\n",
        "    \\cdots & \\cdots & \\cdots & \\cdots \\\\\\\\\n",
        "    A_{m,1} & A_{m,2} & \\cdots & A_{m,n}\n",
        "\\end{bmatrix}\n",
        "\\begin{bmatrix}\n",
        "    x_1 \\\\\\\\\n",
        "    x_2 \\\\\\\\\n",
        "    \\cdots \\\\\\\\\n",
        "    x_n\n",
        "\\end{bmatrix}\n",
        "=\n",
        "\\begin{bmatrix}\n",
        "    b_1 \\\\\\\\\n",
        "    b_2 \\\\\\\\\n",
        "    \\cdots \\\\\\\\\n",
        "    b_m\n",
        "\\end{bmatrix}\n",
        "$$\n",
        "\n",
        "Або простіше:\n",
        "\n",
        "$$\\bs{Ax}=\\bs{b}$$"
      ]
    },
    {
      "cell_type": "markdown",
      "metadata": {
        "id": "2v-BruV_pXYt"
      },
      "source": [
        "### Приклад 4.\n",
        "\n",
        "Ми спробуємо перетворити загальну форму лінійного рівняння $y = ax + b$ у матричну форму. Якщо ми хочемо зберегти попередню нотацію, то замість цього матимемо:\n",
        "\n",
        "<div>\n",
        "$x_2=ax_1+b$\n",
        "</div>\n",
        "\n",
        "Не плутайте змінні $x_1$ і $x_2$ з вектором $\\bs{x}$. Цей вектор містить усі змінні наших рівнянь:\n",
        "\n",
        "<div>\n",
        "$\n",
        "\\bs{x} =\n",
        "\\begin{bmatrix}\n",
        "    x_1 \\\\\\\n",
        "    x_2\n",
        "\\end{bmatrix}\n",
        "$\n",
        "</div>\n",
        "\n",
        "У цьому прикладі ми використаємо таке рівняння:\n",
        "\n",
        "<div>\n",
        "$\n",
        "\\begin{aligned}\n",
        "&x_2=2x_1+1 \\\\\\\n",
        "\\Leftrightarrow& 2x_1-x_2=-1\n",
        "\\end{aligned}\n",
        "$\n",
        "</div>\n",
        "\n",
        "Для того, щоб закінчити цю систему, коли ми множимо $\\bs{A}$ і $\\bs{x}$, нам потрібно, щоб $\\bs{A}$ містилп ваги кожної змінної. Вага $x_1$ становить $2$, а вага $x_2$ становить $-1$:\n",
        "\n",
        "<div>\n",
        "$\n",
        "\\bs{A}=\n",
        "\\begin{bmatrix}\n",
        "    2 & -1\n",
        "\\end{bmatrix}\n",
        "$\n",
        "</div>\n",
        "\n",
        "Отже, маємо\n",
        "\n",
        "<div>\n",
        "$\n",
        "\\begin{bmatrix}\n",
        "    2 & -1\n",
        "\\end{bmatrix}\n",
        "\\begin{bmatrix}\n",
        "    x_1 \\\\\\\n",
        "    x_2\n",
        "\\end{bmatrix}\n",
        "=\n",
        "\\begin{bmatrix}\n",
        "2x_1-1x_2\n",
        "\\end{bmatrix}\n",
        "$\n",
        "</div>\n",
        "\n",
        "Для завершення рівняння ми маємо\n",
        "\n",
        "<div>\n",
        "$\n",
        "\\bs{b}=\n",
        "\\begin{bmatrix}\n",
        "    -1\n",
        "\\end{bmatrix}\n",
        "$\n",
        "</div>\n",
        "\n",
        "що дає\n",
        "\n",
        "<div>\n",
        "$\n",
        "\\begin{bmatrix}\n",
        "    2 & -1\n",
        "\\end{bmatrix}\n",
        "\\begin{bmatrix}\n",
        "    x_1 \\\\\\\n",
        "    x_2\n",
        "\\end{bmatrix}\n",
        "=\n",
        "\\begin{bmatrix}\n",
        "    -1\n",
        "\\end{bmatrix}\n",
        "$\n",
        "</div>\n",
        "\n",
        "Таким чином, ця система рівнянь дуже проста і містить лише 1 рівняння ($\\bs{A}$ має 1 рядок) та 2 змінні ($\\bs{A}$ має 2 стовпці).\n",
        "\n",
        "Підводячи підсумок, $\\bs{A}$ буде матрицею вимірів $m\\times n$, що містить скаляри, що множать ці змінні (тут $x_1$ множиться на 2 та $x_2$ на -1). Вектор $\\bs{x}$ містить змінні $x_1$ і $x_2$. А справа - це константа $\\bs{b}$:\n",
        "\n",
        "<div>\n",
        "$\n",
        "\\bs{A}=\n",
        "\\begin{bmatrix}\n",
        "    2 & -1\n",
        "\\end{bmatrix}\n",
        "$\n",
        "</div>\n",
        "\n",
        "<div>\n",
        "$\n",
        "\\bs{x}=\n",
        "\\begin{bmatrix}\n",
        "    x_1 \\\\\\\n",
        "    x_2\n",
        "\\end{bmatrix}\n",
        "$\n",
        "</div>\n",
        "\n",
        "<div>\n",
        "$\n",
        "\\bs{b}=\n",
        "\\begin{bmatrix}\n",
        "    -1\n",
        "\\end{bmatrix}\n",
        "$\n",
        "</div>\n",
        "\n",
        "Ми можемо написати цю систему\n",
        "\n",
        "<div>\n",
        "$\n",
        "\\bs{Ax}=\\bs{b}\n",
        "$\n",
        "</div>\n",
        "\n",
        "Ми побачимо в кінці [наступного розділу](https://hadrienj.github.io/posts/Deep-Learning-Book-Series-2.3-Identity-and-Inverse-Matrices/) що цей компактний спосіб написання наборів лінійних рівнянь може бути дуже корисним. Він дозволяє вирішити рівняння."
      ]
    },
    {
      "cell_type": "markdown",
      "metadata": {
        "id": "m3PuAEvHpXYu"
      },
      "source": [
        "<span class='notes'>\n",
        "    Не соромтеся писати мені електронний лист чи коментар. Програму цієї серії можна знайти [у вступній статті](https://hadrienj.github.io/posts/Deep-Learning-Book-Series-Introduction/). Всі блокноти можна знайти на [Github](https://github.com/hadrienj/deepLearningBook-Notes).\n",
        "</span>"
      ]
    },
    {
      "cell_type": "markdown",
      "metadata": {
        "id": "5jdC8R0ppXYu"
      },
      "source": [
        "# Список літератури\n",
        "\n",
        "- [Math is fun - Multiplying matrices](https://www.mathsisfun.com/algebra/matrix-multiplying.html)- [Multiplying Matrices and Vectors](https://github.com/hadrienj/deepLearningBook-Notes/blob/master/2.2%20Multiplying%20Matrices%20and%20Vectors/2.2%20Multiplying%20Matrices%20and%20Vectors.ipynb)\n",
        "\n",
        "Переклад: Шапран Андрій, студент ІО-01мн, 2020 рік"
      ]
    }
  ]
}