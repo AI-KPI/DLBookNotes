{
  "nbformat": 4,
  "nbformat_minor": 0,
  "metadata": {
    "kernelspec": {
      "display_name": "Python 2",
      "language": "python",
      "name": "python2"
    },
    "language_info": {
      "codemirror_mode": {
        "name": "ipython",
        "version": 2
      },
      "file_extension": ".py",
      "mimetype": "text/x-python",
      "name": "python",
      "nbconvert_exporter": "python",
      "pygments_lexer": "ipython2",
      "version": "2.7.10"
    },
    "varInspector": {
      "cols": {
        "lenName": 16,
        "lenType": 16,
        "lenVar": 40
      },
      "kernels_config": {
        "python": {
          "delete_cmd_postfix": "",
          "delete_cmd_prefix": "del ",
          "library": "var_list.py",
          "varRefreshCmd": "print(var_dic_list())"
        },
        "r": {
          "delete_cmd_postfix": ") ",
          "delete_cmd_prefix": "rm(",
          "library": "var_list.r",
          "varRefreshCmd": "cat(var_dic_list()) "
        }
      },
      "types_to_exclude": [
        "module",
        "function",
        "builtin_function_or_method",
        "instance",
        "_Feature"
      ],
      "window_display": false
    },
    "colab": {
      "name": "2.6 Special Kinds of Matrices and Vectors_Бєдний Ярослав_ІО-02мп.ipynb",
      "provenance": []
    }
  },
  "cells": [
    {
      "cell_type": "markdown",
      "metadata": {
        "id": "3aHy0Clqc4dN"
      },
      "source": [
        "<a href=\"https://colab.research.google.com/github/AI-KPI/ml_intro/blob/main/linear_regression.ipynb\" target=\"_parent\"><img src=\"https://colab.research.google.com/assets/colab-badge.svg\" alt=\"Open In Colab\"/></a>"
      ]
    },
    {
      "cell_type": "code",
      "metadata": {
        "id": "Riw0rYUPcIrp"
      },
      "source": [
        "import numpy as np\n",
        "import matplotlib.pyplot as plt\n",
        "import seaborn as sns"
      ],
      "execution_count": null,
      "outputs": []
    },
    {
      "cell_type": "code",
      "metadata": {
        "id": "Nmj70IgRcIrv",
        "outputId": "fd48e2ce-5873-4ffd-8a93-b675ac8afcc1"
      },
      "source": [
        "# Plot parameters\n",
        "sns.set()\n",
        "%pylab inline\n",
        "pylab.rcParams['figure.figsize'] = (4, 4)\n",
        "plt.rcParams['xtick.major.size'] = 0\n",
        "plt.rcParams['ytick.major.size'] = 0\n",
        "# Avoid inaccurate floating values (for inverse matrices in dot product for instance)\n",
        "# See https://stackoverflow.com/questions/24537791/numpy-matrix-inversion-rounding-errors\n",
        "np.set_printoptions(suppress=True)"
      ],
      "execution_count": null,
      "outputs": [
        {
          "output_type": "stream",
          "text": [
            "Наповнення інтерактивного простору імені з numpy та matplotlib\n"
          ],
          "name": "stdout"
        }
      ]
    },
    {
      "cell_type": "code",
      "metadata": {
        "id": "XcusGryUcIry",
        "outputId": "26c3a2a8-7a83-4af7-cd5a-2752564651d9"
      },
      "source": [
        "%%html\n",
        "<style>\n",
        ".pquote {\n",
        "  text-align: left;\n",
        "  margin: 40px 0 40px auto;\n",
        "  width: 70%;\n",
        "  font-size: 1.5em;\n",
        "  font-style: italic;\n",
        "  display: block;\n",
        "  line-height: 1.3em;\n",
        "  color: #5a75a7;\n",
        "  font-weight: 600;\n",
        "  border-left: 5px solid rgba(90, 117, 167, .1);\n",
        "  padding-left: 6px;\n",
        "}\n",
        ".notes {\n",
        "  font-style: italic;\n",
        "  display: block;\n",
        "  margin: 40px 10%;\n",
        "}\n",
        "img + em {\n",
        "  text-align: center;\n",
        "  display: block;\n",
        "  color: gray;\n",
        "  font-size: 0.9em;\n",
        "  font-weight: 600;\n",
        "}\n",
        "</style>"
      ],
      "execution_count": null,
      "outputs": [
        {
          "output_type": "display_data",
          "data": {
            "text/html": [
              "<style>\n",
              ".pquote {\n",
              "  text-align: left;\n",
              "  margin: 40px 0 40px auto;\n",
              "  width: 70%;\n",
              "  font-size: 1.5em;\n",
              "  font-style: italic;\n",
              "  display: block;\n",
              "  line-height: 1.3em;\n",
              "  color: #5a75a7;\n",
              "  font-weight: 600;\n",
              "  border-left: 5px solid rgba(90, 117, 167, .1);\n",
              "  padding-left: 6px;\n",
              "}\n",
              ".notes {\n",
              "  font-style: italic;\n",
              "  display: block;\n",
              "  margin: 40px 10%;\n",
              "}\n",
              "img + em {\n",
              "  text-align: center;\n",
              "  display: block;\n",
              "  color: gray;\n",
              "  font-size: 0.9em;\n",
              "  font-weight: 600;\n",
              "}\n",
              "</style>"
            ],
            "text/plain": [
              "<IPython.core.display.HTML object>"
            ]
          },
          "metadata": {
            "tags": []
          }
        }
      ]
    },
    {
      "cell_type": "markdown",
      "metadata": {
        "id": "pMbq6WDDcIr1"
      },
      "source": [
        "$$\n",
        "\\newcommand\\bs[1]{\\boldsymbol{#1}}\n",
        "$$"
      ]
    },
    {
      "cell_type": "markdown",
      "metadata": {
        "id": "c_tBqGSKcIr2"
      },
      "source": [
        "<span class='notes'>\n",
        "    Цей матеріал є частиною серії що продовжує другий розділ лінійної алгебри з [Deep Learning Book](http://www.deeplearningbook.org/) за авторством Goodfellow, I., Bengio, Y., та Courville, A. (2016). Він спрямований на надання  підказок/малюнків/коду на мові python для математичних теорій і структурований так як я розумію ці концепції. Ви можете ознайомитися з навчальним планом у [вступному пості](https://hadrienj.github.io/posts/Deep-Learning-Book-Series-Introduction/).\n",
        "</span>"
      ]
    },
    {
      "cell_type": "markdown",
      "metadata": {
        "id": "3cQarFP7cIr4"
      },
      "source": [
        "# Вступ\n",
        "\n",
        "Ми вже бачили в [2.3](https://hadrienj.github.io/posts/Deep-Learning-Book-Series-2.3-Identity-and-Inverse-Matrices/) певні типи матриць. Ми ознайомимося з іншими цікавими видами векторів та матриць у цьому розділі. Він не дуже великий але важливо його зрозуміти.\n",
        "\n",
        "# 2.6 Особливі види матриць і векторів"
      ]
    },
    {
      "cell_type": "markdown",
      "metadata": {
        "id": "WNHvltgHcIr5"
      },
      "source": [
        "<img src=\"images/diagonal-and-symmetric-matrices.png\" width=\"400\" alt=\"Diagonal and symmetric matrices\" title=\"Diagonal and symmetric matrices\">\n",
        "<em>Приклади діагональних та симетричних матриць</em>\n",
        "\n",
        "\n",
        "# Діагональні матриці"
      ]
    },
    {
      "cell_type": "markdown",
      "metadata": {
        "id": "3K_FnM4YcIr6"
      },
      "source": [
        "<img src=\"images/diagonal-matrix.png\" width=\"150\" alt=\"Example of a diagonal matrix\" title=\"Diagonal matrix\">\n",
        "<em>Приклад діагональної матриці</em>\n",
        "\n",
        "Матриця $\\bs{A}_{i,j}$ є діагональною якщо всі її значення дорівнюють нулю окрім тих що знаходяться на діагоналі (коли $i=j$).\n",
        "\n",
        "### Приклад 1.\n",
        "\n",
        "$$\n",
        "\\bs{D}=\n",
        "\\begin{bmatrix}\n",
        "    2 & 0 & 0 & 0\\\\\\\\\n",
        "    0 & 4 & 0 & 0\\\\\\\\\n",
        "    0 & 0 & 3 & 0\\\\\\\\\n",
        "    0 & 0 & 0 & 1\n",
        "\\end{bmatrix}\n",
        "$$\n",
        "\n",
        "В даному випадку матриця також квадратна але можуть існувати не квадратні діагональні матриці.\n",
        "\n",
        "### Приклад 2.\n",
        "\n",
        "$$\n",
        "\\bs{D}=\n",
        "\\begin{bmatrix}\n",
        "    2 & 0 & 0\\\\\\\\\n",
        "    0 & 4 & 0\\\\\\\\\n",
        "    0 & 0 & 3\\\\\\\\\n",
        "    0 & 0 & 0\n",
        "\\end{bmatrix}\n",
        "$$\n",
        "\n",
        "Або\n",
        "\n",
        "$$\n",
        "\\bs{D}=\n",
        "\\begin{bmatrix}\n",
        "    2 & 0 & 0 & 0\\\\\\\\\n",
        "    0 & 4 & 0 & 0\\\\\\\\\n",
        "    0 & 0 & 3 & 0\n",
        "\\end{bmatrix}\n",
        "$$\n",
        "\n",
        "Діагональну матрицю можна позначити як $diag(\\bs{v})$ де $\\bs{v}$ є вектором що містить значення діагоналі.\n",
        "\n",
        "### Приклад 3.\n",
        "\n",
        "$$\n",
        "\\bs{D}=\n",
        "\\begin{bmatrix}\n",
        "    2 & 0 & 0 & 0\\\\\\\\\n",
        "    0 & 4 & 0 & 0\\\\\\\\\n",
        "    0 & 0 & 3 & 0\\\\\\\\\n",
        "    0 & 0 & 0 & 1\n",
        "\\end{bmatrix}\n",
        "$$\n",
        "\n",
        "У цій матриці, $\\bs{v}$ є наступним вектором:\n",
        "\n",
        "$$\n",
        "\\bs{v}=\n",
        "\\begin{bmatrix}\n",
        "    2\\\\\\\\\n",
        "    4\\\\\\\\\n",
        "    3\\\\\\\\\n",
        "    1\n",
        "\\end{bmatrix}\n",
        "$$\n",
        "\n",
        "Фунція Numpy `diag()` може використовуватися для створення квадратних діагональних матриць:"
      ]
    },
    {
      "cell_type": "code",
      "metadata": {
        "id": "vHna58f2cIr7",
        "outputId": "b95fae36-4d55-47b8-b79c-a9aa24f219b5"
      },
      "source": [
        "v = np.array([2, 4, 3, 1])\n",
        "np.diag(v)"
      ],
      "execution_count": null,
      "outputs": [
        {
          "output_type": "execute_result",
          "data": {
            "text/plain": [
              "array([[2, 0, 0, 0],\n",
              "       [0, 4, 0, 0],\n",
              "       [0, 0, 3, 0],\n",
              "       [0, 0, 0, 1]])"
            ]
          },
          "metadata": {
            "tags": []
          },
          "execution_count": 35
        }
      ]
    },
    {
      "cell_type": "markdown",
      "metadata": {
        "id": "Jt8G_g7wcIr8"
      },
      "source": [
        "Множення діагональної матриці на вектор є добутком відповідних елеметнів матриці на елементи вектрора $v$:\n",
        "\n",
        "### Приклад 4.\n",
        "\n",
        "$$\n",
        "\\bs{D}=\n",
        "\\begin{bmatrix}\n",
        "    2 & 0 & 0 & 0\\\\\\\\\n",
        "    0 & 4 & 0 & 0\\\\\\\\\n",
        "    0 & 0 & 3 & 0\\\\\\\\\n",
        "    0 & 0 & 0 & 1\n",
        "\\end{bmatrix}\n",
        "$$\n",
        "\n",
        "та\n",
        "\n",
        "$$\n",
        "\\bs{x}=\n",
        "\\begin{bmatrix}\n",
        "    3\\\\\\\\\n",
        "    2\\\\\\\\\n",
        "    2\\\\\\\\\n",
        "    7\n",
        "\\end{bmatrix}\n",
        "$$\n",
        "\n",
        "$$\n",
        "\\begin{align*}\n",
        "&\\bs{Dx}=\n",
        "\\begin{bmatrix}\n",
        "    2 & 0 & 0 & 0\\\\\\\\\n",
        "    0 & 4 & 0 & 0\\\\\\\\\n",
        "    0 & 0 & 3 & 0\\\\\\\\\n",
        "    0 & 0 & 0 & 1\n",
        "\\end{bmatrix} \\times\n",
        "\\begin{bmatrix}\n",
        "    3\\\\\\\\\n",
        "    2\\\\\\\\\n",
        "    2\\\\\\\\\n",
        "    7\n",
        "\\end{bmatrix}\\\\\\\\\n",
        "&=\\begin{bmatrix}\n",
        "    2\\times3 + 0\\times2 + 0\\times2 + 0\\times7\\\\\\\\\n",
        "    0\\times3 + 4\\times2 + 0\\times2 + 0\\times7\\\\\\\\\n",
        "    0\\times3 + 0\\times2 + 3\\times2 + 0\\times7\\\\\\\\\n",
        "    0\\times3 + 0\\times2 + 0\\times2 + 1\\times7\n",
        "\\end{bmatrix}\\\\\\\\\n",
        "&=\n",
        "\\begin{bmatrix}\n",
        "    2\\times3\\\\\\\\\n",
        "    4\\times2\\\\\\\\\n",
        "    3\\times2\\\\\\\\\n",
        "    1\\times7\n",
        "\\end{bmatrix}\n",
        "\\end{align*}\n",
        "$$"
      ]
    },
    {
      "cell_type": "markdown",
      "metadata": {
        "id": "HazDFS9mcIr9"
      },
      "source": [
        "Не квадрані матриці мають такі самі властивості:\n",
        "\n",
        "### Приклад 5.\n",
        "\n",
        "$$\n",
        "\\bs{D}=\n",
        "\\begin{bmatrix}\n",
        "    2 & 0 & 0\\\\\\\\\n",
        "    0 & 4 & 0\\\\\\\\\n",
        "    0 & 0 & 3\\\\\\\\\n",
        "    0 & 0 & 0\n",
        "\\end{bmatrix}\n",
        "$$\n",
        "\n",
        "та\n",
        "\n",
        "$$\n",
        "\\bs{x}=\n",
        "\\begin{bmatrix}\n",
        "    3\\\\\\\\\n",
        "    2\\\\\\\\\n",
        "    2\n",
        "\\end{bmatrix}\n",
        "$$\n",
        "\n",
        "$$\n",
        "\\bs{Dx}=\n",
        "\\begin{bmatrix}\n",
        "    2 & 0 & 0\\\\\\\\\n",
        "    0 & 4 & 0\\\\\\\\\n",
        "    0 & 0 & 3\\\\\\\\\n",
        "    0 & 0 & 0\n",
        "\\end{bmatrix}\n",
        "\\times\n",
        "\\begin{bmatrix}\n",
        "    3\\\\\\\\\n",
        "    2\\\\\\\\\n",
        "    2\n",
        "\\end{bmatrix}\n",
        "=\n",
        "\\begin{bmatrix}\n",
        "    2\\times3\\\\\\\\\n",
        "    4\\times2\\\\\\\\\n",
        "    3\\times2\\\\\\\\\n",
        "    0\n",
        "\\end{bmatrix}\n",
        "$$"
      ]
    },
    {
      "cell_type": "markdown",
      "metadata": {
        "id": "G8zjH3qpcIr_"
      },
      "source": [
        "Обернена матриця до квадратної діагональної матриці існує, якщо всі значення діагоналі не дорівнюють нулю. Якщо це так, то оберенену знайти легко. Крім того, обернена не існує якщо матриця не квадратна.\n",
        "\n",
        "$$\n",
        "\\bs{D}=\n",
        "\\begin{bmatrix}\n",
        "    2 & 0 & 0 & 0\\\\\\\\\n",
        "    0 & 4 & 0 & 0\\\\\\\\\n",
        "    0 & 0 & 3 & 0\\\\\\\\\n",
        "    0 & 0 & 0 & 1\n",
        "\\end{bmatrix}\n",
        "$$\n",
        "\n",
        "$$\n",
        "\\bs{D}^{-1}=\n",
        "\\begin{bmatrix}\n",
        "    \\frac{1}{2} & 0 & 0 & 0\\\\\\\\\n",
        "    0 & \\frac{1}{4} & 0 & 0\\\\\\\\\n",
        "    0 & 0 & \\frac{1}{3} & 0\\\\\\\\\n",
        "    0 & 0 & 0 & \\frac{1}{1}\n",
        "\\end{bmatrix}\n",
        "$$\n",
        "\n",
        "$$\n",
        "\\bs{D}=\n",
        "\\begin{bmatrix}\n",
        "    2 & 0 & 0 & 0\\\\\\\\\n",
        "    0 & 4 & 0 & 0\\\\\\\\\n",
        "    0 & 0 & 3 & 0\\\\\\\\\n",
        "    0 & 0 & 0 & 1\n",
        "\\end{bmatrix}\n",
        "\\begin{bmatrix}\n",
        "    \\frac{1}{2} & 0 & 0 & 0\\\\\\\\\n",
        "    0 & \\frac{1}{4} & 0 & 0\\\\\\\\\n",
        "    0 & 0 & \\frac{1}{3} & 0\\\\\\\\\n",
        "    0 & 0 & 0 & \\frac{1}{1}\n",
        "\\end{bmatrix}=\n",
        "\\begin{bmatrix}\n",
        "    1 & 0 & 0 & 0\\\\\\\\\n",
        "    0 & 1 & 0 & 0\\\\\\\\\n",
        "    0 & 0 & 1 & 0\\\\\\\\\n",
        "    0 & 0 & 0 & 1\n",
        "\\end{bmatrix}\n",
        "$$\n",
        "\n",
        "Виконаємо перевірку за допомогою Numpy того факту, що множення матриці на її оберенену дасть добуток у вигляді одиничної матриці:"
      ]
    },
    {
      "cell_type": "code",
      "metadata": {
        "id": "7D40X3gxcIsA",
        "outputId": "d45dd6b8-f061-4cf1-eb74-539bb9b9517e"
      },
      "source": [
        "A = np.array([[2, 0, 0, 0], [0, 4, 0, 0], [0, 0, 3, 0], [0, 0, 0, 1]])\n",
        "A"
      ],
      "execution_count": null,
      "outputs": [
        {
          "output_type": "execute_result",
          "data": {
            "text/plain": [
              "array([[2, 0, 0, 0],\n",
              "       [0, 4, 0, 0],\n",
              "       [0, 0, 3, 0],\n",
              "       [0, 0, 0, 1]])"
            ]
          },
          "metadata": {
            "tags": []
          },
          "execution_count": 36
        }
      ]
    },
    {
      "cell_type": "code",
      "metadata": {
        "id": "xZ_DXz0EcIsB",
        "outputId": "a02f0d69-a7eb-48c6-b35e-73a9257991bf"
      },
      "source": [
        "A_inv = np.array([[1/2., 0, 0, 0], [0, 1/4., 0, 0], [0, 0, 1/3., 0], [0, 0, 0, 1/1.]])\n",
        "A_inv"
      ],
      "execution_count": null,
      "outputs": [
        {
          "output_type": "execute_result",
          "data": {
            "text/plain": [
              "array([[ 0.5       ,  0.        ,  0.        ,  0.        ],\n",
              "       [ 0.        ,  0.25      ,  0.        ,  0.        ],\n",
              "       [ 0.        ,  0.        ,  0.33333333,  0.        ],\n",
              "       [ 0.        ,  0.        ,  0.        ,  1.        ]])"
            ]
          },
          "metadata": {
            "tags": []
          },
          "execution_count": 37
        }
      ]
    },
    {
      "cell_type": "code",
      "metadata": {
        "id": "E3bRswgocIsC",
        "outputId": "bf9a5d91-06c1-489a-972e-7a705327db80"
      },
      "source": [
        "A.dot(A_inv)"
      ],
      "execution_count": null,
      "outputs": [
        {
          "output_type": "execute_result",
          "data": {
            "text/plain": [
              "array([[ 1.,  0.,  0.,  0.],\n",
              "       [ 0.,  1.,  0.,  0.],\n",
              "       [ 0.,  0.,  1.,  0.],\n",
              "       [ 0.,  0.,  0.,  1.]])"
            ]
          },
          "metadata": {
            "tags": []
          },
          "execution_count": 38
        }
      ]
    },
    {
      "cell_type": "markdown",
      "metadata": {
        "id": "9QVasXPqcIsF"
      },
      "source": [
        "Чудово! Ми отримали одиничну матрицю"
      ]
    },
    {
      "cell_type": "markdown",
      "metadata": {
        "id": "RMXw1J7wcIsG"
      },
      "source": [
        "# Симетричні матриці"
      ]
    },
    {
      "cell_type": "markdown",
      "metadata": {
        "id": "P4pJ1VV9cIsG"
      },
      "source": [
        "<img src=\"images/symmetric-matrix.png\" width=\"150\" alt=\"Illustration of a symmetric matrix\" title=\"Symmetric matrix\">\n",
        "<em>Ілюстрація симетричної матриці</em>\n",
        "\n",
        "Матриця $A$ є симетричною якщо вона дорівнює транспонованій:\n",
        "    \n",
        "$$\n",
        "\\bs{A} = \\bs{A}^\\text{T}\n",
        "$$\n",
        "\n",
        "Це стосується лише квадратних матриць.\n",
        "\n",
        "### Приклад 6.\n",
        "\n",
        "$$\n",
        "\\bs{A}=\n",
        "\\begin{bmatrix}\n",
        "    2 & 4 & -1\\\\\\\\\n",
        "    4 & -8 & 0\\\\\\\\\n",
        "    -1 & 0 & 3\n",
        "\\end{bmatrix}\n",
        "$$"
      ]
    },
    {
      "cell_type": "code",
      "metadata": {
        "id": "oAhOzk90cIsI",
        "outputId": "19e7a4c0-3726-4195-879b-8296aeb6e328"
      },
      "source": [
        "A = np.array([[2, 4, -1], [4, -8, 0], [-1, 0, 3]])\n",
        "A"
      ],
      "execution_count": null,
      "outputs": [
        {
          "output_type": "execute_result",
          "data": {
            "text/plain": [
              "array([[ 2,  4, -1],\n",
              "       [ 4, -8,  0],\n",
              "       [-1,  0,  3]])"
            ]
          },
          "metadata": {
            "tags": []
          },
          "execution_count": 39
        }
      ]
    },
    {
      "cell_type": "code",
      "metadata": {
        "id": "GOH_3YTccIsJ",
        "outputId": "eb601e35-92aa-4616-8fd5-47c4aaae9fb0"
      },
      "source": [
        "A.T"
      ],
      "execution_count": null,
      "outputs": [
        {
          "output_type": "execute_result",
          "data": {
            "text/plain": [
              "array([[ 2,  4, -1],\n",
              "       [ 4, -8,  0],\n",
              "       [-1,  0,  3]])"
            ]
          },
          "metadata": {
            "tags": []
          },
          "execution_count": 40
        }
      ]
    },
    {
      "cell_type": "markdown",
      "metadata": {
        "id": "_SZEzFXScIsK"
      },
      "source": [
        "# Одиничні вектори\n",
        "\n",
        "Одницичний вектор - це вектор довжина якого довівнює 1. Він може позначатися буквою з капелюшком: $\\hat{u}$"
      ]
    },
    {
      "cell_type": "markdown",
      "metadata": {
        "id": "dK_pcptdcIsL"
      },
      "source": [
        "# Ортогональні вектори\n",
        "\n",
        "Два ортогональних вектора розділяються кутом в 90°. Скалярний добуток двох ортогональних векторів дорівнює 0.\n",
        "\n",
        "### Приклад 7."
      ]
    },
    {
      "cell_type": "code",
      "metadata": {
        "id": "t8YTwArRcIsL",
        "outputId": "256de77b-7347-4b87-8171-0056a423e6e3"
      },
      "source": [
        "x = [0,0,2,2]\n",
        "y = [0,0,2,-2]\n",
        "\n",
        "plt.quiver([x[0], y[0]],\n",
        "           [x[1], y[1]],\n",
        "           [x[2], y[2]],\n",
        "           [x[3], y[3]],\n",
        "           angles='xy', scale_units='xy', scale=1)\n",
        "\n",
        "plt.xlim(-2, 4)\n",
        "plt.ylim(-3, 3)\n",
        "plt.axvline(x=0, color='grey')\n",
        "plt.axhline(y=0, color='grey')\n",
        "\n",
        "plt.text(1, 1.5, r'$\\vec{u}$', size=18)\n",
        "plt.text(1.5, -1, r'$\\vec{v}$', size=18)\n",
        "\n",
        "plt.show()\n",
        "plt.close()"
      ],
      "execution_count": null,
      "outputs": [
        {
          "output_type": "display_data",
          "data": {
            "image/png": "[encoded data removed]",
            "text/plain": [
              "<matplotlib.figure.Figure at 0x108ea0650>"
            ]
          },
          "metadata": {
            "tags": []
          }
        }
      ]
    },
    {
      "cell_type": "markdown",
      "metadata": {
        "id": "Gq86ecSjcIsM"
      },
      "source": [
        "$$\n",
        "\\bs{x}= \n",
        "\\begin{bmatrix}\n",
        "    2\\\\\\\\\n",
        "    2\n",
        "\\end{bmatrix}\n",
        "$$\n",
        "\n",
        "та\n",
        "\n",
        "$$\n",
        "\\bs{y}=\n",
        "\\begin{bmatrix}\n",
        "    2\\\\\\\\\n",
        "    -2\n",
        "\\end{bmatrix}\n",
        "$$\n",
        "\n",
        "$$\n",
        "\\bs{x^\\text{T}y}=\n",
        "\\begin{bmatrix}\n",
        "    2 & 2\n",
        "\\end{bmatrix}\n",
        "\\begin{bmatrix}\n",
        "    2\\\\\\\\\n",
        "    -2\n",
        "\\end{bmatrix}=\n",
        "\\begin{bmatrix}\n",
        "    2\\times2 + 2\\times-2\n",
        "\\end{bmatrix}=0\n",
        "$$\n",
        "\n",
        "Крім того, коли довжина ортогональних векторів є одиничною, їх називають **ортонормальними**."
      ]
    },
    {
      "cell_type": "markdown",
      "metadata": {
        "id": "Xz36HDwEcIsM"
      },
      "source": [
        "<span class='pquote'>\n",
        "    Неможливо мати більше ніж $n$ векторів взаємно ортогональних у $\\mathbb{R}^n$.\n",
        "</span>\n",
        "\n",
        "Неможливо мати більше ніж $n$ векторів взаємно ортогональних у $\\mathbb{R}^n$. Для прикладу, спробуйте намалювати 3 вектори у двовимірному просторі ($\\mathbb{R}^2$) які є взаємно ортогональними...\n"
      ]
    },
    {
      "cell_type": "markdown",
      "metadata": {
        "id": "08ICdzDxcIsN"
      },
      "source": [
        "# Ортогональні матриці\n",
        "\n",
        "Ортогональні матриці важливі тим ,що вони мають цікаві властивості. Матриця є ортогональною якщо стовбці взаємно ортогональні і мають одиничну довжину (ортонормальні) і рядки є взаємно ортогональними та мають одиничну довжину. \n",
        "\n",
        "\n",
        "<img src=\"images/orthogonal-matrix.png\" width=\"300\" alt=\"Under the hood of an orthogonal matrix\" title=\"Under the hood of an orthogonal matrix\">\n",
        "<em>Під капотом ортогональної матриці</em>\n",
        "\n",
        "$$\n",
        "\\bs{A}= \n",
        "\\begin{bmatrix}\n",
        "    A_{1,1} & A_{1,2}\\\\\\\\\n",
        "    A_{2,1} & A_{2,2}\n",
        "\\end{bmatrix}\n",
        "$$\n",
        "\n",
        "Це означає що \n",
        "\n",
        "$$\n",
        "\\begin{bmatrix}\n",
        "    A_{1,1}\\\\\\\\\n",
        "    A_{2,1}\n",
        "\\end{bmatrix}\n",
        "$$\n",
        "\n",
        "та \n",
        "\n",
        "$$\n",
        "\\begin{bmatrix}\n",
        "    A_{1,2}\\\\\\\\\n",
        "    A_{2,2}\n",
        "\\end{bmatrix}\n",
        "$$\n",
        "\n",
        "є ортогональними векторами, а також, що рядки\n",
        "\n",
        "$$\n",
        "\\begin{bmatrix}\n",
        "    A_{1,1} & A_{1,2}\n",
        "\\end{bmatrix}\n",
        "$$\n",
        "\n",
        "та\n",
        "\n",
        "$$\n",
        "\\begin{bmatrix}\n",
        "    A_{2,1} & A_{2,2}\n",
        "\\end{bmatrix}\n",
        "$$\n",
        "\n",
        "є ортогональними векторами (пор. вище для визначення ортогональних векторів)."
      ]
    },
    {
      "cell_type": "markdown",
      "metadata": {
        "id": "Ma-6BfAZcIsO"
      },
      "source": [
        "## Властивість 1: $\\bs{A^\\text{T}A}=\\bs{I}$\n",
        "\n",
        "\n",
        "Ортогональні матриці мають цю властивість:\n",
        "\n",
        "$$\n",
        "\\bs{A^\\text{T}A}=\\bs{AA^\\text{T}}=\\bs{I}\n",
        "$$\n",
        "\n",
        "Ми можемо бачити, що це твердження відповідає дійсності з наступними міркуваннями:\n",
        "\n",
        "Давайте візьмемо таку матрицю:\n",
        "\n",
        "$$\n",
        "\\bs{A}=\\begin{bmatrix}\n",
        "    a & b\\\\\\\\\n",
        "    c & d\n",
        "\\end{bmatrix}\n",
        "$$\n",
        "\n",
        "і таку\n",
        "\n",
        "$$\n",
        "\\bs{A}^\\text{T}=\\begin{bmatrix}\n",
        "    a & c\\\\\\\\\n",
        "    b & d\n",
        "\\end{bmatrix}\n",
        "$$\n",
        "\n",
        "Виконаємо множення:\n",
        "\n",
        "$$\n",
        "\\begin{align*}\n",
        "&\\bs{A^\\text{T}A}=\\begin{bmatrix}\n",
        "    a & c\\\\\\\\\n",
        "    b & d\n",
        "\\end{bmatrix}\n",
        "\\begin{bmatrix}\n",
        "    a & b\\\\\\\\\n",
        "    c & d\n",
        "\\end{bmatrix}\n",
        "=\n",
        "\\begin{bmatrix}\n",
        "    aa + cc & ab + cd\\\\\\\\\n",
        "    ab + cd & bb + dd\n",
        "\\end{bmatrix}\\\\\\\\\n",
        "&=\n",
        "\\begin{bmatrix}\n",
        "    a^2 + c^2 & ab + cd\\\\\\\\\n",
        "    ab + cd & b^2 + d^2\n",
        "\\end{bmatrix}\n",
        "\\end{align*}\n",
        "$$\n",
        "\n",
        "Ми бачили в [2.5](https://hadrienj.github.io/posts/Deep-Learning-Book-Series-2.5-Norms/) що довжина вектора $\\begin{bmatrix}\n",
        "    a & c\n",
        "\\end{bmatrix}$ дорівнює $a^2+c^2$ ($L^2$ або квадрат $L^2$). Таким чином, ми бачимо що рядки $\\bs{A}$ має одиничну довжину оскільки $\\bs{A}$ є ортогональним. Це означає що $a^2+c^2=1$ та $b^2+d^2=1$. Тепер ми маємо:\n",
        "\n",
        "$$\n",
        "\\bs{A^\\text{T}A}=\n",
        "\\begin{bmatrix}\n",
        "    1 & ab + cd\\\\\\\\\n",
        "    ab + cd & 1\n",
        "\\end{bmatrix}\n",
        "$$\n",
        "\n",
        "Також, $ab+cd$ відповідає добутку $\\begin{bmatrix}\n",
        "    a & c\n",
        "\\end{bmatrix} and \\begin{bmatrix}\n",
        "    b & d\n",
        "\\end{bmatrix}$:\n",
        "\n",
        "$$\n",
        "\\begin{bmatrix}\n",
        "    a & c\n",
        "\\end{bmatrix}\n",
        "\\begin{bmatrix}\n",
        "    b\\\\\\\\\n",
        "    d\n",
        "\\end{bmatrix}\n",
        "=\n",
        "ab+cd\n",
        "$$\n",
        "\n",
        "Також ми знаємо що стовбці є ортогональними що означає:\n",
        "\n",
        "$$\n",
        "\\begin{bmatrix}\n",
        "    a & c\n",
        "\\end{bmatrix}\n",
        "\\begin{bmatrix}\n",
        "    b\\\\\\\\\n",
        "    d\n",
        "\\end{bmatrix}=0\n",
        "$$\n",
        "\n",
        "Маємо одничну матрицю:\n",
        "\n",
        "$$\n",
        "\\bs{A^\\text{T}A}=\\begin{bmatrix}\n",
        "    1 & 0\\\\\\\\\n",
        "    0 & 1\n",
        "\\end{bmatrix}\n",
        "$$"
      ]
    },
    {
      "cell_type": "markdown",
      "metadata": {
        "id": "AJHqJYAxcIsP"
      },
      "source": [
        "## Властивість 2: $\\bs{A}^\\text{T}=\\bs{A}^{-1}$\n",
        "\n",
        "Ми можемо продемонструвати це, якщо $\\bs{A^\\text{T}A}=\\bs{I}$ тоді $\n",
        "\\bs{A}^\\text{T}=\\bs{A}^{-1}$.\n",
        "\n",
        "Якщо помножити кожнк сторону рівняння $\\bs{A^\\text{T}A}=\\bs{I}$ на $\\bs{A}^{-1}$ ми матимемо:\n",
        "\n",
        "$$\n",
        "(\\bs{A^\\text{T}A})\\bs{A}^{-1}=\\bs{I}\\bs{A}^{-1}\n",
        "$$\n",
        "\n",
        "Згадайтез [2.3](https://hadrienj.github.io/posts/Deep-Learning-Book-Series-2.3-Identity-and-Inverse-Matrices/) що матриця або вектор не змінюється якщо їх множать на одиничну матрицю. Тоді маємо:\n",
        "\n",
        "$$\n",
        "(\\bs{A^\\text{T}A})\\bs{A}^{-1}=\\bs{A}^{-1}\n",
        "$$\n",
        "\n",
        "Також ми бачили в [2.2](https://hadrienj.github.io/posts/Deep-Learning-Book-Series-2.2-Multiplying-Matrices-and-Vectors/) що сноження матриць є асоціативним, тому ми можемо прибрати дужки:\n",
        "\n",
        "$$\n",
        "\\bs{A^\\text{T}A}\\bs{A}^{-1}=\\bs{A}^{-1}\n",
        "$$\n",
        "\n",
        "Нам відомо що $\\bs{A}\\bs{A}^{-1}=\\bs{I}$ (див. [2.3](https://hadrienj.github.io/posts/Deep-Learning-Book-Series-2.3-Identity-and-Inverse-Matrices/)) тому ми можемо замінити:\n",
        "\n",
        "$$\n",
        "\\bs{A^\\text{T}}\\bs{I}=\\bs{A}^{-1}\n",
        "$$\n",
        "\n",
        "Це показує наступне\n",
        "\n",
        "$$\\bs{A}^\\text{T}=\\bs{A}^{-1}$$\n",
        "\n",
        "Ви можете звернутися до [цього питання](https://math.stackexchange.com/questions/1936020/why-is-the-inverse-of-an-orthogonal-matrix-equal-to-its-transpose).\n",
        "\n",
        "### Приклад 8.\n",
        "\n",
        "Синус і косинус зручні для створення ортогональних матриць. Візьмемо таку матрицю:\n",
        "\n",
        "$$\n",
        "\\bs{A}= \n",
        "\\begin{bmatrix}\n",
        "    cos(50) & -sin(50)\\\\\\\\\n",
        "    sin(50) & cos(50)\n",
        "\\end{bmatrix}\n",
        "$$"
      ]
    },
    {
      "cell_type": "code",
      "metadata": {
        "id": "_8Ml368IcIsP",
        "outputId": "bf1327d2-c97c-4995-f7ef-447c76b5c506"
      },
      "source": [
        "A = np.array([[np.cos(50), -np.sin(50)], [np.sin(50), np.cos(50)]])\n",
        "A"
      ],
      "execution_count": null,
      "outputs": [
        {
          "output_type": "execute_result",
          "data": {
            "text/plain": [
              "array([[ 0.96496603,  0.26237485],\n",
              "       [-0.26237485,  0.96496603]])"
            ]
          },
          "metadata": {
            "tags": []
          },
          "execution_count": 5
        }
      ]
    },
    {
      "cell_type": "code",
      "metadata": {
        "id": "rjSyanRAcIsP"
      },
      "source": [
        "col0 = A[:, [0]]\n",
        "col1 = A[:, [1]]\n",
        "row0 = A[0].reshape(A.shape[1], 1)\n",
        "row1 = A[1].reshape(A.shape[1], 1)"
      ],
      "execution_count": null,
      "outputs": []
    },
    {
      "cell_type": "markdown",
      "metadata": {
        "id": "YYe8s-drcIsQ"
      },
      "source": [
        "Давайте перевіримо рядки та стовбці на ортогональність:"
      ]
    },
    {
      "cell_type": "code",
      "metadata": {
        "id": "6jwHZADXcIsQ",
        "outputId": "69ffca92-02ee-4d46-dff7-bc66689bccd5"
      },
      "source": [
        "col0.T.dot(col1)"
      ],
      "execution_count": null,
      "outputs": [
        {
          "output_type": "execute_result",
          "data": {
            "text/plain": [
              "array([[ 0.]])"
            ]
          },
          "metadata": {
            "tags": []
          },
          "execution_count": 44
        }
      ]
    },
    {
      "cell_type": "code",
      "metadata": {
        "id": "8glZaZ-YcIsS",
        "outputId": "5d8be24a-1845-4e65-b1f7-42c4eb456a39"
      },
      "source": [
        "row0.T.dot(row1)"
      ],
      "execution_count": null,
      "outputs": [
        {
          "output_type": "execute_result",
          "data": {
            "text/plain": [
              "array([[ 0.]])"
            ]
          },
          "metadata": {
            "tags": []
          },
          "execution_count": 45
        }
      ]
    },
    {
      "cell_type": "markdown",
      "metadata": {
        "id": "gZOWjj6YcIsT"
      },
      "source": [
        "Перевіримо це\n",
        "\n",
        "$$\n",
        "\\bs{A^\\text{T}A}=\\bs{AA^\\text{T}}=\\bs{I}\n",
        "$$\n",
        "\n",
        "і це\n",
        "\n",
        "$$\n",
        "\\bs{A}^\\text{T}=\\bs{A}^{-1}\n",
        "$$"
      ]
    },
    {
      "cell_type": "code",
      "metadata": {
        "id": "De_gTrTVcIsU",
        "outputId": "b99f2258-8bbc-4b58-e4b9-f733014e06f1"
      },
      "source": [
        "A.T.dot(A)"
      ],
      "execution_count": null,
      "outputs": [
        {
          "output_type": "execute_result",
          "data": {
            "text/plain": [
              "array([[ 1.,  0.],\n",
              "       [ 0.,  1.]])"
            ]
          },
          "metadata": {
            "tags": []
          },
          "execution_count": 46
        }
      ]
    },
    {
      "cell_type": "code",
      "metadata": {
        "id": "mNmuf0EdcIsU",
        "outputId": "9ebb749d-ff59-47da-f09a-49f5592259f4"
      },
      "source": [
        "A.T"
      ],
      "execution_count": null,
      "outputs": [
        {
          "output_type": "execute_result",
          "data": {
            "text/plain": [
              "array([[ 0.96496603, -0.26237485],\n",
              "       [ 0.26237485,  0.96496603]])"
            ]
          },
          "metadata": {
            "tags": []
          },
          "execution_count": 47
        }
      ]
    },
    {
      "cell_type": "code",
      "metadata": {
        "id": "j3apKaB3cIsV",
        "outputId": "2b695db2-d6d1-40e4-b20c-ad959570a18b"
      },
      "source": [
        "numpy.linalg.inv(A)"
      ],
      "execution_count": null,
      "outputs": [
        {
          "output_type": "execute_result",
          "data": {
            "text/plain": [
              "array([[ 0.96496603, -0.26237485],\n",
              "       [ 0.26237485,  0.96496603]])"
            ]
          },
          "metadata": {
            "tags": []
          },
          "execution_count": 48
        }
      ]
    },
    {
      "cell_type": "markdown",
      "metadata": {
        "id": "ZgWknzWwcIsW"
      },
      "source": [
        "Все правильно!\n",
        "\n",
        "# Підсумки\n",
        "\n",
        "У цьому розділі ми побачили різні цікаві типи матриць зі специфічними властивостями. Як правило, корисно згадати їх, коли ми маємо справу з такими матрицями.\n",
        "\n",
        "У наступному розділі ми побачимо центральну ідею лінійної алгебри: власне розкладання. Продовжуйте читати!"
      ]
    },
    {
      "cell_type": "markdown",
      "metadata": {
        "id": "oVjkDxKqcIsW"
      },
      "source": [
        "<span class='notes'>\n",
        "    Не соромтеся писати мені електронний лист чи коментар. Програму цієї серії можна знайти [у вступній статті](https://hadrienj.github.io/posts/Deep-Learning-Book-Series-Introduction/). Всі блокноти можна знайти на [Github](https://github.com/hadrienj/deepLearningBook-Notes).\n",
        "</span>"
      ]
    },
    {
      "cell_type": "markdown",
      "metadata": {
        "id": "Z4ZpyJ-UcIsX"
      },
      "source": [
        "# Список літератури\n",
        "\n",
        "## Обернення і транспонування ортогональних матриць\n",
        "\n",
        "- https://math.stackexchange.com/questions/1936020/why-is-the-inverse-of-an-orthogonal-matrix-equal-to-its-transpose\n",
        "\n",
        "- https://dyinglovegrape.wordpress.com/2010/11/30/the-inverse-of-an-orthogonal-matrix-is-its-transpose/\n",
        "- https://github.com/hadrienj/deepLearningBook-Notes/tree/master/2.6%20Special%20Kinds%20of%20Matrices%20and%20Vectors\n",
        "\n",
        "Переклад: Бєдний Ярослав, студент ІО-02мп, 2020 рік"
      ]
    },
    {
      "cell_type": "code",
      "metadata": {
        "id": "i-igGSRochm9"
      },
      "source": [
        ""
      ],
      "execution_count": null,
      "outputs": []
    }
  ]
}