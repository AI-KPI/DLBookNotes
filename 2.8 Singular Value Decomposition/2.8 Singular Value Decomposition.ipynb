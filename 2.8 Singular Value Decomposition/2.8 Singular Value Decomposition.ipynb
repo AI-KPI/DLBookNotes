{
  "nbformat": 4,
  "nbformat_minor": 0,
  "metadata": {
    "hide_code_all_hidden": false,
    "kernelspec": {
      "display_name": "Python 2",
      "language": "python",
      "name": "python2"
    },
    "language_info": {
      "codemirror_mode": {
        "name": "ipython",
        "version": 2
      },
      "file_extension": ".py",
      "mimetype": "text/x-python",
      "name": "python",
      "nbconvert_exporter": "python",
      "pygments_lexer": "ipython2",
      "version": "2.7.10"
    },
    "varInspector": {
      "cols": {
        "lenName": 16,
        "lenType": 16,
        "lenVar": 40
      },
      "kernels_config": {
        "python": {
          "delete_cmd_postfix": "",
          "delete_cmd_prefix": "del ",
          "library": "var_list.py",
          "varRefreshCmd": "print(var_dic_list())"
        },
        "r": {
          "delete_cmd_postfix": ") ",
          "delete_cmd_prefix": "rm(",
          "library": "var_list.r",
          "varRefreshCmd": "cat(var_dic_list()) "
        }
      },
      "types_to_exclude": [
        "module",
        "function",
        "builtin_function_or_method",
        "instance",
        "_Feature"
      ],
      "window_display": false
    },
    "colab": {
      "name": "Singular Value Decomposition_Шапран Андрій_ІО-01мн.ipynb",
      "provenance": [],
      "collapsed_sections": [
        "l5DIIfyxP7cw",
        "2i8U57BKP7c0",
        "MPULKFAGP7c_",
        "5MWhk5IZP7dB",
        "vw89sTUkP7dF"
      ]
    }
  },
  "cells": [
    {
      "cell_type": "markdown",
      "metadata": {
        "id": "8YhT7WL4QChH"
      },
      "source": [
        "<a href=\"https://colab.research.google.com/github/AI-KPI/DLBookNotes/blob/main/2.2 Multiplying Matrices and Vectors/2.2 Multiplying Matrices and Vectors.ipynb\" target=\"_parent\"><img src=\"https://colab.research.google.com/assets/colab-badge.svg\" alt=\"Open In Colab\"/></a>"
      ]
    },
    {
      "cell_type": "code",
      "metadata": {
        "scrolled": false,
        "id": "ncuYsK7OP7cT"
      },
      "source": [
        "import numpy as np\n",
        "import matplotlib.pyplot as plt\n",
        "import seaborn as sns"
      ],
      "execution_count": 1,
      "outputs": []
    },
    {
      "cell_type": "code",
      "metadata": {
        "colab": {
          "base_uri": "https://localhost:8080/"
        },
        "id": "zZyjslWLP7cY",
        "outputId": "97a86c4a-521e-466d-93db-924fa6d27c5e"
      },
      "source": [
        "# Стиль\n",
        "sns.set()\n",
        "%pylab inline\n",
        "pylab.rcParams['figure.figsize'] = (4, 4)\n",
        "# Уникайте неточних плаваючих значень (наприклад, для зворотних матриць у крапковому добутку)\n",
        "# Дивись https://stackoverflow.com/questions/24537791/numpy-matrix-inversion-rounding-errors\n",
        "np.set_printoptions(suppress=True)"
      ],
      "execution_count": 2,
      "outputs": [
        {
          "output_type": "stream",
          "text": [
            "Populating the interactive namespace from numpy and matplotlib\n"
          ],
          "name": "stdout"
        }
      ]
    },
    {
      "cell_type": "code",
      "metadata": {
        "colab": {
          "base_uri": "https://localhost:8080/",
          "height": 17
        },
        "id": "EA6uTX0YP7ca",
        "outputId": "f490fc65-0c40-4f73-a446-bb031270ff99"
      },
      "source": [
        "%%html\n",
        "<style>\n",
        ".pquote {\n",
        "  text-align: left;\n",
        "  margin: 40px 0 40px auto;\n",
        "  width: 70%;\n",
        "  font-size: 1.5em;\n",
        "  font-style: italic;\n",
        "  display: block;\n",
        "  line-height: 1.3em;\n",
        "  color: #5a75a7;\n",
        "  font-weight: 600;\n",
        "  border-left: 5px solid rgba(90, 117, 167, .1);\n",
        "  padding-left: 6px;\n",
        "}\n",
        ".notes {\n",
        "  font-style: italic;\n",
        "  display: block;\n",
        "  margin: 40px 10%;\n",
        "}\n",
        "img + em {\n",
        "  text-align: center;\n",
        "  display: block;\n",
        "  color: gray;\n",
        "  font-size: 0.9em;\n",
        "  font-weight: 600;\n",
        "}\n",
        "</style>"
      ],
      "execution_count": 3,
      "outputs": [
        {
          "output_type": "display_data",
          "data": {
            "text/plain": [
              "<IPython.core.display.HTML object>"
            ],
            "text/html": [
              "<style>\n",
              ".pquote {\n",
              "  text-align: left;\n",
              "  margin: 40px 0 40px auto;\n",
              "  width: 70%;\n",
              "  font-size: 1.5em;\n",
              "  font-style: italic;\n",
              "  display: block;\n",
              "  line-height: 1.3em;\n",
              "  color: #5a75a7;\n",
              "  font-weight: 600;\n",
              "  border-left: 5px solid rgba(90, 117, 167, .1);\n",
              "  padding-left: 6px;\n",
              "}\n",
              ".notes {\n",
              "  font-style: italic;\n",
              "  display: block;\n",
              "  margin: 40px 10%;\n",
              "}\n",
              "img + em {\n",
              "  text-align: center;\n",
              "  display: block;\n",
              "  color: gray;\n",
              "  font-size: 0.9em;\n",
              "  font-weight: 600;\n",
              "}\n",
              "</style>"
            ]
          },
          "metadata": {
            "tags": []
          }
        }
      ]
    },
    {
      "cell_type": "code",
      "metadata": {
        "colab": {
          "base_uri": "https://localhost:8080/",
          "height": 17
        },
        "id": "WDmoFQGjP7cc",
        "outputId": "6ad9e0e6-d3be-409e-8324-fb6b90f95e5f"
      },
      "source": [
        "%%javascript\n",
        "IPython.OutputArea.prototype._should_scroll = function(lines) {\n",
        "    return false;\n",
        "}"
      ],
      "execution_count": 4,
      "outputs": [
        {
          "output_type": "display_data",
          "data": {
            "application/javascript": [
              "IPython.OutputArea.prototype._should_scroll = function(lines) {\n",
              "    return false;\n",
              "}"
            ],
            "text/plain": [
              "<IPython.core.display.Javascript object>"
            ]
          },
          "metadata": {
            "tags": []
          }
        }
      ]
    },
    {
      "cell_type": "code",
      "metadata": {
        "collapsed": true,
        "id": "ta7ZmEeCP7cd"
      },
      "source": [
        "def plotVectors(vecs, cols, alpha=1):\n",
        "    \"\"\"\n",
        "    Створюємо набір векторів.\n",
        "\n",
        "    Параметри\n",
        "    ----------\n",
        "    vecs : array-like\n",
        "        Координати векторів для побудови графіку. Кожен вектор знаходиться у масиві. Наприклад:\n",
        "        [[1, 3], [2, 2]]можна використовувати для побудови 2 векторів.\n",
        "    cols : array-like\n",
        "        Кольори векторів. Наприклад: ['red', 'blue']відображатиме\n",
        "        перший вектор червоним, а другий синім.\n",
        "    alpha : float\n",
        "        Непрозорість векторів\n",
        "\n",
        "    Повертає:\n",
        "\n",
        "    fig : екземпляр matplotlib.figure.Figure\n",
        "        Фігура векторів\n",
        "    \"\"\"\n",
        "    plt.axvline(x=0, color='#A9A9A9', zorder=0)\n",
        "    plt.axhline(y=0, color='#A9A9A9', zorder=0)\n",
        "\n",
        "    for i in range(len(vecs)):\n",
        "        if (isinstance(alpha, list)):\n",
        "            alpha_i = alpha[i]\n",
        "        else:\n",
        "            alpha_i = alpha\n",
        "        x = np.concatenate([[0,0],vecs[i]])\n",
        "        plt.quiver([x[0]],\n",
        "                   [x[1]],\n",
        "                   [x[2]],\n",
        "                   [x[3]],\n",
        "                   angles='xy', scale_units='xy', scale=1, color=cols[i],\n",
        "                  alpha=alpha_i)"
      ],
      "execution_count": 5,
      "outputs": []
    },
    {
      "cell_type": "markdown",
      "metadata": {
        "id": "l7HvNbQ4P7cf"
      },
      "source": [
        "$$\n",
        "\\newcommand\\bs[1]{\\boldsymbol{#1}}\n",
        "$$"
      ]
    },
    {
      "cell_type": "markdown",
      "metadata": {
        "id": "XpzDBtZyP7ch"
      },
      "source": [
        "<span class='notes'>\n",
        "    Цей матеріал є частиною курсу, що йде після глави 2 про лінійну алгебру з [Deep Learning Book](http://www.deeplearningbook.org/) Гудфеллоу, І., Бенджо, Ю. та Курвіля, А. ( 2016). Він спрямований на підготовку чуття/малюнків/коду на мові python з математичних теорій і побудований так, як я розумію ці поняття. Ви можете подивитися на навчальний план у [вступній публікації](https://hadrienj.github.io/posts/Deep-Learning-Book-Series-Introduction/).\n",
        "</span>"
      ]
    },
    {
      "cell_type": "markdown",
      "metadata": {
        "id": "68mwGcIJP7ci"
      },
      "source": [
        "# Вступ\n",
        "\n",
        "Останній розділ був дуже веселим! Цей буде трохи менш важким. Ми побачимо ще один спосіб декомпозиції матриць: Декомпозиція сингулярних значень або SVD. З початку цього курсу я підкреслював той факт, що ви можете розглядати матриці як лінійне перетворення в просторі. За допомогою SVD ви розкладаєте матрицю в три інші матриці. Ви зможете побачити ці нові матриці як * під-перетворення * простору. Замість того, щоб робити перетворення одним рухом, ми розкладаємо його в три рухи. В якості бонусу ми застосуємо SVD для обробки зображень. Ми побачимо вплив SVD на образ гусі Люсі (це просто гусак на ім’я Люсі ...), тож продовжуйте читати!"
      ]
    },
    {
      "cell_type": "markdown",
      "metadata": {
        "hideCode": false,
        "hidePrompt": false,
        "id": "WSEGDcTaP7ci"
      },
      "source": [
        "# 2.8 Декомпозиція одиничного значення"
      ]
    },
    {
      "cell_type": "markdown",
      "metadata": {
        "hideCode": false,
        "hidePrompt": false,
        "id": "lFC0XWGDP7cj"
      },
      "source": [
        "<img src=\"images/unit-circle-transformation1.png\" width=\"400\" alt=\"Одиничне кола та його перетворення\" title=\"Перетворення одиничного кола\">\n",
        "<em>Одиничне коло та його перетворення матрицею.</em>\n",
        "\n",
        "Ми бачили в [2.7](https://hadrienj.github.io/posts/Deep-Learning-Book-Series-2.7-Eigendecomposition/) , що власне розкладання може бути здійснено лише для квадратних матриць. Спосіб розкладання інших типів матриць, які неможливо розкласти за допомогою власного розкладання, полягає у використанні **розкладання сингулярних значень** (SVD).\n",
        "\n",
        "Ми розкладемо $\\bs{A}$ на 3 матриці (замість двох із власним розкладом):\n",
        "\n",
        "<img src=\"images/singular-value-decomposition.png\" width=\"300\" alt=\"Ілюстрація розкладу одиничного значення\" title=\"Декомпозиція одиничного значення\">\n",
        "<em>Декомпозиція одиничного значення</em>\n",
        "\n",
        "Матриці $\\bs{U}$, $\\bs{D}$ і $\\bs{V}$ мають такі властивості:\n",
        "\n",
        "- $\\bs{U}$ і $\\bs{V}$ - ортогональні матриці ($\\bs{U}^\\text{T}=\\bs{U}^{-1}$ і $\\bs{V}^\\text{T}=\\bs{V}^{-1}$; дивись [2.6](https://hadrienj.github.io/posts/Deep-Learning-Book-Series-2.6-Special-Kinds-of-Matrices-and-Vectors/) для отримання додаткової інформації про ортогональні матриці)\n",
        "\n",
        "- $\\bs{D}$ діагональна матриця (всі 0, крім діагоналі; див. [2.6](https://hadrienj.github.io/posts/Deep-Learning-Book-Series-2.6-Special-Kinds-of-Matrices-and-Vectors/)). Однак $\\bs{D}$ не обов'язково квадрат.\n",
        "\n",
        "Стовпці $\\bs{U}$ називаються ліво-сингулярними векторами $\\bs{A}$, тоді як стовпці $\\bs{V}$ - право-сингулярними векторами $\\bs{A}$. Значення по діагоналі $\\bs{D}$ є одиничними значеннями $\\bs{A}$."
      ]
    },
    {
      "cell_type": "markdown",
      "metadata": {
        "hideCode": false,
        "hidePrompt": false,
        "id": "Try959LPP7cl"
      },
      "source": [
        "Ось розміри факторизації:\n",
        "\n",
        "<img src=\"images/singular-value-decomposition-understanding-dimensions.png\" width=\"300\" alt=\"Розміри розкладу одиничного значення (SVD)\" title=\"Розміри розкладу одиничного значення (SVD)\">\n",
        "<em>Розміри розкладу одиничного значення</em>\n"
      ]
    },
    {
      "cell_type": "markdown",
      "metadata": {
        "id": "SyungCCUP7cn"
      },
      "source": [
        "Діагональна матриця одиничних значень не квадратна, а має форму $\\bs{A}$. Подивіться на приклад, наведений у документі [Numpy doc](https://docs.scipy.org/doc/numpy/reference/generated/numpy.linalg.svd.html) , щоб побачити, що вони створюють матрицю нулів з такою ж формою як $\\bs{A}$ та заповніть її особливими значеннями:\n",
        "\n",
        "```python\n",
        "smat = np.zeros((9, 6), dtype=complex)\n",
        "smat[:6, :6] = np.diag(s)\n",
        "```"
      ]
    },
    {
      "cell_type": "markdown",
      "metadata": {
        "hideCode": false,
        "hidePrompt": false,
        "id": "66V0-73WP7co"
      },
      "source": [
        "# Інтуїція\n",
        "\n",
        "Я думаю, що інтуїція, яка стоїть за декомпозицією одиничного значення, потребує деяких пояснень щодо ідеї матричного перетворення. З цієї причини, ось кілька прикладів, що показують, як простір може бути перетворений двовимірними квадратними матрицями. Сподіваюсь, це призведе до кращого розуміння цього твердження: $\\bs{A}$ - це матриця, яку можна розглядати як лінійне перетворення. Це перетворення можна розкласти на три під-перетворення: 1. обертання, 2. повторне масштабування, 3. обертання. Ці три кроки відповідають трьом матрицям $\\bs{U}$, $\\bs{D}$ і $\\bs{V}$.\n",
        "\n",
        "<span class='pquote'>\n",
        "    $\\bs{A}$ є матрицею, яку можна розглядати як лінійне перетворення. Це перетворення можна розкласти на три під-перетворення: 1. обертання, 2. повторне масштабування, 3. обертання. Ці три кроки відповідають трьом матрицям $\\bs{U}$, $\\bs{D}$ і $\\bs{V}$.\n",
        "</span>\n",
        "\n",
        "Ви можете подивитися на [цю анімацію](https://en.wikipedia.org/wiki/Singular-value_decomposition) зі статті Вікіпедії про SVD. Якщо прокрутити сторінку вниз, ви побачите кожен крок.\n",
        "\n",
        "### Кожну матрицю можна розглядати як лінійне перетворення\n",
        "\n",
        "Ви можете бачити матрицю як конкретне лінійне перетворення. Коли ви *застосуєте* цю матрицю до вектора або до іншої матриці, ви застосуєте це лінійне перетворення до неї.\n",
        "\n",
        "### Приклад 1.\n",
        "\n",
        "Ми змінимо вектор:\n",
        "\n",
        "$$\n",
        "\\bs{v}=\\begin{bmatrix}\n",
        "    x\\\\\\\\\n",
        "    y\n",
        "\\end{bmatrix}\n",
        "$$\n",
        "\n",
        "застосовуючи матрицю:\n",
        "\n",
        "$$\n",
        "\\begin{bmatrix}\n",
        "    2 & 0\\\\\\\\\n",
        "    0 & 2\n",
        "\\end{bmatrix}\n",
        "$$\n",
        "\n",
        "Ми отримаємо:\n",
        "\n",
        "$$\n",
        "\\begin{bmatrix}\n",
        "    x'\\\\\\\\\n",
        "    y'\n",
        "\\end{bmatrix}=\\begin{bmatrix}\n",
        "    2 & 0\\\\\\\\\n",
        "    0 & 2\n",
        "\\end{bmatrix}\n",
        "\\begin{bmatrix}\n",
        "    x\\\\\\\\\n",
        "    y\n",
        "\\end{bmatrix}=\n",
        "\\begin{bmatrix}\n",
        "    2x + 0y\\\\\\\\\n",
        "    0x + 2y\n",
        "\\end{bmatrix}=\n",
        "\\begin{bmatrix}\n",
        "    2x\\\\\\\\\n",
        "    2y\n",
        "\\end{bmatrix}\n",
        "$$\n",
        "\n",
        "Ми бачимо, що застосовуючи матрицю:\n",
        "\n",
        "$$\n",
        "\\begin{bmatrix}\n",
        "    2 & 0\\\\\\\\\n",
        "    0 & 2\n",
        "\\end{bmatrix}\n",
        "$$\n",
        "\n",
        "просто подвоїла кожну координату нашого вектора. Ось графічне зображення $\\bs{v}$ та його перетворення $\\bs{w}$:\n",
        "\n",
        "<img src=\"images/transformation-vector-by-matrix.png\" width=\"400\" alt=\"Ділянка вектора та його перетворення\" title=\"Матриця збільшила обидві координати вектора\">\n",
        "<em>Застосовуючи матрицю до вектора, множимо кожну координату на два</em>\n",
        "\n",
        "Ви можете подивитися інші приклади простих перетворень векторів та одиничного кола в [це відео](https://www.youtube.com/watch?v=kJIUbtSowRg).\n"
      ]
    },
    {
      "cell_type": "markdown",
      "metadata": {
        "hideCode": false,
        "hidePrompt": false,
        "id": "SfjCNwn3P7cp"
      },
      "source": [
        "### Приклад 2.\n",
        "\n",
        "Щоб представити лінійне перетворення, пов'язане з матрицями, ми також можемо намалювати одиничне коло і побачити, як матриця може його перетворити (див. БОНУС у [2.7](https://hadrienj.github.io/posts/Deep-Learning-Book-Series-2.7-Eigendecomposition/)). Одиничне коло представляє координати кожного одиничного вектора (вектор довжиною 1, див[2.6](https://hadrienj.github.io/posts/Deep-Learning-Book-Series-2.6-Special-Kinds-of-Matrices-and-Vectors/)).\n",
        "\n",
        "<img src=\"images/unit-circle.png\" width=\"200\" alt=\"Представлення одиничного кола\" title=\"Одиничне коло\">\n",
        "<em>Одиничне коло</em>\n",
        "\n",
        "Тоді можна застосувати матрицю до всіх цих одиничних векторів, щоб побачити, яку деформацію вона буде створювати.\n",
        "\n",
        "Знову застосуємо матрицю:\n",
        "\n",
        "$$\n",
        "\\begin{bmatrix}\n",
        "    2 & 0\\\\\\\\\n",
        "    0 & 2\n",
        "\\end{bmatrix}\n",
        "$$\n",
        "\n",
        "до одиничного кола:\n",
        "\n",
        "$$\n",
        "\\begin{bmatrix}\n",
        "    x'\\\\\\\\\n",
        "    y'\n",
        "\\end{bmatrix}=\n",
        "\\begin{bmatrix}\n",
        "    2 & 0\\\\\\\\\n",
        "    0 & 2\n",
        "\\end{bmatrix}\n",
        "\\begin{bmatrix}\n",
        "    x\\\\\\\\\n",
        "    y\n",
        "\\end{bmatrix}=\n",
        "\\begin{bmatrix}\n",
        "    2x\\\\\\\\\n",
        "    2y\n",
        "\\end{bmatrix}\n",
        "$$\n",
        "\n",
        "<img src=\"images/unit-circle-transformation.png\" width=\"400\" alt=\"Представлення одиничного кола та його перетворення\" title=\"Одиничне коло та його перетворення\">\n",
        "<em>Ще одне подання ефекту матриці: кожна координата одиничного кола множилася на два</em>\n",
        "\n",
        "Ми бачимо, що матриця подвоїла розмір кола. Але в деяких перетвореннях зміна, застосована до координати $x$, відрізняється від зміни, застосованої до координати $y$. Давайте подивимось, що це означає графічно."
      ]
    },
    {
      "cell_type": "markdown",
      "metadata": {
        "hideCode": false,
        "hidePrompt": false,
        "id": "E2hJkDjjP7cp"
      },
      "source": [
        "### Приклад 3.\n",
        "\n",
        "Ми застосуємо матрицю:\n",
        "\n",
        "$$\n",
        "\\begin{bmatrix}\n",
        "    3 & 0\\\\\\\\\n",
        "    0 & 2\n",
        "\\end{bmatrix}\n",
        "$$\n",
        "\n",
        "до одиничного кола:\n",
        "\n",
        "$$\n",
        "\\begin{bmatrix}\n",
        "    x'\\\\\\\\\n",
        "    y'\n",
        "\\end{bmatrix}=\n",
        "\\begin{bmatrix}\n",
        "    3 & 0\\\\\\\\\n",
        "    0 & 2\n",
        "\\end{bmatrix}\\cdot\n",
        "\\begin{bmatrix}\n",
        "    x\\\\\\\\\n",
        "    y\n",
        "\\end{bmatrix}=\n",
        "\\begin{bmatrix}\n",
        "    3x\\\\\\\\\n",
        "    2y\n",
        "\\end{bmatrix}\n",
        "$$\n",
        "\n",
        "Це дає наступне нове коло:\n",
        "\n",
        "<img src=\"images/unit-circle-transformation1.png\" width=\"400\" alt=\"Представлення одиничного кола та його перетворення\" title=\"Одиничне коло та його перетворення\">\n",
        "<em>Цього разу матриця не масштабувала кожну координату з однаковою вагою</em>\n",
        "\n",
        "Ми можемо перевірити це за допомогою рівнянь, пов'язаних з цим матричним перетворенням. Скажімо, координати нового кола (після перетворення) становлять $x'$ і $y'$. Співвідношення між старими координатами ($x$, $y$) та новими координатами($x'$, $y'$)::\n",
        "\n",
        "$$\n",
        "\\begin{bmatrix}\n",
        "    x'\\\\\\\\\n",
        "    y'\n",
        "\\end{bmatrix}=\n",
        "\\begin{bmatrix}\n",
        "    3x\\\\\\\\\n",
        "    2y\n",
        "\\end{bmatrix}\n",
        "\\Leftrightarrow\n",
        "\\begin{cases}\n",
        "x=\\frac{x'}{3}\\\\\\\\\n",
        "y=\\frac{y'}{2}\n",
        "\\end{cases}\n",
        "$$\n",
        "\n",
        "Ми також знаємо, що рівняння одиничного кола дорівнює $x^2+y^2=1$ (норма одиничних векторів дорівнює 1, див. [2.5](https://hadrienj.github.io/posts/Deep-Learning-Book-Series-2.5-Norms/)). В результаті заміни ми отримуємо:\n",
        "\n",
        "$$\n",
        "\\begin{align*}\n",
        "\\left(\\frac{x'}{3}\\right)^2 + \\left(\\frac{y'}{2}\\right)^2 = 1\\\\\\\\\n",
        "\\left(\\frac{y'}{2}\\right)^2 = 1 - \\left(\\frac{x'}{3}\\right)^2\\\\\\\\\n",
        "\\frac{y'}{2} = \\sqrt{1 - \\left(\\frac{x'}{3}\\right)^2}\\\\\\\\\n",
        "y' = 2\\sqrt{1 - \\left(\\frac{x'}{3}\\right)^2}\n",
        "\\end{align*}\n",
        "$$\n",
        "\n",
        "Ми можемо перевірити, що це рівняння відповідає нашому перетвореному колу. Почнемо з того, що намалюємо старе коло. Його рівняння дорівнює:\n",
        "\n",
        "$$\n",
        "\\begin{align*}\n",
        "x^2+y^2=1\\\\\\\\\n",
        "y^2=1-x^2\\\\\\\\\n",
        "y=\\sqrt{1-x^2}\n",
        "\\end{align*}\n",
        "$$"
      ]
    },
    {
      "cell_type": "code",
      "metadata": {
        "hideCode": false,
        "hidePrompt": false,
        "colab": {
          "base_uri": "https://localhost:8080/",
          "height": 274
        },
        "id": "JqADBSmlP7cr",
        "outputId": "a6c001da-2bde-47d4-d8fe-cc7cad78c91e"
      },
      "source": [
        "x = np.linspace(-1, 1, 100000)\n",
        "y = np.sqrt(1-(x**2))\n",
        "plt.plot(x, y, sns.color_palette().as_hex()[0])\n",
        "plt.plot(x, -y, sns.color_palette().as_hex()[0])\n",
        "plt.xlim(-1.5, 1.5)\n",
        "plt.ylim(-1.5, 1.5)\n",
        "plt.show()"
      ],
      "execution_count": 6,
      "outputs": [
        {
          "output_type": "display_data",
          "data": {
            "image/png": "[encoded data removed]",
            "text/plain": [
              "<Figure size 288x288 with 1 Axes>"
            ]
          },
          "metadata": {
            "tags": [],
            "needs_background": "light"
          }
        }
      ]
    },
    {
      "cell_type": "markdown",
      "metadata": {
        "hideCode": false,
        "hidePrompt": false,
        "id": "hHEUbtfBP7cs"
      },
      "source": [
        "Все йде нормально!\n",
        "\n",
        "*Підказка щодо кодування*: Тут ви можете побачити фокус для побудови кола: ви створюєте змінну $x$, тоді $y$ визначається з $x$. Це означає, що для кожного $x$ обчислюється відповідне значення $y$ (і, таким чином, $y$ має таку ж форму, як $x$). Оскільки результат квадратного кореня може бути негативним або позитивним (наприклад, 4 може бути результатом $2^2$, але також і $(-2)^2$), нам потрібно побудувати обидва рішення ($y$ і $-y$ у `plt.plot`). Зауважте також, що багато значень потрібні, якщо ми хочемо зв’язок між двома напівсферами. Див. дискусію [тут](https://stackoverflow.com/questions/32092899/plot-equation-showing-a-circle).\n",
        "\n",
        "\n",
        "Тепер додамо коло, отримане після перетворення матриці. Ми побачили, що це визначено з\n",
        "\n",
        "$$\n",
        "y = 2\\sqrt{1 - \\left(\\frac{x}{3}\\right)^2}\n",
        "$$"
      ]
    },
    {
      "cell_type": "code",
      "metadata": {
        "hideCode": false,
        "hidePrompt": false,
        "colab": {
          "base_uri": "https://localhost:8080/",
          "height": 274
        },
        "id": "sleNZENVP7ct",
        "outputId": "c0fc2624-aada-4708-e12a-f661ab1afff2"
      },
      "source": [
        "x1 = np.linspace(-3, 3, 100000)\n",
        "y1 = 2*np.sqrt(1-((x1/3)**2))\n",
        "plt.plot(x, y, sns.color_palette().as_hex()[0])\n",
        "plt.plot(x, -y, sns.color_palette().as_hex()[0])\n",
        "plt.plot(x1, y1, sns.color_palette().as_hex()[1])\n",
        "plt.plot(x1, -y1, sns.color_palette().as_hex()[1])\n",
        "plt.xlim(-4, 4)\n",
        "plt.ylim(-4, 4)\n",
        "plt.show()"
      ],
      "execution_count": 7,
      "outputs": [
        {
          "output_type": "display_data",
          "data": {
            "image/png": "[encoded data removed]",
            "text/plain": [
              "<Figure size 288x288 with 1 Axes>"
            ]
          },
          "metadata": {
            "tags": [],
            "needs_background": "light"
          }
        }
      ]
    },
    {
      "cell_type": "markdown",
      "metadata": {
        "hideCode": false,
        "hidePrompt": false,
        "id": "TwxqmA96P7cv"
      },
      "source": [
        "Це свідчить про те, що наша трансформація була правильною.\n",
        "\n",
        "Зверніть увагу, що в цих прикладах використовувались **діагональні матриці** (усі нулі, крім діагоналі). Загальне правило полягає в тому, що перетворення, пов'язане з діагональними матрицями, передбачає лише масштабування кожної координати **без обертання**. Це перший крок для розуміння SVD. Подивіться ще раз на розкладання\n",
        "\n",
        "<img src=\"images/singular-value-decomposition.png\" width=\"300\">\n",
        "\n",
        "<span class='pquote'>\n",
        "    Перетворення, пов'язане з діагональними матрицями, передбачає лише масштабування кожної координати **без обертання**\n",
        "</span>\n",
        "\n",
        "Ми побачили, що матриця $\\bs{D}$ є діагональною матрицею. І ми також побачили, що це відповідає масштабуванню без обертання."
      ]
    },
    {
      "cell_type": "markdown",
      "metadata": {
        "hideCode": false,
        "hidePrompt": false,
        "id": "l5DIIfyxP7cw"
      },
      "source": [
        "### Примклад 4. матриця обертання\n",
        "\n",
        "Матриці, які не є діагональними, можуть створювати обертання (див. докладніше [тут](https://en.wikipedia.org/wiki/Rotation_matrix)). Оскільки про кути легше думати, коли ми говоримо про обертання, ми будемо використовувати матрицю виду\n",
        "\n",
        "$$\n",
        "R=\n",
        "\\begin{bmatrix}\n",
        "    cos(\\theta) & -sin(\\theta)\\\\\\\\\n",
        "    sin(\\theta) & cos(\\theta)\n",
        "\\end{bmatrix}\n",
        "$$\n",
        "\n",
        "Ця матриця буде обертати наші вектори або матриці проти годинникової стрілки на кут $\\theta$. Наші нові координати будуть\n",
        "\n",
        "$$\n",
        "\\begin{bmatrix}\n",
        "    x'\\\\\\\\\n",
        "    y'\n",
        "\\end{bmatrix}=\n",
        "\\begin{bmatrix}\n",
        "    cos(\\theta) & -sin(\\theta)\\\\\\\\\n",
        "    sin(\\theta) & cos(\\theta)\n",
        "\\end{bmatrix}\n",
        "\\begin{bmatrix}\n",
        "    x\\\\\\\\\n",
        "    y\n",
        "\\end{bmatrix}=\n",
        "\\begin{bmatrix}\n",
        "    xcos(\\theta) - ysin(\\theta)\\\\\\\\\n",
        "    xsin(\\theta) + ycos(\\theta)\n",
        "\\end{bmatrix}\n",
        "$$\n",
        "\n",
        "Повернемо деякі вектори на кут $\\theta = 45^\\circ$.\n",
        "\n",
        "Почнемо з вектора $\\bs{u}$ координат $x=0$ і $y=1$ та вектора $\\bs{v}$ координат $x=1$ і $y=0$. Вектори $\\bs{u'}$ $\\bs{v'}$ - це обернені вектори.\n",
        "\n",
        "<img src=\"images/unit-vectors-rotation.png\" width=\"200\" alt=\"Обертання одиничних векторів за допомогою матриці\" title=\"Обертання одиничних векторів\">\n",
        "<em>Обертання одиничних векторів проти годинникової стрілки з $\\theta=45^\\circ$</em>\n",
        "\n",
        "По-перше, давайте побудуємо $\\bs{u}$ та $\\bs{v}$."
      ]
    },
    {
      "cell_type": "code",
      "metadata": {
        "hideCode": false,
        "hidePrompt": false,
        "colab": {
          "base_uri": "https://localhost:8080/",
          "height": 0
        },
        "id": "ZKFj303dP7cw",
        "outputId": "c98e86a5-b4fe-4c74-f69d-95b767cbd176"
      },
      "source": [
        "orange = '#FF9A13'\n",
        "blue = '#1190FF'\n",
        "    \n",
        "u = [1,0]\n",
        "v = [0,1]\n",
        "\n",
        "plotVectors([u, v], cols=[blue, blue])\n",
        "\n",
        "plt.xlim(-1.5, 1.5)\n",
        "plt.ylim(-1.5, 1.5)\n",
        "\n",
        "plt.text(-0.25, 0.2, r'$\\vec{u}$', color=blue, size=18)\n",
        "plt.text(0.4, -0.25, r'$\\vec{v}$', color=blue, size=18)\n",
        "plt.show()"
      ],
      "execution_count": 8,
      "outputs": [
        {
          "output_type": "display_data",
          "data": {
            "image/png": "[encoded data removed]",
            "text/plain": [
              "<Figure size 288x288 with 1 Axes>"
            ]
          },
          "metadata": {
            "tags": [],
            "needs_background": "light"
          }
        }
      ]
    },
    {
      "cell_type": "markdown",
      "metadata": {
        "hideCode": false,
        "hidePrompt": false,
        "id": "-9bsIZf2P7cx"
      },
      "source": [
        "Вони є <a href=\"https://en.wikipedia.org/wiki/Basis_(linear_algebra)\">базовими векторами </a> нашого простору. Ми обчислимо перетворення цих векторів:\n",
        "\n",
        "$$\n",
        "\\begin{cases}\n",
        "u_x = 0\\cdot cos(45) - 1\\cdot sin(45)\\\\\\\\\n",
        "u_y = 0\\cdot sin(45) + 1\\cdot cos(45)\n",
        "\\end{cases}\n",
        "\\Leftrightarrow\n",
        "\\begin{cases}\n",
        "u_x = -sin(45)\\\\\\\\\n",
        "u_y = cos(45)\n",
        "\\end{cases}\n",
        "$$\n",
        "\n",
        "$$\n",
        "\\begin{cases}\n",
        "v_x = 1\\cdot cos(45) - 0\\cdot sin(45)\\\\\\\\\n",
        "v_y = 1\\cdot sin(45) + 0\\cdot cos(45)\n",
        "\\end{cases}\n",
        "\\Leftrightarrow\n",
        "\\begin{cases}\n",
        "v_x = cos(45)\\\\\\\\\n",
        "v_y = sin(45)\n",
        "\\end{cases}\n",
        "$$\n",
        "\n",
        "Зараз ми побудуємо ці нові вектори, щоб перевірити, чи вони є нашими базисними векторами, повернутими на кут $45^\\circ$."
      ]
    },
    {
      "cell_type": "code",
      "metadata": {
        "colab": {
          "base_uri": "https://localhost:8080/",
          "height": 0
        },
        "id": "xey41lm6P7cy",
        "outputId": "3ae290b0-b879-4e4a-a820-11269d381902"
      },
      "source": [
        "u1 = [-np.sin(np.radians(45)), np.cos(np.radians(45))]\n",
        "v1 = [np.cos(np.radians(45)), np.sin(np.radians(45))]\n",
        "\n",
        "plotVectors([u1, v1], cols=[orange, orange])\n",
        "plt.xlim(-1.5, 1.5)\n",
        "plt.ylim(-1.5, 1.5)\n",
        "\n",
        "plt.text(-0.7, 0.1, r\"$\\vec{u'}$\", color=orange, size=18)\n",
        "plt.text(0.4, 0.1, r\"$\\vec{v'}$\", color=orange, size=18)\n",
        "plt.show()"
      ],
      "execution_count": 9,
      "outputs": [
        {
          "output_type": "display_data",
          "data": {
            "image/png": "[encoded data removed]",
            "text/plain": [
              "<Figure size 288x288 with 1 Axes>"
            ]
          },
          "metadata": {
            "tags": [],
            "needs_background": "light"
          }
        }
      ]
    },
    {
      "cell_type": "markdown",
      "metadata": {
        "hideCode": false,
        "hidePrompt": false,
        "id": "8RToU9SMP7cy"
      },
      "source": [
        "*Порада щодо кодування:* функції numpy `sin` і` cos` беруть вхідні дані в радіанах. Ми можемо перетворити наш кут із градусів у радіани за допомогою функції `np.radians()`.\n",
        "\n",
        "Ми також можемо перетворити коло. Ми візьмемо масштабоване коло (те, що з прикладу 3.), щоб мати змогу побачити ефект обертання.\n",
        "\n",
        "<img src=\"images/rescaled-circle-rotated.png\" width=\"300\" alt=\"Масштабоване коло (не однакової висоти та ширини) оберталося\" title=\"Обернене масштабоване коло\">\n",
        "<em>Вплив матриці обертання на масштабоване коло</em>"
      ]
    },
    {
      "cell_type": "code",
      "metadata": {
        "hideCode": false,
        "hidePrompt": false,
        "colab": {
          "base_uri": "https://localhost:8080/",
          "height": 0
        },
        "id": "2AsZVHXlP7cz",
        "outputId": "b7bfe3e1-7338-4df4-cd71-17f00cbf09dc"
      },
      "source": [
        "x = np.linspace(-3, 3, 100000)\n",
        "y = 2*np.sqrt(1-((x/3)**2))\n",
        "\n",
        "x1 = x*np.cos(np.radians(45)) - y*np.sin(np.radians(45))\n",
        "y1 = x*np.sin(np.radians(45)) + y*np.cos(np.radians(45))\n",
        "\n",
        "x1_neg = x*np.cos(np.radians(45)) - -y*np.sin(np.radians(45))\n",
        "y1_neg = x*np.sin(np.radians(45)) + -y*np.cos(np.radians(45))\n",
        "\n",
        "u1 = [-2*np.sin(np.radians(45)), 2*np.cos(np.radians(45))]\n",
        "v1 = [3*np.cos(np.radians(45)), 3*np.sin(np.radians(45))]\n",
        "\n",
        "plotVectors([u1, v1], cols=['#FF9A13', '#FF9A13'])\n",
        "\n",
        "plt.plot(x, y, '#1190FF')\n",
        "plt.plot(x, -y, '#1190FF')\n",
        "\n",
        "plt.plot(x1, y1, '#FF9A13')\n",
        "plt.plot(x1_neg, y1_neg, '#FF9A13')\n",
        "\n",
        "plt.xlim(-4, 4)\n",
        "plt.ylim(-4, 4)\n",
        "plt.show()"
      ],
      "execution_count": 10,
      "outputs": [
        {
          "output_type": "display_data",
          "data": {
            "image/png": "[encoded data removed]",
            "text/plain": [
              "<Figure size 288x288 with 1 Axes>"
            ]
          },
          "metadata": {
            "tags": [],
            "needs_background": "light"
          }
        }
      ]
    },
    {
      "cell_type": "markdown",
      "metadata": {
        "hideCode": false,
        "hidePrompt": false,
        "id": "2i8U57BKP7c0"
      },
      "source": [
        "Ми бачимо, що коло повернуто на кут $45^\\circ$. Ми вибрали довжину векторів із ваги масштабування з прикладу 3 (коефіцієнти 3 та 2), щоб відповідати колу.\n",
        "\n",
        "### Підсумок\n",
        "\n",
        "Я сподіваюся, що ви зрозуміли, як вектори та матриці можуть бути перетворені за допомогою обертання або масштабування матриць. SVD можна розглядати як розкладання одного складного перетворення на 3 простіші перетворення (обертання, масштабування та інше обертання).\n",
        "\n",
        "Зверніть увагу, що ми взяли лише квадратні матриці. SVD можна зробити навіть з неквадратними матрицями, але важче представити перетворення, пов'язані з неквадратними матрицями. Наприклад, матриця 3 на 2 відображатиме 2D-простір у 3D-простір.\n",
        "\n",
        "<img src=\"images/non-square-matrix-change-dimensions.png\" width=\"250\" alt=\"Неквадратна матриця змінює кількість розмірів вхідних даних\" title=\"Приклад зміни розмірів\">\n",
        "<em>Неквадратна матриця змінює кількість розмірів вхідних даних</em>"
      ]
    },
    {
      "cell_type": "markdown",
      "metadata": {
        "id": "2Gh2-y2gP7c0"
      },
      "source": [
        "# Три перетворення\n",
        "\n",
        "Тепер, коли зв’язок між матрицями та лінійним перетворенням стає яснішим, ми можемо перевірити, що перетворення, пов’язане з матрицею, може бути розкладено за допомогою SVD.\n",
        "\n",
        "Але спочатку давайте створимо функцію, яка приймає 2D-матрицю як вхідну інформацію і намалюємо перетворення одиничного кола, коли ми застосуємо до неї цю матрицю. Буде корисно візуалізувати перетворення."
      ]
    },
    {
      "cell_type": "code",
      "metadata": {
        "collapsed": true,
        "hideCode": false,
        "hidePrompt": false,
        "id": "Ng-fRXQEP7c1"
      },
      "source": [
        "def matrixToPlot(matrix, vectorsCol=['#FF9A13', '#1190FF']):\n",
        "    \"\"\"\n",
        "    Зміна одиничного кола та базисного вектора, застосувавши матрицю.\n",
        "    Візуалізація ефекту матриці у 2D.\n",
        "\n",
        "    Параметри\n",
        "    ----------\n",
        "    matrix : array-like\n",
        "        2D-матриця для застосування до одиничного кола.\n",
        "    vectorsCol : HEX колір\n",
        "        Колір базисних векторів\n",
        "\n",
        "    Повертає:\n",
        "\n",
        "    fig : екземпляр matplotlib.figure.Figure\n",
        "        Фігура, що містить модифіковані одиничні кола та базисні вектори.\n",
        "    \"\"\"\n",
        "    # Одиничне коло\n",
        "    x = np.linspace(-1, 1, 100000)\n",
        "    y = np.sqrt(1-(x**2))\n",
        "    \n",
        "    # Модифіковане одиничне коло (окремі негативна та позитивна частини)\n",
        "    x1 = matrix[0,0]*x + matrix[0,1]*y\n",
        "    y1 = matrix[1,0]*x + matrix[1,1]*y\n",
        "    x1_neg = matrix[0,0]*x - matrix[0,1]*y\n",
        "    y1_neg = matrix[1,0]*x - matrix[1,1]*y\n",
        "    \n",
        "    # Вектори\n",
        "    u1 = [matrix[0,0],matrix[1,0]]\n",
        "    v1 = [matrix[0,1],matrix[1,1]]\n",
        "    \n",
        "    plotVectors([u1, v1], cols=[vectorsCol[0], vectorsCol[1]])\n",
        "\n",
        "    plt.plot(x1, y1, 'g', alpha=0.5)\n",
        "    plt.plot(x1_neg, y1_neg, 'g', alpha=0.5)"
      ],
      "execution_count": 11,
      "outputs": []
    },
    {
      "cell_type": "markdown",
      "metadata": {
        "id": "OCEtE_GzP7c2"
      },
      "source": [
        "Ми можемо використовувати її, щоб перевірити, що три перетворення, задані SVD, еквівалентні перетворенню, здійсненому з оригінальною матрицею. Ми також намалюємо кожен крок SVD, щоб побачити незалежний ефект першого обертання, масштабування та другого обертання.\n",
        "\n",
        "Ми будемо використовувати матрицю:\n",
        "\n",
        "$$\n",
        "\\bs{A}=\\begin{bmatrix}\n",
        "    3 & 7\\\\\\\\\n",
        "    5 & 2\n",
        "\\end{bmatrix}\n",
        "$$\n",
        "\n",
        "і побудуємо графік одиничного кола та його перетворення за допомогою $\\bs{A}$:"
      ]
    },
    {
      "cell_type": "code",
      "metadata": {
        "scrolled": true,
        "colab": {
          "base_uri": "https://localhost:8080/",
          "height": 566
        },
        "id": "Svfp_lUtP7c2",
        "outputId": "cd3f206e-e7f0-49a6-e82d-4d48c49a71c3"
      },
      "source": [
        "A = np.array([[3, 7], [5, 2]])\n",
        "\n",
        "print 'Unit circle:'\n",
        "matrixToPlot(np.array([[1, 0], [0, 1]]))\n",
        "plt.xlim(-1.5, 1.5)\n",
        "plt.ylim(-1.5, 1.5)\n",
        "plt.show()\n",
        "\n",
        "print 'Unit circle transformed by A:'\n",
        "matrixToPlot(A)\n",
        "plt.xlim(-8, 8)\n",
        "plt.ylim(-8, 8)\n",
        "plt.show()"
      ],
      "execution_count": 12,
      "outputs": [
        {
          "output_type": "stream",
          "text": [
            "Unit circle:\n"
          ],
          "name": "stdout"
        },
        {
          "output_type": "display_data",
          "data": {
            "image/png": "[encoded data removed]",
            "text/plain": [
              "<Figure size 288x288 with 1 Axes>"
            ]
          },
          "metadata": {
            "tags": [],
            "needs_background": "light"
          }
        },
        {
          "output_type": "stream",
          "text": [
            "Unit circle transformed by A:\n"
          ],
          "name": "stdout"
        },
        {
          "output_type": "display_data",
          "data": {
            "image/png": "[encoded data removed]",
            "text/plain": [
              "<Figure size 288x288 with 1 Axes>"
            ]
          },
          "metadata": {
            "tags": [],
            "needs_background": "light"
          }
        }
      ]
    },
    {
      "cell_type": "markdown",
      "metadata": {
        "id": "ueVeMR14P7c2"
      },
      "source": [
        "Це те, що ми отримуємо, застосовуючи матрицю $\\bs{A}$ до одиничного кола та базисних векторів. Ми бачимо, що два базисні вектори не обов’язково обертаються однаково. Це пов’язано зі знаком визначника матриці(дивись [2.11](https://hadrienj.github.io/posts/Deep-Learning-Book-Series-2.11-The-determinant/)).\n",
        "\n",
        "Давайте тепер обчислимо SVD для $\\bs{A}$:"
      ]
    },
    {
      "cell_type": "code",
      "metadata": {
        "scrolled": true,
        "colab": {
          "base_uri": "https://localhost:8080/"
        },
        "id": "KsbeKnNkP7c2",
        "outputId": "1e0e81f5-b56c-4ee2-b45a-81934bb01485"
      },
      "source": [
        "U, D, V = np.linalg.svd(A)\n",
        "U"
      ],
      "execution_count": 13,
      "outputs": [
        {
          "output_type": "execute_result",
          "data": {
            "text/plain": [
              "array([[-0.85065081, -0.52573111],\n",
              "       [-0.52573111,  0.85065081]])"
            ]
          },
          "metadata": {
            "tags": []
          },
          "execution_count": 13
        }
      ]
    },
    {
      "cell_type": "code",
      "metadata": {
        "colab": {
          "base_uri": "https://localhost:8080/"
        },
        "id": "s9YfVfIOP7c4",
        "outputId": "13918280-4b90-4b47-fce1-d7be3fc099d5"
      },
      "source": [
        "D"
      ],
      "execution_count": 14,
      "outputs": [
        {
          "output_type": "execute_result",
          "data": {
            "text/plain": [
              "array([8.71337969, 3.32821489])"
            ]
          },
          "metadata": {
            "tags": []
          },
          "execution_count": 14
        }
      ]
    },
    {
      "cell_type": "code",
      "metadata": {
        "colab": {
          "base_uri": "https://localhost:8080/"
        },
        "id": "xfXm1kUtP7c5",
        "outputId": "f0906bb1-73c4-4058-8a5d-b6330da72995"
      },
      "source": [
        "V"
      ],
      "execution_count": 15,
      "outputs": [
        {
          "output_type": "execute_result",
          "data": {
            "text/plain": [
              "array([[-0.59455781, -0.80405286],\n",
              "       [ 0.80405286, -0.59455781]])"
            ]
          },
          "metadata": {
            "tags": []
          },
          "execution_count": 15
        }
      ]
    },
    {
      "cell_type": "markdown",
      "metadata": {
        "id": "-S_LjXxqP7c5"
      },
      "source": [
        "Тепер ми можемо розглянути суб-перетворення, розглянувши ефект матриць $\\bs{U}$, $\\bs{D}$ і $\\bs{V}$ в зворотному порядку. Зверніть увагу, що він повертає правильний сингулярний вектор **вже транспонований** (див.  [doc](https://docs.scipy.org/doc/numpy-1.13.0/reference/generated/numpy.linalg.svd.html))."
      ]
    },
    {
      "cell_type": "code",
      "metadata": {
        "hideCode": false,
        "hidePrompt": false,
        "scrolled": true,
        "colab": {
          "base_uri": "https://localhost:8080/",
          "height": 1000
        },
        "id": "S5AjtExVP7c6",
        "outputId": "b7c8bc1a-adf4-418e-da7b-5cef66556519"
      },
      "source": [
        "# Одиничне коло\n",
        "print 'Unit circle:'\n",
        "matrixToPlot(np.array([[1, 0], [0, 1]]))\n",
        "plt.xlim(-1.5, 1.5)\n",
        "plt.ylim(-1.5, 1.5)\n",
        "plt.show()\n",
        "\n",
        "print 'Перше обертання:'\n",
        "matrixToPlot(V)\n",
        "plt.xlim(-1.5, 1.5)\n",
        "plt.ylim(-1.5, 1.5)\n",
        "plt.show()\n",
        "\n",
        "print 'Масштабування:'\n",
        "matrixToPlot(np.diag(D).dot(V))\n",
        "plt.xlim(-9, 9)\n",
        "plt.ylim(-9, 9)\n",
        "plt.show()\n",
        "\n",
        "print 'Друге обертання:'\n",
        "matrixToPlot(U.dot(np.diag(D)).dot(V))\n",
        "plt.xlim(-8, 8)\n",
        "plt.ylim(-8, 8)\n",
        "plt.show()"
      ],
      "execution_count": 16,
      "outputs": [
        {
          "output_type": "stream",
          "text": [
            "Unit circle:\n"
          ],
          "name": "stdout"
        },
        {
          "output_type": "display_data",
          "data": {
            "image/png": "[encoded data removed]",
            "text/plain": [
              "<Figure size 288x288 with 1 Axes>"
            ]
          },
          "metadata": {
            "tags": [],
            "needs_background": "light"
          }
        },
        {
          "output_type": "stream",
          "text": [
            "Перше обертання:\n"
          ],
          "name": "stdout"
        },
        {
          "output_type": "display_data",
          "data": {
            "image/png": "[encoded data removed]",
            "text/plain": [
              "<Figure size 288x288 with 1 Axes>"
            ]
          },
          "metadata": {
            "tags": [],
            "needs_background": "light"
          }
        },
        {
          "output_type": "stream",
          "text": [
            "Масштабування:\n"
          ],
          "name": "stdout"
        },
        {
          "output_type": "display_data",
          "data": {
            "image/png": "[encoded data removed]",
            "text/plain": [
              "<Figure size 288x288 with 1 Axes>"
            ]
          },
          "metadata": {
            "tags": [],
            "needs_background": "light"
          }
        },
        {
          "output_type": "stream",
          "text": [
            "Друге обертання:\n"
          ],
          "name": "stdout"
        },
        {
          "output_type": "display_data",
          "data": {
            "image/png": "[encoded data removed]",
            "text/plain": [
              "<Figure size 288x288 with 1 Axes>"
            ]
          },
          "metadata": {
            "tags": [],
            "needs_background": "light"
          }
        }
      ]
    },
    {
      "cell_type": "markdown",
      "metadata": {
        "id": "O-TbDPanP7c7"
      },
      "source": [
        "Щоб бути впевненим, ви можете порівняти цей останній крок із перетворенням на $\\bs{A}$. На щастя, ви побачите, що результат однаковий:"
      ]
    },
    {
      "cell_type": "code",
      "metadata": {
        "hideCode": false,
        "hidePrompt": false,
        "scrolled": false,
        "colab": {
          "base_uri": "https://localhost:8080/",
          "height": 274
        },
        "id": "rtnVjz1SP7c7",
        "outputId": "98af7aa4-5268-41b3-ee0e-56d395579f54"
      },
      "source": [
        "matrixToPlot(A)\n",
        "plt.xlim(-8, 8)\n",
        "plt.ylim(-8, 8)\n",
        "plt.show()"
      ],
      "execution_count": 17,
      "outputs": [
        {
          "output_type": "display_data",
          "data": {
            "image/png": "[encoded data removed]",
            "text/plain": [
              "<Figure size 288x288 with 1 Axes>"
            ]
          },
          "metadata": {
            "tags": [],
            "needs_background": "light"
          }
        }
      ]
    },
    {
      "cell_type": "markdown",
      "metadata": {
        "id": "-xic7RsqP7c7"
      },
      "source": [
        "# Інтерпретація одиничних значень\n",
        "\n",
        "Одиничні значення упорядковуються за спаданням. Вони відповідають новому набору ознак (які є лінійною комбінацією вихідних ознак), причому перша ознака пояснює більшу частину дисперсії. Наприклад, з останнього прикладу ми можемо візуалізувати ці нові функції. Головною віссю еліпса буде перший лівий сингулярний вектор ($u_1$), а його нормою буде перше сингулярне значення ($\\sigma_1$)."
      ]
    },
    {
      "cell_type": "code",
      "metadata": {
        "colab": {
          "base_uri": "https://localhost:8080/",
          "height": 274
        },
        "id": "JFlp2BOzP7c8",
        "outputId": "c45b69c0-86d7-4b6a-9f95-92be85a7b754"
      },
      "source": [
        "u1 = [D[0]*U[0,0], D[0]*U[0,1]]\n",
        "v1 = [D[1]*U[1,0], D[1]*U[1,1]]\n",
        "\n",
        "plotVectors([u1, v1], cols=['black', 'black'])\n",
        "\n",
        "matrixToPlot(A)\n",
        "\n",
        "plt.text(-5, -4, r\"$\\sigma_1u_1$\", size=18)\n",
        "plt.text(-4, 1, r\"$\\sigma_2u_2$\", size=18)\n",
        "\n",
        "plt.xlim(-8, 8)\n",
        "plt.ylim(-8, 8)\n",
        "plt.show()"
      ],
      "execution_count": 18,
      "outputs": [
        {
          "output_type": "display_data",
          "data": {
            "image/png": "[encoded data removed]",
            "text/plain": [
              "<Figure size 288x288 with 1 Axes>"
            ]
          },
          "metadata": {
            "tags": [],
            "needs_background": "light"
          }
        }
      ]
    },
    {
      "cell_type": "markdown",
      "metadata": {
        "id": "GHOBcvk9P7c8"
      },
      "source": [
        "Вони є головною ($\\sigma_1u_1$) і другорядною ($\\sigma_2u_2$) осями еліпсу. Ми бачимо, що ознака, що відповідає цій головній осі, асоціюється з більшою дисперсією (діапазон значень на цій осі більший за інший). Див. [2.12](https://hadrienj.github.io/posts/Deep-Learning-Book-Series-2.12-Example-Principal-Components-Analysis/) для отримання більш докладної інформації про пояснення дисперсії."
      ]
    },
    {
      "cell_type": "markdown",
      "metadata": {
        "hideCode": false,
        "hidePrompt": false,
        "id": "RF0x4KLsP7c8"
      },
      "source": [
        "# SVD і власне розкладання\n",
        "\n",
        "Тепер, коли ми розуміємо тип декомпозиції, проведеної за допомогою SVD, ми хочемо знати, як знаходяться суб-перетворення.\n",
        "\n",
        "Матриці $\\bs{U}$, $\\bs{D}$ і $\\bs{V}$ можна знайти, перетворивши $\\bs{A}$ у квадратну матрицю та обчисливши власні вектори цієї квадратної матриці. Квадратну матрицю можна отримати, помноживши матрицю $\\bs{A}$ на її транспонування так чи інакше:\n",
        "\n",
        "- $\\bs{U}$ відповідає власним векторам $\\bs{AA}^\\text{T}$\n",
        "- $\\bs{V}$ відповідає власним векторам $\\bs{A^\\text{T}A}$\n",
        "- $\\bs{D}$ відповідає власним векторам $\\bs{AA}^\\text{T}$ або $\\bs{A^\\text{T}A}$ які однакові.\n",
        "\n",
        "Візьмемо приклад неквадратної матриці:\n",
        "\n",
        "$$\n",
        "\\bs{A}=\\begin{bmatrix}\n",
        "    7 & 2\\\\\\\\\n",
        "    3 & 4\\\\\\\\\n",
        "    5 & 3\n",
        "\\end{bmatrix}\n",
        "$$\n",
        "\n",
        "Розкладання одиничного значення можна здійснити за допомогою функції `linalg.svd ()` від Numpy (зауважте, що `np.linalg.eig (A)` працює лише на квадратних матрицях і дасть помилку для `A`)."
      ]
    },
    {
      "cell_type": "code",
      "metadata": {
        "hideCode": false,
        "hidePrompt": false,
        "colab": {
          "base_uri": "https://localhost:8080/"
        },
        "id": "qMhlUPlYP7c9",
        "outputId": "586d03e0-dcd5-4cab-cd57-33e5dddcf210"
      },
      "source": [
        "A = np.array([[7, 2], [3, 4], [5, 3]])\n",
        "U, D, V = np.linalg.svd(A)\n",
        "U"
      ],
      "execution_count": 19,
      "outputs": [
        {
          "output_type": "execute_result",
          "data": {
            "text/plain": [
              "array([[-0.69366543,  0.59343205, -0.40824829],\n",
              "       [-0.4427092 , -0.79833696, -0.40824829],\n",
              "       [-0.56818732, -0.10245245,  0.81649658]])"
            ]
          },
          "metadata": {
            "tags": []
          },
          "execution_count": 19
        }
      ]
    },
    {
      "cell_type": "code",
      "metadata": {
        "hideCode": false,
        "hidePrompt": false,
        "colab": {
          "base_uri": "https://localhost:8080/"
        },
        "id": "hj-mwhIVP7c9",
        "outputId": "a66b04f9-93cf-47cb-8916-24c9abe7ca98"
      },
      "source": [
        "D"
      ],
      "execution_count": 20,
      "outputs": [
        {
          "output_type": "execute_result",
          "data": {
            "text/plain": [
              "array([10.25142677,  2.62835484])"
            ]
          },
          "metadata": {
            "tags": []
          },
          "execution_count": 20
        }
      ]
    },
    {
      "cell_type": "code",
      "metadata": {
        "colab": {
          "base_uri": "https://localhost:8080/"
        },
        "id": "WaFpU2mKP7c-",
        "outputId": "b52aaa08-885b-432a-f67e-f30ec6ebe424"
      },
      "source": [
        "V"
      ],
      "execution_count": 21,
      "outputs": [
        {
          "output_type": "execute_result",
          "data": {
            "text/plain": [
              "array([[-0.88033817, -0.47434662],\n",
              "       [ 0.47434662, -0.88033817]])"
            ]
          },
          "metadata": {
            "tags": []
          },
          "execution_count": 21
        }
      ]
    },
    {
      "cell_type": "markdown",
      "metadata": {
        "hideCode": false,
        "hidePrompt": false,
        "id": "MPULKFAGP7c_"
      },
      "source": [
        "## Ліво-сингулярні значення\n",
        "\n",
        "Ліво-сингулярні значення $\\bs{A}$ відповідають власним векторам $\\bs{AA}^\\text{T}$.\n",
        "\n",
        "### Приклад 5.\n",
        "\n",
        "Зверніть увагу, що різниця знаків походить від того, що власні вектори не є унікальними. Функції `linalg` від Numpy повертають нормовані власні вектори. Масштабування до `-1` не змінює їх напрямок або той факт, що вони є одиничними векторами."
      ]
    },
    {
      "cell_type": "code",
      "metadata": {
        "collapsed": true,
        "hideCode": false,
        "hidePrompt": false,
        "id": "0HkmHpFlP7c_"
      },
      "source": [
        "U, D, V = np.linalg.svd(A)"
      ],
      "execution_count": 22,
      "outputs": []
    },
    {
      "cell_type": "markdown",
      "metadata": {
        "id": "tzL4u3RAP7c_"
      },
      "source": [
        "Ліво-сингулярні вектори A:"
      ]
    },
    {
      "cell_type": "code",
      "metadata": {
        "colab": {
          "base_uri": "https://localhost:8080/"
        },
        "id": "Xby9vtuEP7dA",
        "outputId": "bdd69779-9760-44a6-c57f-163ec67e5c43"
      },
      "source": [
        "U"
      ],
      "execution_count": 23,
      "outputs": [
        {
          "output_type": "execute_result",
          "data": {
            "text/plain": [
              "array([[-0.69366543,  0.59343205, -0.40824829],\n",
              "       [-0.4427092 , -0.79833696, -0.40824829],\n",
              "       [-0.56818732, -0.10245245,  0.81649658]])"
            ]
          },
          "metadata": {
            "tags": []
          },
          "execution_count": 23
        }
      ]
    },
    {
      "cell_type": "markdown",
      "metadata": {
        "id": "gfsGw2usP7dB"
      },
      "source": [
        "Власні вектори AA_transpose:"
      ]
    },
    {
      "cell_type": "code",
      "metadata": {
        "colab": {
          "base_uri": "https://localhost:8080/"
        },
        "id": "iL7kqxuJP7dB",
        "outputId": "906d116a-f689-49d8-f962-aa594fed8015"
      },
      "source": [
        "np.linalg.eig(A.dot(A.T))[1]"
      ],
      "execution_count": 24,
      "outputs": [
        {
          "output_type": "execute_result",
          "data": {
            "text/plain": [
              "array([[-0.69366543, -0.59343205, -0.40824829],\n",
              "       [-0.4427092 ,  0.79833696, -0.40824829],\n",
              "       [-0.56818732,  0.10245245,  0.81649658]])"
            ]
          },
          "metadata": {
            "tags": []
          },
          "execution_count": 24
        }
      ]
    },
    {
      "cell_type": "markdown",
      "metadata": {
        "hideCode": false,
        "hidePrompt": false,
        "id": "5MWhk5IZP7dB"
      },
      "source": [
        "## Право-сингулярні значення\n",
        "\n",
        "Право-сингулярні значення $\\bs{A}$ відповідають власним векторам $\\bs{A}^\\text{T}\\bs{A}$.\n",
        "\n",
        "### Приклад 6."
      ]
    },
    {
      "cell_type": "code",
      "metadata": {
        "collapsed": true,
        "hideCode": false,
        "hidePrompt": false,
        "id": "57RsQVXFP7dB"
      },
      "source": [
        "U, D, V = np.linalg.svd(A)"
      ],
      "execution_count": 25,
      "outputs": []
    },
    {
      "cell_type": "markdown",
      "metadata": {
        "id": "5WWtJwR9P7dD"
      },
      "source": [
        "Право-сингулярні вектори A:"
      ]
    },
    {
      "cell_type": "code",
      "metadata": {
        "colab": {
          "base_uri": "https://localhost:8080/"
        },
        "id": "HBB4TsjXP7dD",
        "outputId": "6c53262b-73f8-42c1-c411-0515e2b789af"
      },
      "source": [
        "V"
      ],
      "execution_count": 26,
      "outputs": [
        {
          "output_type": "execute_result",
          "data": {
            "text/plain": [
              "array([[-0.88033817, -0.47434662],\n",
              "       [ 0.47434662, -0.88033817]])"
            ]
          },
          "metadata": {
            "tags": []
          },
          "execution_count": 26
        }
      ]
    },
    {
      "cell_type": "markdown",
      "metadata": {
        "id": "EFRzJMPTP7dD"
      },
      "source": [
        "Власні вектори A_transposeA:"
      ]
    },
    {
      "cell_type": "code",
      "metadata": {
        "colab": {
          "base_uri": "https://localhost:8080/"
        },
        "id": "1Dujd40UP7dF",
        "outputId": "7fc798b9-a10d-4589-f2da-b0e3bf09778b"
      },
      "source": [
        "np.linalg.eig(A.T.dot(A))[1]"
      ],
      "execution_count": 27,
      "outputs": [
        {
          "output_type": "execute_result",
          "data": {
            "text/plain": [
              "array([[ 0.88033817, -0.47434662],\n",
              "       [ 0.47434662,  0.88033817]])"
            ]
          },
          "metadata": {
            "tags": []
          },
          "execution_count": 27
        }
      ]
    },
    {
      "cell_type": "markdown",
      "metadata": {
        "hideCode": false,
        "hidePrompt": false,
        "id": "vw89sTUkP7dF"
      },
      "source": [
        "## Ненульові одиничні значення\n",
        "\n",
        "Ненульові одиничні значення $\\bs{A}$ є квадратними коренями власних значень $\\bs{A}^\\text{T}\\bs{A}$ та $\\bs{AA}^\\text{T}$.\n",
        "\n",
        "### Приклад 7."
      ]
    },
    {
      "cell_type": "code",
      "metadata": {
        "hideCode": false,
        "hidePrompt": false,
        "colab": {
          "base_uri": "https://localhost:8080/"
        },
        "id": "psbumqGWP7dF",
        "outputId": "9c086dbe-1977-4ad1-cae8-2ab4d8370850"
      },
      "source": [
        "U, D, V = np.linalg.svd(A)\n",
        "D"
      ],
      "execution_count": 28,
      "outputs": [
        {
          "output_type": "execute_result",
          "data": {
            "text/plain": [
              "array([10.25142677,  2.62835484])"
            ]
          },
          "metadata": {
            "tags": []
          },
          "execution_count": 28
        }
      ]
    },
    {
      "cell_type": "markdown",
      "metadata": {
        "id": "9NsXu3RiP7dG"
      },
      "source": [
        "Власні значення A_transposeA:"
      ]
    },
    {
      "cell_type": "code",
      "metadata": {
        "colab": {
          "base_uri": "https://localhost:8080/"
        },
        "id": "8Id048UuP7dG",
        "outputId": "bf131300-9eb2-4539-ed9f-89f4415d558e"
      },
      "source": [
        "np.linalg.eig(A.T.dot(A))[0]"
      ],
      "execution_count": 29,
      "outputs": [
        {
          "output_type": "execute_result",
          "data": {
            "text/plain": [
              "array([105.09175083,   6.90824917])"
            ]
          },
          "metadata": {
            "tags": []
          },
          "execution_count": 29
        }
      ]
    },
    {
      "cell_type": "markdown",
      "metadata": {
        "id": "pEvgL63mP7dG"
      },
      "source": [
        "Власні значення AA_transpose:"
      ]
    },
    {
      "cell_type": "code",
      "metadata": {
        "colab": {
          "base_uri": "https://localhost:8080/"
        },
        "id": "ZM9Gb08oP7dG",
        "outputId": "151ae7ca-d2ed-4601-aefb-7711bf69f915"
      },
      "source": [
        "np.linalg.eig(A.dot(A.T))[0]"
      ],
      "execution_count": 30,
      "outputs": [
        {
          "output_type": "execute_result",
          "data": {
            "text/plain": [
              "array([105.09175083,   6.90824917,  -0.        ])"
            ]
          },
          "metadata": {
            "tags": []
          },
          "execution_count": 30
        }
      ]
    },
    {
      "cell_type": "markdown",
      "metadata": {
        "id": "-Il2I0RhP7dH"
      },
      "source": [
        "Квадратний корінь власних значень:"
      ]
    },
    {
      "cell_type": "code",
      "metadata": {
        "colab": {
          "base_uri": "https://localhost:8080/"
        },
        "id": "veO4_84wP7dI",
        "outputId": "f0817cc9-b99b-4a22-fcb6-6a4e583cf33d"
      },
      "source": [
        "np.sqrt(np.linalg.eig(A.T.dot(A))[0])"
      ],
      "execution_count": 31,
      "outputs": [
        {
          "output_type": "execute_result",
          "data": {
            "text/plain": [
              "array([10.25142677,  2.62835484])"
            ]
          },
          "metadata": {
            "tags": []
          },
          "execution_count": 31
        }
      ]
    },
    {
      "cell_type": "markdown",
      "metadata": {
        "id": "veX0tB8XP7dI"
      },
      "source": [
        "# БОНУС: Застосування SVD на зображення\n",
        "\n",
        "У цьому прикладі ми будемо використовувати SVD для вилучення з зображення більш важливих функцій. Приємно бачити вплив SVD на щось дуже візуальне. Код натхненний/взятий із [цього посту](https://www.frankcleary.com/svdimage/).\n",
        "\n",
        "Почнемо із завантаження зображення в python і перетворення його в масив Numpy. Ми перетворимо його на шкалу сірого, щоб мати один вимір на піксель. Форма матриці відповідає розміру зображення, заповненого значеннями інтенсивності: 1 комірка на піксель."
      ]
    },
    {
      "cell_type": "code",
      "metadata": {
        "colab": {
          "base_uri": "https://localhost:8080/",
          "height": 237
        },
        "id": "d_jDqnw4P7dI",
        "outputId": "f6a99ad8-4138-4799-91c9-b93faa9feba4"
      },
      "source": [
        "#з імпорту зображення PIL\n",
        "\n",
        "plt.style.use('classic')\n",
        "img = Image.open('test_svd.jpg')\n",
        "# конвертувати зображення у відтінки сірого\n",
        "imggray = img.convert('LA')\n",
        "# перетворити в масив numpy\n",
        "imgmat = np.array(list(imggray.getdata(band=0)), float)\n",
        "# Переформування відповідно до вихідних розмірів зображення\n",
        "imgmat.shape = (imggray.size[1], imggray.size[0])\n",
        "\n",
        "plt.figure(figsize=(9, 6))\n",
        "plt.imshow(imgmat, cmap='gray')\n",
        "plt.show()"
      ],
      "execution_count": 33,
      "outputs": [
        {
          "output_type": "error",
          "ename": "NameError",
          "evalue": "ignored",
          "traceback": [
            "\u001b[0;31m\u001b[0m",
            "\u001b[0;31mNameError\u001b[0mTraceback (most recent call last)",
            "\u001b[0;32m<ipython-input-33-287eb480f4a0>\u001b[0m in \u001b[0;36m<module>\u001b[0;34m()\u001b[0m\n\u001b[1;32m      2\u001b[0m \u001b[0;34m\u001b[0m\u001b[0m\n\u001b[1;32m      3\u001b[0m \u001b[0mplt\u001b[0m\u001b[0;34m.\u001b[0m\u001b[0mstyle\u001b[0m\u001b[0;34m.\u001b[0m\u001b[0muse\u001b[0m\u001b[0;34m(\u001b[0m\u001b[0;34m'classic'\u001b[0m\u001b[0;34m)\u001b[0m\u001b[0;34m\u001b[0m\u001b[0m\n\u001b[0;32m----> 4\u001b[0;31m \u001b[0mimg\u001b[0m \u001b[0;34m=\u001b[0m \u001b[0mImage\u001b[0m\u001b[0;34m.\u001b[0m\u001b[0mopen\u001b[0m\u001b[0;34m(\u001b[0m\u001b[0;34m'test_svd.jpg'\u001b[0m\u001b[0;34m)\u001b[0m\u001b[0;34m\u001b[0m\u001b[0m\n\u001b[0m\u001b[1;32m      5\u001b[0m \u001b[0;31m# конвертувати зображення у відтінки сірого\u001b[0m\u001b[0;34m\u001b[0m\u001b[0;34m\u001b[0m\u001b[0m\n\u001b[1;32m      6\u001b[0m \u001b[0mimggray\u001b[0m \u001b[0;34m=\u001b[0m \u001b[0mimg\u001b[0m\u001b[0;34m.\u001b[0m\u001b[0mconvert\u001b[0m\u001b[0;34m(\u001b[0m\u001b[0;34m'LA'\u001b[0m\u001b[0;34m)\u001b[0m\u001b[0;34m\u001b[0m\u001b[0m\n",
            "\u001b[0;31mNameError\u001b[0m: name 'Image' is not defined"
          ]
        }
      ]
    },
    {
      "cell_type": "markdown",
      "metadata": {
        "id": "5GlBcwYRP7dI"
      },
      "source": [
        "Ми побачимо, як перевірити вплив SVD на **гуся Люсі**! Почнемо виділяти ліві одиничні вектори, одиничні значення та правий одиничні вектори:"
      ]
    },
    {
      "cell_type": "code",
      "metadata": {
        "collapsed": true,
        "colab": {
          "base_uri": "https://localhost:8080/",
          "height": 168
        },
        "id": "7Ngrkq40P7dJ",
        "outputId": "184562ab-fb77-466a-8e81-042ecb5ed4bc"
      },
      "source": [
        "U, D, V = np.linalg.svd(imgmat)"
      ],
      "execution_count": 34,
      "outputs": [
        {
          "output_type": "error",
          "ename": "NameError",
          "evalue": "ignored",
          "traceback": [
            "\u001b[0;31m\u001b[0m",
            "\u001b[0;31mNameError\u001b[0mTraceback (most recent call last)",
            "\u001b[0;32m<ipython-input-34-803eb689079d>\u001b[0m in \u001b[0;36m<module>\u001b[0;34m()\u001b[0m\n\u001b[0;32m----> 1\u001b[0;31m \u001b[0mU\u001b[0m\u001b[0;34m,\u001b[0m \u001b[0mD\u001b[0m\u001b[0;34m,\u001b[0m \u001b[0mV\u001b[0m \u001b[0;34m=\u001b[0m \u001b[0mnp\u001b[0m\u001b[0;34m.\u001b[0m\u001b[0mlinalg\u001b[0m\u001b[0;34m.\u001b[0m\u001b[0msvd\u001b[0m\u001b[0;34m(\u001b[0m\u001b[0mimgmat\u001b[0m\u001b[0;34m)\u001b[0m\u001b[0;34m\u001b[0m\u001b[0m\n\u001b[0m",
            "\u001b[0;31mNameError\u001b[0m: name 'imgmat' is not defined"
          ]
        }
      ]
    },
    {
      "cell_type": "markdown",
      "metadata": {
        "id": "h5TFJcvnP7dJ"
      },
      "source": [
        "Давайте перевіримо форми наших матриць:"
      ]
    },
    {
      "cell_type": "code",
      "metadata": {
        "id": "2mPy14O6P7dK"
      },
      "source": [
        "imgmat.shape"
      ],
      "execution_count": null,
      "outputs": []
    },
    {
      "cell_type": "code",
      "metadata": {
        "id": "fdpfFOwsP7dL"
      },
      "source": [
        "U.shape"
      ],
      "execution_count": null,
      "outputs": []
    },
    {
      "cell_type": "code",
      "metadata": {
        "id": "mVk38JrOP7dL"
      },
      "source": [
        "D.shape"
      ],
      "execution_count": null,
      "outputs": []
    },
    {
      "cell_type": "code",
      "metadata": {
        "id": "lWXZvd-zP7dL"
      },
      "source": [
        "V.shape"
      ],
      "execution_count": null,
      "outputs": []
    },
    {
      "cell_type": "markdown",
      "metadata": {
        "id": "9FhnJoxhP7dM"
      },
      "source": [
        "Пам’ятайте, що $\\bs{D}$ - це одиничні значення, які потрібно ввести в діагональну матрицю. Крім того, $\\bs{V}$ не потрібно транспонувати (див. вище).\n",
        "\n",
        "Сингулярні вектори та одиничні значення упорядковані з першими, що відповідають більшій поясненій дисперсії. З цієї причини використання лише перших кількох одиничних векторів та одиничних значень забезпечить реконструкцію основних елементів зображення.\n",
        "\n",
        "Ми можемо реконструювати зображення з певної кількості одиничних значень. Наприклад, для 2 одиничних значень ми матимемо:\n",
        "\n",
        "<img src=\"images/dimensions-reconstruction-image-singular-value-decomposition.png\" width=\"400\" alt=\"Розміри розкладання одиничного значення для реконструкції зображення з декількох компонентів\" title=\"Розміри реконструкції зображення\">\n",
        "<em>Ми можемо відновити зображення за кількома компонентами</em>\n",
        "\n",
        "У цьому прикладі ми відновили зображення 669 пікселів на 1000 пікселів з двох одиничних значень. "
      ]
    },
    {
      "cell_type": "code",
      "metadata": {
        "id": "gaRacSsnP7dM"
      },
      "source": [
        "reconstimg = np.matrix(U[:, :2]) * np.diag(D[:2]) * np.matrix(V[:2, :])\n",
        "plt.imshow(reconstimg, cmap='gray')\n",
        "plt.show()"
      ],
      "execution_count": null,
      "outputs": []
    },
    {
      "cell_type": "markdown",
      "metadata": {
        "id": "BiHBc29CP7dN"
      },
      "source": [
        "Важко побачити Люсі лише з двома одиничними значеннями та сингулярними векторами. Але ми вже щось бачимо!\n",
        "\n",
        "Тепер ми проведемо реконструкцію, використовуючи різну кількість одиничних значень."
      ]
    },
    {
      "cell_type": "code",
      "metadata": {
        "scrolled": true,
        "id": "JPSiah4YP7dO"
      },
      "source": [
        "for i in [5, 10, 15, 20, 30, 50]:\n",
        "    reconstimg = np.matrix(U[:, :i]) * np.diag(D[:i]) * np.matrix(V[:i, :])\n",
        "    plt.imshow(reconstimg, cmap='gray')\n",
        "    title = \"n = %s\" % i\n",
        "    plt.title(title)\n",
        "    plt.show()"
      ],
      "execution_count": null,
      "outputs": []
    },
    {
      "cell_type": "markdown",
      "metadata": {
        "id": "cOBoqCaXP7dO"
      },
      "source": [
        "Вау! Навіть із 50 компонентами якість зображення непогана!\n",
        "\n",
        "# Висновок\n",
        "\n",
        "Мені подобається цей розділ про SVD, оскільки він використовує те, що ми дізналися на даний момент, у конкретному застосуванні. Наступний розділ, присвячений псевдоінверсії, також досить цікавий, тому продовжуйте читати! Ми побачимо, як знайти близьке рішення системи рівняння, яка мінімізує помилку, і в кінці ми побачимо приклад, який використовує псевдоінверсію для пошуку найкращої лінії набору точок даних."
      ]
    },
    {
      "cell_type": "markdown",
      "metadata": {
        "id": "gkUw0LJzP7dO"
      },
      "source": [
        "<span class='notes'>\n",
        "      Не соромтеся писати мені електронний лист чи коментар. Програму цієї статті можна знайти [у вступній статті](https://hadrienj.github.io/posts/Deep-Learning-Book-Series-Introduction/). Всі блокноти можна знайти на [Github](https://github.com/hadrienj/deepLearningBook-Notes).\n",
        "</span>"
      ]
    },
    {
      "cell_type": "markdown",
      "metadata": {
        "hideCode": false,
        "hidePrompt": false,
        "id": "IyYd34B4P7dP"
      },
      "source": [
        "# Список літератури\n",
        "\n",
        "Оригінал [Singular Value Decomposition](https://github.com/hadrienj/deepLearningBook-Notes/blob/master/2.8%20Singular%20Value%20Decomposition/2.8%20Singular%20Value%20Decomposition.ipynb)\n",
        "## Малювання кола за допомогою Matplotlib\n",
        "\n",
        "- https://stackoverflow.com/questions/32092899/plot-equation-showing-a-circle\n",
        "\n",
        "## Матриця обертання\n",
        "\n",
        "- https://en.wikipedia.org/wiki/Rotation_matrix)\n",
        "\n",
        "## Базисні вектори\n",
        "\n",
        "- https://en.wikipedia.org/wiki/Basis_(linear_algebra)\n",
        "\n",
        "## Лінійне перетворення\n",
        "\n",
        "- [Aran Glancy - Linear transformation and matrices](https://www.youtube.com/watch?v=kJIUbtSowRg)\n",
        "\n",
        "## SVD\n",
        "\n",
        "- [Singular Value Decomposition - Wikipedia](https://en.wikipedia.org/wiki/Singular-value_decomposition)\n",
        "\n",
        "- [Professor-svd](https://fr.mathworks.com/company/newsletters/articles/professor-svd.html)\n",
        "\n",
        "- [Intoli - PCA and SVD](https://intoli.com/blog/pca-and-svd/)\n",
        "\n",
        "## Numpy\n",
        "\n",
        "- [Numpy SVD doc](https://docs.scipy.org/doc/numpy-1.13.0/reference/generated/numpy.linalg.svd.html)\n",
        "\n",
        "## Обробка зображень\n",
        "\n",
        "- [Frank Cleary - SVD of an image](https://www.frankcleary.com/svdimage/)\n",
        "- [2.2 Multiplying Matrices and Vectors](https://github.com/hadrienj/deepLearningBook-Notes/blob/master/2.2%20Multiplying%20Matrices%20and%20Vectors/2.2%20Multiplying%20Matrices%20and%20Vectors.ipynb)"
      ]
    },
    {
      "cell_type": "code",
      "metadata": {
        "id": "Uuu5sTdwP7dP"
      },
      "source": [
        "u = [0,0,1,6]\n",
        "v = [0,0,4,2]\n",
        "u_bis = [u[2], u[3], v[2],v[3]]\n",
        "w = [u[0]+v[0], u[1]+v[1], u[2]+v[2], u[3]+v[3]]\n",
        "\n",
        "plotVectors([u, u_bis, w], ['red', 'green', 'blue'])\n",
        "plt.xlim(0, 10)\n",
        "plt.ylim(0, 10)"
      ],
      "execution_count": null,
      "outputs": []
    },
    {
      "cell_type": "markdown",
      "metadata": {
        "id": "evDE81gBQzel"
      },
      "source": [
        "Переклад: Шапран Андрій, студент ІО-01мн, 2020 рік"
      ]
    }
  ]
}