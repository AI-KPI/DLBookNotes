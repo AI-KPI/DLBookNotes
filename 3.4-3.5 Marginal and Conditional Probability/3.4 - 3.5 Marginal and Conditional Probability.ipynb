{
  "nbformat": 4,
  "nbformat_minor": 0,
  "metadata": {
    "kernelspec": {
      "display_name": "Python 3",
      "language": "python",
      "name": "python3"
    },
    "language_info": {
      "codemirror_mode": {
        "name": "ipython",
        "version": 3
      },
      "file_extension": ".py",
      "mimetype": "text/x-python",
      "name": "python",
      "nbconvert_exporter": "python",
      "pygments_lexer": "ipython3",
      "version": "3.8.3"
    },
    "colab": {
      "name": "Marginal and Conditional Probability_Худоба Василь_ІО-02мп.ipynb",
      "provenance": [],
      "collapsed_sections": []
    }
  },
  "cells": [
    {
      "cell_type": "code",
      "metadata": {
        "id": "0isi96hulYjR"
      },
      "source": [
        "import numpy as np\n",
        "import matplotlib.pyplot as plt\n",
        "import seaborn as sns"
      ],
      "execution_count": 1,
      "outputs": []
    },
    {
      "cell_type": "code",
      "metadata": {
        "colab": {
          "base_uri": "https://localhost:8080/"
        },
        "id": "ayjS6sRzlYja",
        "outputId": "c9c37471-cab9-40fb-d528-fba6fd94c1c7"
      },
      "source": [
        "# Plot style\n",
        "sns.set()\n",
        "%pylab inline\n",
        "pylab.rcParams['figure.figsize'] = (6, 4)"
      ],
      "execution_count": 2,
      "outputs": [
        {
          "output_type": "stream",
          "text": [
            "Populating the interactive namespace from numpy and matplotlib\n"
          ],
          "name": "stdout"
        }
      ]
    },
    {
      "cell_type": "markdown",
      "metadata": {
        "id": "LxHuyGBqlYjd"
      },
      "source": [
        "Заповнення інтерактивного простору імен з numpy та matplotlib."
      ]
    },
    {
      "cell_type": "code",
      "metadata": {
        "colab": {
          "base_uri": "https://localhost:8080/",
          "height": 17
        },
        "id": "5vQ6SZZ8lYjf",
        "outputId": "06aa3027-bfd0-44b6-f058-a116cd59f379"
      },
      "source": [
        "%%html\n",
        "<style>\n",
        ".pquote {\n",
        "  text-align: left;\n",
        "  margin: 40px 0 40px auto;\n",
        "  width: 70%;\n",
        "  font-size: 1.5em;\n",
        "  font-style: italic;\n",
        "  display: block;\n",
        "  line-height: 1.3em;\n",
        "  color: #5a75a7;\n",
        "  font-weight: 600;\n",
        "  border-left: 5px solid rgba(90, 117, 167, .1);\n",
        "  padding-left: 6px;\n",
        "}\n",
        ".notes {\n",
        "  font-style: italic;\n",
        "  display: block;\n",
        "  margin: 40px 10%;\n",
        "}\n",
        "img + em {\n",
        "  text-align: center;\n",
        "  display: block;\n",
        "  color: gray;\n",
        "  font-size: 0.9em;\n",
        "  font-weight: 600;\n",
        "}\n",
        "</style>"
      ],
      "execution_count": 3,
      "outputs": [
        {
          "output_type": "display_data",
          "data": {
            "text/html": [
              "<style>\n",
              ".pquote {\n",
              "  text-align: left;\n",
              "  margin: 40px 0 40px auto;\n",
              "  width: 70%;\n",
              "  font-size: 1.5em;\n",
              "  font-style: italic;\n",
              "  display: block;\n",
              "  line-height: 1.3em;\n",
              "  color: #5a75a7;\n",
              "  font-weight: 600;\n",
              "  border-left: 5px solid rgba(90, 117, 167, .1);\n",
              "  padding-left: 6px;\n",
              "}\n",
              ".notes {\n",
              "  font-style: italic;\n",
              "  display: block;\n",
              "  margin: 40px 10%;\n",
              "}\n",
              "img + em {\n",
              "  text-align: center;\n",
              "  display: block;\n",
              "  color: gray;\n",
              "  font-size: 0.9em;\n",
              "  font-weight: 600;\n",
              "}\n",
              "</style>"
            ],
            "text/plain": [
              "<IPython.core.display.HTML object>"
            ]
          },
          "metadata": {
            "tags": []
          }
        }
      ]
    },
    {
      "cell_type": "markdown",
      "metadata": {
        "id": "6pI5bN4WlYjh"
      },
      "source": [
        "Цей контент є частиною серії після розділу 3 про ймовірність з [Книги поглибленого навчання] (http://www.deeplearningbook.org/) Goodfellow, I., Bengio, Y., та Courville, A. (2016). Його ціллю є забезпечення інтуїцією / малюнками / кодом мовою python з математичних теорій і побудований як моє розуміння цих понять.\n",
        "\n",
        "Ви можете знайти відповідний пост [тут](https://hadrienj.github.io/posts/Marginal-and-Conditional-Probability/) в моєму блозі.\n",
        "\n",
        "Ми вивчили основи ймовірності в [останньому дописі](https://hadrienj.github.io/posts/Probability-Mass-and-Density-Functions/) / [блокноті](https://github.com/hadrienj/deepLearningBook-Notes/tree/master/3.1-3.3%20Probability%20Mass%20and%20Density%20Functions), присвяченому розділам 3.1 - 3.3 з Книги поглибленого навчання. Ми дізналися, що таке випадкова величина, функція маси ймовірності або функція щільності ймовірності. Метою було також отримати більш інтуїтивного розуміння щодо часто використовуваних інструментів, таких як похідні, площа під кривою та інтеграли.\n",
        "\n",
        "У цьому другому дописі / блокноті про граничну та умовну ймовірність ви дізнаєтесь про спільну та граничну ймовірність дискретних та неперервних змінних. Після цього, ми побачимо поняття умовної ймовірності та різницю між залежними та незалежними подіями. Все це відповідає розділам 3.4 та 3.5 з Книги поглибленого навчання.\n",
        "\n",
        "Ми наполягатимемо на математичних позначеннях, що використовуються у вірогідності. Ви побачите, що це виразний і синтетичний спосіб вираження ідей!\n",
        "\n",
        "\n",
        "# 3.4 Гранична ймовірність\n",
        "\n",
        "У попередніх постах ми бачили ймовірність однієї випадкової величини за раз. У деяких випадках може бути цікаво побачити ймовірність багатьох подій. Наприклад, ми можемо запитати: \"Якщо я підкину монету два рази, яка ймовірність отримати рівно одну \"решку\"і один \"орел\"? Для відповіді на подібні запитання нам потрібно враховувати кілька подій.\n",
        "\n",
        "### Примітка\n",
        "\n",
        "Почнемо з деяких деталей про позначення. Як завжди, важливо слідкувати, щоб кожен окремий фрагмент математичних позначень був кристально чистим. На наступному малюнку наведено позначення, які ми будемо використовувати в цій статті 🔧:\n",
        "\n",
        "\n",
        "<img src=\"images/summary-mathematical-notation.png\" width=\"500\">\n",
        "\n",
        "_Словник математичних виразів та відповідні їм англійські переклади._\n",
        "\n",
        "Як ми бачили в останньому пості, $P(\\text{x}=x,\\text{y}=y)$ відноситься до __спільної ймовірності__ того, що $\\text{x}$ приймає конкретне значення $x$ __і__ що $\\text{y}$ приймає конкретне значення $y$. Для отримання детальної інформації про позначення ви також можете звернутися до попередньої статті. Ви також можете зустріти позначення перетину: $\\cap$. Наприклад, $P(\\text{x}\\cap\\text{y})$ відповідає ймовірності виникнення як $\\text{x}$, так і $\\text{y}$.\n",
        "\n",
        "\n",
        "### Приклад 1\n",
        "\n",
        "Давайте почнемо з прикладу, щоб розібратись з поняттям граничної ймовірності.\n",
        "\n",
        "У цьому експерименті ми підкидаємо монету (перша подія) і кидаємо гральні кубики (друга подія). Ми розглядаємо ймовірність кожної події. Наприклад, ймовірність отримати \"орла\" становить $\\frac{1}{2}$. Імовірність випадіння 1 дорівнює $\\frac{1}{6}$. На наступному малюнку показані ймовірності кожного результату для кожної події окремо:\n",
        "\n",
        "<img src=\"images/marginal-probabilities-empty.png\" width=\"500\">\n",
        "\n",
        "_Ймовірність двох подій (кидання монети та кидання кубика) представлено індивідуально._\n",
        "\n",
        "Ви можете бути здивовані тим, що я відобразив вірогідності в таблиці. Власне, я підійшов до проблеми задом наперед: ці ймовірності є __граничними ймовірностями__. Назва \"граничний\" підштовхує до ідеї, що ми можемо писати їх на полях таблиці.\n",
        "\n",
        "Виникає питання: які ще ймовірності ми могли б записати в середині таблиці? __Спільні ймовірності__. Це ймовірність отримати два конкретні результати:\n",
        "\n",
        "<img src=\"images/marginal-probabilities.png\" width=\"500\">\n",
        "\n",
        "_Гранична ймовірність. Представлені ймовірності двох подій (кидання монети та кидання кубика). Граничні ймовірності знаходяться на \"границі\" і відповідають ймовірностям кожної події._\n",
        "\n",
        "Наприклад, ми можемо побачити, що ймовірність отримати одиницю 1 і „орла” дорівнює $\\frac{1}{6}\\times\\frac{1}{2}=\\frac{1}{12}$. __Граничні ймовірності__ представлені на полях і відповідають розподілу ймовірностей підмножини змінних.\n",
        "\n",
        "\n",
        "### Правило суми\n",
        "\n",
        "Іноді ви знаєте спільну ймовірність подій і вам потрібно порахувати на її основі граничні ймовірності. Граничні ймовірності обчислюються за правилом суми. Якщо поглянути на останню таблицю, можна побачити, що ймовірності, записані на полях, є сумою ймовірностей відповідного рядка чи стовпця.\n",
        "\n",
        "Виразивши це математично, маємо:\n",
        "\n",
        "$$\n",
        "\\forall x \\in \\text{x}, P(\\text{x}=x) = \\sum_{y} P(\\text{x}=x, \\text{y}=y)\n",
        "$$\n",
        "\n",
        "Ми розглянемо деталі цього рівняння.\n",
        "\n",
        "По-перше, згадайте, що гарнітура є важливою, і вказує на різні речі. $\\text{x}$ - це дискретна випадкова величина (наприклад, що відповідає киданню кубика), а $x$ - результат випадкової події (наприклад, один із можливих результатів кубика: 1, 2, 3, 4, 5 або 6). Точно так само, $\\text{y}$ є випадковою величиною (припустимо, відповідає підкиданню монети), а $y$ - результат $\\text{y}$ ('орел' або 'решка').\n",
        "\n",
        "<img src=\"images/sum_rule_1.png\" width=\"500\">\n",
        "\n",
        "<li>$\\forall x\\in\\text{x}$ можна прочитати \"для всіх $x$ в $\\text{x}$\". Тут це умова істинності рівняння. Отже, вираз є істинним лише тоді, коли результат $x$ є одним із можливих результатів $\\text{x}$. Наприклад, якщо випадкова змінна $\\text{x}$ відповідає киданню кубика, ми знаємо, що $x$ може приймати значення 1, 2, 3, 4, 5 або 6. Рівняння відповідає дійсності лише тоді, коли $x$ насправді приймає одне з цих значень.</li>\n",
        "\n",
        "<img src=\"images/sum_rule_2.png\" width=\"500\">\n",
        "\n",
        "<li>$P(\\text{x}=x)$ - це ймовірність того, що $\\text{x}$ прийме конкретне значення $x$. Наприклад, як і раніше в експерименті з кубиками, $P(\\text{x}=6)$ відповідає ймовірності випадіння шістки.</li>\n",
        "\n",
        "<img src=\"images/sum_rule_3.png\" width=\"500\">\n",
        "\n",
        "<li>Символ суми $\\sum_{y}$ означає, що ми сумуємо елементи, які знаходяться після символу (тут $P(\\text{x}=x, \\text{y}=y)$). Невеликий $y$ під символом суми означає, що ми підсумовуємо всі можливі значення $y$ ($P(\\text{x}=x, \\text{y}=1)$, $P(\\text{x}=x, \\text{y}=2)$ тощо).</li>\n",
        "\n",
        "<img src=\"images/sum_rule_4.png\" width=\"500\">\n",
        "\n",
        "<li>$P(\\text{x}=x, \\text{y}=y)$ - це ймовірність того, що $\\text{x}$ приймає значення $x$, а $\\text{y}$ приймає значення $y$.</li>\n",
        "\n",
        "Тож тепер ми можемо поглянути на те, про що говорять ці рівняння:\n",
        "\n",
        "$$\n",
        "P(\\text{x}=x) = \\sum_{y} P(\\text{x}=x, \\text{y}=y)\n",
        "$$\n",
        "\n",
        "Це означає, що ймовірність того, що $\\text{x}=x$ дорівнює сумі ймовірностей, що відповідають $\\text{x}=x$ для кожного $y$. Наступний приклад пояснить це твердження.\n",
        "\n",
        "\n",
        "### Приклад 2\n",
        "\n",
        "Як і в останньому прикладі, ми проведемо експеримент, де кинемо кубик і кинемо монету. В центрі вищенаведеної таблиці вказані ймовірності того, що і $\\text{x}$, і $\\text{y}$ приймають певне значення, тобто, ми отримуємо конкретні результати для кидання як кубика так і монети. Наприклад, ймовірність випадіння 1 і \"орла\" становить $P(\\text{x}=1,\\text{y}= 'орел') = \\frac{1}{12}$\n",
        "\n",
        "<img src=\"images/sum-rule-example.png\" width=\"500\">\n",
        "\n",
        "_Спільна ймовірність випадіння орла і 1._\n",
        "\n",
        "Ми можемо використати попереднє рівняння:\n",
        "\n",
        "$$\n",
        "P(\\text{x}=x) = \\sum_{y} P(\\text{x}=x, \\text{y}=y)\n",
        "$$\n",
        "\n",
        "Отже, скажімо, що ми хочемо обчислити ймовірність викинути 1:\n",
        "\n",
        "$$\n",
        "P(\\text{x}=1) = \\sum_{y} P(\\text{x}=1, \\text{y}=y)\n",
        "$$\n",
        "\n",
        "Це сума ймовірностей для $ \\text {y} $, коли $ \\text {x} = 1 $. Є дві можливості: у нас може бути $ \\text {x} = 1 $ і $ \\text {y} = 'орел' $ або $ \\text {x} = 1 $ і $ \\text {y} = 'решка' $. Говорячи більш математично можна сказати, що:\n",
        "\n",
        "$$\n",
        "\\sum_y P(\\text{x}=1, \\text{y}=y) = P(\\text{x}=1, \\text{y}='heads') + P(\\text{x}=1, \\text{y}='tails') = \\frac{1}{12} + \\frac{1}{12} = \\frac{1}{6}\n",
        "$$\n",
        "\n",
        "Чи має це сенс? Оскільки кожен випадок $ \\text {y} $ врахований, це лише ймовірність випадіння 1. Це називається __граничною ймовірністю__.\n",
        "\n",
        "Я сподіваюся, що тепер записи зрозумілі. Не хвилюйтеся, якщо ви ще не володієте цими математичними символами: це лише питання звичок. Ви побачите, що це корисний і синтетичний спосіб мислення.\n",
        "\n",
        "### Безперервні змінні\n",
        "\n",
        "Цей самий прийом можна використовувати для неперервних змінних, але нам потрібно використовувати інтеграцію замість підсумовування. Пригадаємо, що для безперервних змінних ймовірність того, що змінна прийме конкретне значення, становить близько $ 0 $, оскільки існує нескінченна кількість можливостей [(пор. Останній допис](https://github.com/hadrienj/deepLearningBook-Notes/blob/master/3.4-3.5%20Marginal%20and%20Conditional%20Probability/3.4%20-%203.5%20Marginal%20and%20Conditional%20Probability.ipynb)\n",
        "[/ блокнот)](https://hadrienj.github.io/posts/Probability-Mass-and-Density-Functions/)\n",
        "\n",
        "### Приклад 3\n",
        "\n",
        "Скажімо, у нас є спільна функція щільності ймовірності двох змінних $ \\text {x} $ і $ \\text {y} $, і ми хочемо обчислити граничну ймовірність. По-перше, нам потрібні три значення для представлення функції щільності ймовірності: значення змінної $ \\text {x} $, значення змінної $ \\text {y} $ та ймовірність, пов'язана з отриманням обох цих значень.\n",
        "\n",
        "Наприклад, припустимо, що $ \\text {x} $ і $ \\text {y} $ представлені нормальним розподілом. Функція з Numpy random.normal () (cf. [Doc](https://numpy.org/doc/stable/reference/generated/numpy.random.normal.html)) створює вектор значень, взятих із нормального розподілу. Перший аргумент - середнє значення розподілу, другий - стандартне відхилення, а третій - кількість вибірок.\n",
        "\n",
        "Наприклад, np.random.normal(0, 1, 1000) створює вектор довжиною 1000:"
      ]
    },
    {
      "cell_type": "code",
      "metadata": {
        "colab": {
          "base_uri": "https://localhost:8080/"
        },
        "id": "eWFXrzfllYjl",
        "outputId": "e7d2e48a-8f1b-4d8d-e62c-1fec641a4474"
      },
      "source": [
        "np.random.seed(123)\n",
        "x = np.random.normal(0, 1, 1000)\n",
        "x.shape"
      ],
      "execution_count": 4,
      "outputs": [
        {
          "output_type": "execute_result",
          "data": {
            "text/plain": [
              "(1000,)"
            ]
          },
          "metadata": {
            "tags": []
          },
          "execution_count": 4
        }
      ]
    },
    {
      "cell_type": "markdown",
      "metadata": {
        "id": "-rdBRX_WlYjo"
      },
      "source": [
        "Якщо взяти середнє значення всіх значень у цьому векторі, ми отримаємо значення близьке до 0:"
      ]
    },
    {
      "cell_type": "code",
      "metadata": {
        "colab": {
          "base_uri": "https://localhost:8080/"
        },
        "id": "6AhvZiSSlYjp",
        "outputId": "61a145d4-2159-4c6e-eabe-e6245f111f22"
      },
      "source": [
        "x.mean()"
      ],
      "execution_count": 5,
      "outputs": [
        {
          "output_type": "execute_result",
          "data": {
            "text/plain": [
              "-0.03956413608079184"
            ]
          },
          "metadata": {
            "tags": []
          },
          "execution_count": 5
        }
      ]
    },
    {
      "cell_type": "markdown",
      "metadata": {
        "id": "SDQL8UBmlYjq"
      },
      "source": [
        "Ми отримали б середнє значення ближче ніж 0 з більшою кількістю значень у векторі.\n",
        "\n",
        "Стандартне відхилення підказує, чи відхиляються окремі значення, більше чи менше, від середнього.\n",
        "\n",
        "Тож давайте створимо два наші безперервні розподіли:"
      ]
    },
    {
      "cell_type": "code",
      "metadata": {
        "colab": {
          "base_uri": "https://localhost:8080/",
          "height": 640
        },
        "id": "EpyquUEvlYjr",
        "outputId": "c2c322c3-330b-46f4-cfac-4e9e871c1c96"
      },
      "source": [
        "np.random.seed(123)\n",
        "x = np.random.normal(0, 1, 1000)\n",
        "y = np.random.normal(0, 1, 1000)\n",
        "\n",
        "sns.distplot(x)\n",
        "plt.title('x')\n",
        "plt.xlim(-4, 4)\n",
        "plt.show()\n",
        "sns.distplot(y)\n",
        "plt.title('y')\n",
        "plt.xlim(-4, 4)\n",
        "plt.show()"
      ],
      "execution_count": 6,
      "outputs": [
        {
          "output_type": "stream",
          "text": [
            "/usr/local/lib/python3.6/dist-packages/seaborn/distributions.py:2557: FutureWarning: `distplot` is a deprecated function and will be removed in a future version. Please adapt your code to use either `displot` (a figure-level function with similar flexibility) or `histplot` (an axes-level function for histograms).\n",
            "  warnings.warn(msg, FutureWarning)\n"
          ],
          "name": "stderr"
        },
        {
          "output_type": "display_data",
          "data": {
            "image/png": "[encoded data removed]",
            "text/plain": [
              "<Figure size 432x288 with 1 Axes>"
            ]
          },
          "metadata": {
            "tags": [],
            "needs_background": "light"
          }
        },
        {
          "output_type": "stream",
          "text": [
            "/usr/local/lib/python3.6/dist-packages/seaborn/distributions.py:2557: FutureWarning: `distplot` is a deprecated function and will be removed in a future version. Please adapt your code to use either `displot` (a figure-level function with similar flexibility) or `histplot` (an axes-level function for histograms).\n",
            "  warnings.warn(msg, FutureWarning)\n"
          ],
          "name": "stderr"
        },
        {
          "output_type": "display_data",
          "data": {
            "image/png": "[encoded data removed]",
            "text/plain": [
              "<Figure size 432x288 with 1 Axes>"
            ]
          },
          "metadata": {
            "tags": [],
            "needs_background": "light"
          }
        }
      ]
    },
    {
      "cell_type": "markdown",
      "metadata": {
        "id": "iuqhSOCelYjt"
      },
      "source": [
        "Спробуємо зрозуміти, що насправді представлено на цих графіках. Я використав функцію distplot з пакета seaborn. Вісь y дає __щільність ймовірності__ того, що змінна приймає значення, задане віссю x. Детальніше про функції щільності ймовірності ви можете знайти в [останньому дописі](https://hadrienj.github.io/posts/Probability-Mass-and-Density-Functions/) / [блокноті](https://github.com/hadrienj/deepLearningBook-Notes/tree/master/3.1-3.3%20Probability%20Mass%20and%20Density%20Functions). Коротше кажучи, площа під кривою повинна бути розрахована для певного діапазону осі х, щоб отримати ймовірність отримати значення в цьому діапазоні.\n",
        "\n",
        "А як щодо граничних ймовірностей? Якщо ми хочемо отримати граничну ймовірність $ \\text {x} $, нам потрібно отримати __площу області під кривою__ функції щільності ймовірності вздовж осі y. Ви можете собі уявити, що ми дивимося на 3D-графік лише з осі y (або проекції на цю вісь) і отримуємо площу під кривою.\n",
        "\n",
        "Для дискретних змінних $ \\text {x} $ і $ \\text {y} $ ми побачили, що гранична ймовірність $ P (\\text {x}) $ - це сума ймовірностей для кожного значення $ \\text {y } $. Тепер, коли наші змінні безперервні, ми повинні використовувати __інтеграли__, але принцип той же:\n",
        "\n",
        "<li>Для обчислення граничної ймовірності $ P (\\text {x}) $ ми обчислюємо площу під кривою проекції змінної на вісь x.</li>\n",
        "<li>Для обчислення граничної ймовірності $ P (\\text {y}) $ ми обчислюємо площу під кривою проекції змінної на вісь y.</li>\n",
        "\n",
        "<img src=\"desktop/img/bivariate-gaussian-curves.png\" width=\"500\">\n",
        "\n",
        "Функції щільності ймовірності двох гауссових змінних - [джерело](https://en.wikipedia.org/wiki/Marginal_distribution)\n",
        "\n",
        "Це використовується для відновлення розподілу ймовірностей однієї змінної, коли ми знаємо спільний розподіл ймовірностей.\n",
        "\n",
        "Це можна виразити за допомогою такого рівняння:\n",
        "\n",
        "$$\n",
        "p(x) = \\int p(x, y)dy\n",
        "$$\n",
        "\n",
        "і\n",
        "\n",
        "$$\n",
        "p(y) = \\int p(x, y)dx\n",
        "$$\n",
        "\n",
        "Щоб отримати додаткові пояснення щодо інтеграції, ви можете ознайомитися з цим [дописом](https://hadrienj.github.io/posts/Probability-Mass-and-Density-Functions/) / [блокнотом](https://github.com/hadrienj/deepLearningBook-Notes/tree/master/3.1-3.3%20Probability%20Mass%20and%20Density%20Functions). Змінна, що слідує за малим $ d $ в кінці рівняння, повідомляє змінну, яка використовується для інтегрування. Отже, у першому рівнянні ми інтегруємо над $ \\text {y} $. Це означає, що ми розглядаємо $ \\text {x} $ як константу. У другому рівнянні ми робимо навпаки.\n",
        "\n",
        "\n",
        "# 3.5 Умовна ймовірність\n",
        "\n",
        "Умовна ймовірність відноситься до ймовірності події, враховуючи, що сталася інша подія.\n",
        "\n",
        "### Залежні та незалежні події\n",
        "\n",
        "По-перше, важливо розрізняти залежні та незалежні події! В обох випадках інтуїція дещо інша.\n",
        "\n",
        "\n",
        "#### Приклад незалежних подій: кубик та монета\n",
        "\n",
        "У цьому прикладі ми робимо експеримент, коли кидаємо кубик і кидаємо монету. Ми будемо називати дві випадкові величини, що описують ці події, з $ \\text {x} $, що відповідає киданню кубика, і $ \\text {y} $, що відповідає підкиданню монети.\n",
        "\n",
        "Запитання, яке ми можемо задати, таке: яка ймовірність отримати 3 від кидка кубикав і \"орла\" від підкидання монети?\n",
        "\n",
        "Ми бачимо, що ці дві події є незалежними, оскільки ми не очікуємо жодного впливу однієї на іншу.\n",
        "\n",
        "\n",
        "#### Приклад залежних подій: дві карти з колоди\n",
        "\n",
        "У цьому прикладі ми дістаємо дві карти з колоди без заміни. Імовірності різні, коли ми беремо першу карту (всі 52 карти знаходяться в колоді) і коли беремо другу карту (зараз 51 карта, одна відсутня). Це означає, що події залежать: результат першого розіграшу вплине на ймовірність другого розіграшу.\n",
        "\n",
        "Питання, яке ми можемо задати, таке: якою є ймовірність витягнути 6 на другому розіграші, коли ми отримали 6 на першому розіграші?\n",
        "\n",
        "\n",
        "### Примітка\n",
        "\n",
        "<img src=\"desktop/img/conditional-probability.png\" width=\"500\">\n",
        "\n",
        "_Умовна ймовірність_\n",
        "\n",
        "Давайте введемо кілька нових позначень: $ P (\\text {y} = y | \\text {x} = x) $ описує умовну ймовірність: це ймовірність того, що випадкова величина $ \\text {y} $ приймає конкретне значення $ y $, враховуючи, що випадкова змінна $ \\text {x} $ прийняла конкретне значення $ x $. Це відрізняється від $ P (\\text {y} = y, \\text {x} = x) $, що відповідає ймовірності отримання результату $ y $ для випадкової змінної $ \\text {y} $ і $ x $ для випадкової змінної $ \\text {x} $. У випадку умовної ймовірності подія, пов'язана з випадковою величиною $ \\text {x} $, вже дала свої результати ($ x $).\n",
        "\n",
        "Математично існує зручна залежність між умовною ймовірністю та спільною ймовірністю:\n",
        "\n",
        "$$\n",
        "P (\\text {y} = y | \\text {x} = x) = \\frac {P (\\text {y} = y, \\text {x} = x)} {P (\\text {x} = х)}\n",
        "$$\n",
        "\n",
        "Давайте будемо багатослівним і опишемо рівняння простою мовою:\n",
        "\n",
        "Імовірність того, що випадкова змінна $ \\text {y} $ приймає значення $ y $, враховуючи, що випадкова величина $ \\text {x} $ прийняла значення $ x $, це відношення ймовірності того, що відбудуться обидві події ($ \\text {y} $ приймає значення $ y $, а $ \\text {x} $ приймає значення $ x $) і ймовірність того, що $ \\text {x} $ приймає значення $ x $.\n",
        "\n",
        "Можливо, буде більш зрозуміло, якщо поглянути на це в іншому напрямку:\n",
        "\n",
        "$$\n",
        "P (\\text {y} = y, \\text {x} = x) = P (\\text {x} = x) P (\\text {y} = y | \\text {x} = x)\n",
        "$$\n",
        "\n",
        "Це можна зрозуміти так: щоб розрахувати ймовірність того, що відбудуться обидві події, ми повинні взяти ймовірність того, що настає перша подія ($ P (\\text {x} = x) $) і помножити її на ймовірність того, що подія відбувається з огляду на те, що сталася перша подія ($ P (\\text {y} = y | \\text {x} = x) $). Зрозуміло?\n",
        "\n",
        "#### Множення ймовірностей\n",
        "\n",
        "Останнє пояснення підштовхує до запитання. Ми використовували множення ймовірностей ($ P (\\text {x} = x) $, помножене на $ P (\\text {y} = y | \\text {x} = x) $), щоб представити ймовірність виникнення декількох подій ($ P (\\text {y} = y, \\text {x} = x) $). Давайте подивимося, чому це має сенс.\n",
        "\n",
        "<img src=\"desktop/img/inside-probability.png\" width=\"500\">\n",
        "\n",
        "_Ймовірність - це відношення між кількістю успішних результатів та загальною кількістю результатів_\n",
        "\n",
        "Візьмемо дві незалежні події: ми кидаємо монету двічі (перший раз відповідає першій події, а другий раз - другій події) і хочемо обчислити ймовірність випадіння рівно двох \"орлів\". Ми знаємо, що ймовірність отримати \"орла\" при кожному випробуванні становить $ \\frac {1} {2} $.\n",
        "\n",
        "Щоб зрозуміти, чому потрібно використовувати множення ймовірностей, нам потрібно зрозуміти, яка ймовірність кожної події. Зупинимось на першій події, першому підкиданні монети. Імовірність $ \\frac {1} {2} $: (1) відповідає кількості результатів \"успіху\" (тобто отримати \"орла\"). Знаменник (2) відповідає загальній кількості можливостей. Можливими результатами є \"орли\" або \"решки\", тому є два результати. Це призводить до нашої ймовірності $ \\frac {1} {2} $.\n",
        "\n",
        "Тепер, якщо ми розглянемо дві події, ось усі можливі результати:\n",
        "\n",
        "<li>\"орел\",\"орел\"</li>\n",
        "<li>\"орел\",\"решка\"</li>\n",
        "<li>\"решка\",\"орел\"</li>\n",
        "<li>\"решка\",\"решка\"</li>\n",
        "\n",
        "У нас є 1 результат успіху («орел» та «орел»), а взагалі є 4 можливі результати. Таким чином, ймовірність отримати \"орла\" та \"орла\" становить $ \\frac {1} {4} $.\n",
        "\n",
        "Хитрість тут. Щоб отримати загальну кількість можливих результатів, нам просто потрібно помножити кількість результатів кожної події. У цьому випадку $ 2 \\ разів 2 $. Якщо помножити ймовірності подій, то маємо: $ \\frac {1} {2} \\times \\frac {1} {2} = \\frac {1} {4} $.\n",
        "\n",
        "Щоб бути впевненим, що умовна ймовірність є зрозумілою, ми візьмемо приклад для незалежних та залежних подій. Крім того, докладніше про поняття незалежності пояснюється в 3.7.\n",
        "\n",
        "Ми почнемо з випадку незалежних подій.\n",
        "\n",
        "\n",
        "### Приклад4\n",
        "\n",
        "По-перше, давайте згадаємо всі необхідні нам математичні позначення. $ P (\\text {x} = x) $ - це ймовірність того, що змінна $ \\text {x} $ прийме стан $ x $. Наприклад, $ P (\\text {x} = 3) $ відповідає ймовірності викинути 3 на кубику. Подібним чином $ P (\\text {y} = y) $ - це ймовірність того, що випадкова величина $ \\text {y} $ прийме значення $ y $. Наприклад, $ P (\\text {y} = 'орел') $ відповідає ймовірності отримати 'орел'.\n",
        "\n",
        "$ P (\\text {y} = y, \\text {x} = x) $ - спільна ймовірність цих подій. Наприклад, $ P (\\text {x} = 3, \\text {y} = 'орел') $ - це ймовірність викинути 3 на кубику і отримати \"орла\" на монеті. У цьому прикладі, скажімо, ми знаємо, що $ P (\\text {x} = 3, \\text {y} = 'орел') = \\frac {1} {12} $.\n",
        "\n",
        "$ P (\\text {y} = y | \\text {x} = x) $ відповідає ймовірності того, що $ \\text {y} = y $ з урахуванням того, що $ \\text {x} = x $. Отже, це умовна ймовірність. Наприклад, $ P (\\text {y} = 'орел' | \\text {x} = 3) $ відповідає ймовірності отримати \"орла\" з огляду на те, що ми вже викинули 3 на кубику.\n",
        "\n",
        "Зверніть увагу, що $ P (\\text {y} = 'орел' | | text {x} = 3) = P (\\ text {y} = 'heads') $, оскільки ці події незалежні. Це означає, що ймовірність $ \\text {x} $ однакова для будь-якого результату $ \\text {y} $.\n",
        "\n",
        "У нашому прикладі ми маємо:\n",
        "\n",
        "$$\n",
        "P(\\text{y}='heads' | \\text{x}=3) = \\frac{P(\\text{y}='heads', \\text{x}=3)}{P(\\text{x}=3)} = \\frac{\\frac{1}{12}}{\\frac{1}{6}} = \\frac{6}{12} = 0.5\n",
        "$$\n",
        "\n",
        "Ми бачимо, що справді $ P (\\text {y} = 'орел' \\text {x} = 3) = P (\\text {y} = 'орел') = 0,5 $.\n",
        "\n",
        "І ми закінчимо цю статтю на прикладі із залежними подіями.\n",
        "\n",
        "### Приклад 5.\n",
        "\n",
        "У цьому прикладі ми тягнемо дві карти без заміни. Першим кроком є використання вивченого та написання задачі за допомогою математичних позначень. Ми назвемо $ \\text {x} $ змінною, що відповідає першому малюнку, а $ \\text {y} $ змінною, що відповідає другому малюнку. Випадкові змінні $ \\text {x} $ і $ \\text {y} $ можуть приймати значення 1, 2, 3, 4, 5 або 6. Це можливі результати змінних.\n",
        "\n",
        "Ми побачили, що загальною формулою для обчислення умовної ймовірності є:\n",
        "\n",
        "$$\n",
        "P (\\text {y} = y | \\text {x} = x) = \\frac {P (\\text {y} = y, \\text {x} = x)} {P (\\text {x} = х)}\n",
        "$$\n",
        "\n",
        "Ми хочемо знати ймовірність витягнути 6 на другому розіграші, враховуючи те, що ми витягнули 6 на першому розіграші. Ми можемо записати це так: $ P (\\text {y} = 6 | \\text {x} = 6) $.\n",
        "\n",
        "Нам знадобиться:\n",
        "<li>Ймовірність витягнути 6 на першому розіграші ($ P (\\text {x} = 6) $)</li>\n",
        "\n",
        "<li>Ймовірність витягнути 6 як на першому, так і на другому розіграші ($ P (\\text {y} = 6, \\text {x} = 6) $)</li>\n",
        "\n",
        "На момент першого розіграшу ймовірність витягнути 6 дорівнює $ \\frac {4} {52} $ (у колоди 52 карт є 4 шість), тому $ P (\\text {x} = 6) = \\frac {4} {52} $. Ймовірність витягнути пару 6:\n",
        "\n",
        "$$\n",
        "P (\\text {y} = 6, \\text {x} = 6) = \\frac {4} {52} \\times \\frac {3} {51} = \\frac {12} {2652} = \\frac { 1} {221}\n",
        "$$\n",
        "\n",
        "Умовна ймовірність, яку ми хочемо обчислити, така:\n",
        "\n",
        "$$\n",
        "P (\\text {y} = 6 | \\text {x} = 6) = \\frac {P (\\text {y} = 6, \\text {x} = 6)} {P (\\text {x} = 6)} = \\frac {\\frac {1} {221}} {\\frac {4} {52}} = \\frac {1} {221} \\times \\frac {52} {4} = \\frac {1 } {221} \\times 13 = \\frac {13} {221} = 0,0588\n",
        "$$\n",
        "Це означає, що ми маємо майже 6% шансу витягнути 6, коли ми вже витягнули одну 6. Ми можемо зазначити, що це відповідає $ \\frac {3} {51} $ (детальніше в наступному розділі).\n",
        "\n",
        "\n",
        "# Висновок\n",
        "\n",
        "Ми побачили, що гранична ймовірність відноситься до ймовірності однієї події в експериментах з кількома подіями. Між цими граничними ймовірностями та спільними ймовірностями існують зв’язки, що виражають ймовірність того, що відбудуться обидві події.\n",
        "\n",
        "Ми також говорили про умовну ймовірність. Це відповідає ймовірності за певних умов, наприклад, ймовірності витягнути шістку в колоді карт, знаючи, що ми вже витягнули шістку і не замінили її. Ми досліджували випадки залежних та незалежних подій.\n",
        "\n",
        "Сподіваюсь, ця стаття допомогла вам використовувати та читати математичні позначення, що лежать в основі цих понять.\n",
        "\n",
        "# Джерела\n",
        "[deepLearningBook-Notes](https://github.com/hadrienj/deepLearningBook-Notes/blob/master/3.4-3.5%20Marginal%20and%20Conditional%20Probability/3.4%20-%203.5%20Marginal%20and%20Conditional%20Probability.ipynb)"
      ]
    },
    {
      "cell_type": "markdown",
      "metadata": {
        "id": "QUvpRUMdlkUU"
      },
      "source": [
        "Переклад: Худоба Василь, студент ІО-02мп, 2020 рік"
      ]
    }
  ]
}