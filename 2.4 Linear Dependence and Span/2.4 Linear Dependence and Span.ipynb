{
  "nbformat": 4,
  "nbformat_minor": 0,
  "metadata": {
    "kernelspec": {
      "display_name": "Python 3",
      "language": "python",
      "name": "python3"
    },
    "language_info": {
      "codemirror_mode": {
        "name": "ipython",
        "version": 3
      },
      "file_extension": ".py",
      "mimetype": "text/x-python",
      "name": "python",
      "nbconvert_exporter": "python",
      "pygments_lexer": "ipython3",
      "version": "3.7.2"
    },
    "toc": {
      "base_numbering": 1,
      "nav_menu": {},
      "number_sections": false,
      "sideBar": true,
      "skip_h1_title": false,
      "title_cell": "Table of Contents",
      "title_sidebar": "Contents",
      "toc_cell": false,
      "toc_position": {},
      "toc_section_display": true,
      "toc_window_display": false
    },
    "colab": {
      "name": "2.4 Linear Dependence and Span_Князєва_Анжеліка_ІО_02мп.ipynb",
      "provenance": [],
      "collapsed_sections": []
    }
  },
  "cells": [
    {
      "cell_type": "markdown",
      "metadata": {
        "id": "hUBblMcgMbE_"
      },
      "source": [
        "<a href=\"https://colab.research.google.com/github/AI-KPI/DLBookNotes/blob/main/2.2 Multiplying Matrices and Vectors/2.2 Multiplying Matrices and Vectors.ipynb\" target=\"_parent\"><img src=\"https://colab.research.google.com/assets/colab-badge.svg\" alt=\"Open In Colab\"/></a>"
      ]
    },
    {
      "cell_type": "code",
      "metadata": {
        "scrolled": false,
        "id": "NoGW8uylMK_u"
      },
      "source": [
        "import numpy as np\n",
        "import matplotlib.pyplot as plt\n",
        "import seaborn as sns"
      ],
      "execution_count": 1,
      "outputs": []
    },
    {
      "cell_type": "code",
      "metadata": {
        "colab": {
          "base_uri": "https://localhost:8080/"
        },
        "id": "YkEe8YGvMK_0",
        "outputId": "cda50e84-122c-46d5-d93c-9899891e24b2"
      },
      "source": [
        "# Plot style\n",
        "sns.set()\n",
        "%pylab inline\n",
        "pylab.rcParams['figure.figsize'] = (4, 4)\n",
        "# Avoid inaccurate floating values (for inverse matrices in dot product for instance)\n",
        "# See https://stackoverflow.com/questions/24537791/numpy-matrix-inversion-rounding-errors\n",
        "np.set_printoptions(suppress=True)"
      ],
      "execution_count": 2,
      "outputs": [
        {
          "output_type": "stream",
          "text": [
            "Populating the interactive namespace from numpy and matplotlib\n"
          ],
          "name": "stdout"
        }
      ]
    },
    {
      "cell_type": "code",
      "metadata": {
        "colab": {
          "base_uri": "https://localhost:8080/",
          "height": 17
        },
        "id": "eqeXfwhGMK_4",
        "outputId": "2a68a44e-a056-41a6-c51f-fd958b7a5d29"
      },
      "source": [
        "%%html\n",
        "<style>\n",
        ".pquote {\n",
        "  text-align: left;\n",
        "  margin: 40px 0 40px auto;\n",
        "  width: 70%;\n",
        "  font-size: 1.5em;\n",
        "  font-style: italic;\n",
        "  display: block;\n",
        "  line-height: 1.3em;\n",
        "  color: #5a75a7;\n",
        "  font-weight: 600;\n",
        "  border-left: 5px solid rgba(90, 117, 167, .1);\n",
        "  padding-left: 6px;\n",
        "}\n",
        ".notes {\n",
        "  font-style: italic;\n",
        "  display: block;\n",
        "  margin: 40px 10%;\n",
        "}\n",
        "img + em {\n",
        "  text-align: center;\n",
        "  display: block;\n",
        "  color: gray;\n",
        "  font-size: 0.9em;\n",
        "  font-weight: 600;\n",
        "}\n",
        "</style>"
      ],
      "execution_count": 3,
      "outputs": [
        {
          "output_type": "display_data",
          "data": {
            "text/html": [
              "<style>\n",
              ".pquote {\n",
              "  text-align: left;\n",
              "  margin: 40px 0 40px auto;\n",
              "  width: 70%;\n",
              "  font-size: 1.5em;\n",
              "  font-style: italic;\n",
              "  display: block;\n",
              "  line-height: 1.3em;\n",
              "  color: #5a75a7;\n",
              "  font-weight: 600;\n",
              "  border-left: 5px solid rgba(90, 117, 167, .1);\n",
              "  padding-left: 6px;\n",
              "}\n",
              ".notes {\n",
              "  font-style: italic;\n",
              "  display: block;\n",
              "  margin: 40px 10%;\n",
              "}\n",
              "img + em {\n",
              "  text-align: center;\n",
              "  display: block;\n",
              "  color: gray;\n",
              "  font-size: 0.9em;\n",
              "  font-weight: 600;\n",
              "}\n",
              "</style>"
            ],
            "text/plain": [
              "<IPython.core.display.HTML object>"
            ]
          },
          "metadata": {
            "tags": []
          }
        }
      ]
    },
    {
      "cell_type": "code",
      "metadata": {
        "id": "J86Zym4hMK_7"
      },
      "source": [
        "def plotVectors(vecs, cols, alpha=1):\n",
        "    \"\"\"\n",
        "    Plot set of vectors.\n",
        "\n",
        "    Parameters\n",
        "    ----------\n",
        "    vecs : array-like\n",
        "        Coordinates of the vectors to plot. Each vectors is in an array. For\n",
        "        instance: [[1, 3], [2, 2]] can be used to plot 2 vectors.\n",
        "    cols : array-like\n",
        "        Colors of the vectors. For instance: ['red', 'blue'] will display the\n",
        "        first vector in red and the second in blue.\n",
        "    alpha : float\n",
        "        Opacity of vectors\n",
        "\n",
        "    Returns:\n",
        "\n",
        "    fig : instance of matplotlib.figure.Figure\n",
        "        The figure of the vectors\n",
        "    \"\"\"\n",
        "    plt.figure()\n",
        "    plt.axvline(x=0, color='#A9A9A9', zorder=0)\n",
        "    plt.axhline(y=0, color='#A9A9A9', zorder=0)\n",
        "\n",
        "    for i in range(len(vecs)):\n",
        "        x = np.concatenate([[0,0],vecs[i]])\n",
        "        plt.quiver([x[0]],\n",
        "                   [x[1]],\n",
        "                   [x[2]],\n",
        "                   [x[3]],\n",
        "                   angles='xy', scale_units='xy', scale=1, color=cols[i],\n",
        "                  alpha=alpha)"
      ],
      "execution_count": 4,
      "outputs": []
    },
    {
      "cell_type": "markdown",
      "metadata": {
        "id": "h3i1OBggMK_8"
      },
      "source": [
        "$$\n",
        "\\newcommand\\bs[1]{\\boldsymbol{#1}}\n",
        "$$"
      ]
    },
    {
      "cell_type": "markdown",
      "metadata": {
        "id": "F06uf4IaMK_-"
      },
      "source": [
        "<span class='notes'>\n",
        "  Цей вміст є частиною серії, що йде за главою 2 про лінійну алгебру з [Deep Learning Book](http://www.deeplearningbook.org/)Goodfellow, I., Bengio, Y., and Courville, A. (2016). Він спрямований на надання інтуїцій/малюнків/python коду на математичних теоріях і побудований на моєму розумінні цих понять. Ви можете перевірити навчальний план у [introduction post](https://hadrienj.github.io/posts/Deep-Learning-Book-Series-Introduction/).\n",
        "</span>"
      ]
    },
    {
      "cell_type": "markdown",
      "metadata": {
        "id": "4mS2txnWMLAA"
      },
      "source": [
        "# Вступ\n",
        "\n",
        "Ця глава досить важка за своїм розміром і змістом, але я зробив все, що міг, щоб зробити її більш інтуїтивно зрозумілою і візуальною. Ми побачимо, як графічно представляти системи рівнянь, як інтерпретувати кількість рішень системи, що таке лінійна комбінація і багато чого іншого. Як завжди, ми будемо використовувати Numpy/Matplotlib, як інструмент для експериментів над цими концепціями і, сподіваюся, отримаємо більш конкретне розуміння."
      ]
    },
    {
      "cell_type": "markdown",
      "metadata": {
        "id": "RKG8DTP8MLAA"
      },
      "source": [
        "# 2.4 Лінійна залежність і проміжок часу\n",
        "\n",
        "Оскільки мова йде про системи лінійних рівнянь, давайте почнемо знову з набору рівнянь:\n",
        "\n",
        "$$\\bs{Ax}=\\bs{b}$$\n",
        "\n",
        "Ми побачили в [2.2](https://hadrienj.github.io/posts/Deep-Learning-Book-Series-2.2-Multiplying-Matrices-and-Vectors/), що ця система відповідає:\n",
        "\n",
        "$$\n",
        "A_{1,1}x_1 + A_{1,2}x_2 + \\cdots + A_{1,n}x_n = b_1 \\\\\\\\\n",
        "A_{2,1}x_1 + A_{2,2}x_2 + \\cdots + A_{2,n}x_n = b_2 \\\\\\\\\n",
        "\\cdots \\\\\\\\\n",
        "A_{m,1}x_1 + A_{m,2}x_2 + \\cdots + A_{m,n}x_n = b_n\n",
        "$$\n",
        "\n",
        "Отже, у нас є кілька рівнянь з кількома невідомими. Ми знаємо $A_{1,1}...A_{m,n}$ і $b_1...b_n$. Для вирішення системи нам потрібно знайти значення змінних  $x_1...x_n$, що задовольняє всі рівняння."
      ]
    },
    {
      "cell_type": "markdown",
      "metadata": {
        "id": "AP9Zx4MiMLAB"
      },
      "source": [
        "# Кількість рішень\n",
        "\n",
        "Перше, що потрібно запитати, коли ми стикаємося з такою системою рівнянь: яка кількість рішень?\n",
        "\n",
        "Три випадки можуть представляти кількість рішень системи рівнянь $\\bs{Ax}=\\bs{b}$.\n",
        " \n",
        "1. Без рішень\n",
        "2. Одне рішення\n",
        "3. Безмежна кількість рішень\n",
        " \n",
        "## Чому не може бути більше 1 рішення і менше, ніж нескінченна кількість рішень?\n",
        "\n",
        "### Інтуїція\n",
        "\n",
        "Просто тому, що ми маємо справу з **лінійних** систем! Дві лінії не можуть перетинати кілька разів.\n",
        "\n",
        "Щоб мати можливість візуалізувати його, давайте візьмемо два виміри і два рівняння. Рішення системи відповідають перетину ліній. Один з варіантів полягає в тому, що дві лінії ніколи не перетинають (паралельно). Інший варіант полягає в тому, що вони перетинають один раз. І, нарешті, останній варіант полягає в тому, що вони перетинаються всюди (накладаються):\n",
        "\n",
        "<img src=\"images/number-solutions-system-equations.png\" width=\"700\" alt=\"Examples of systems of equations with 0, 1 and an infinite number of solutions\" title=\"System of equations with 0, 1 and an infinite number of solutions\">\n",
        "<em>Система рівнянь не має рішення, 1 рішення або нескінченну кількість рішень</em>\n",
        "\n",
        "<span class='pquote'>\n",
        "    Дві лінії не можуть перетинати кілька разів, але можуть бути паралельними або накладеними\n",
        "</span>\n",
        "\n",
        "### Доказ\n",
        "\n",
        "Представимо, що $\\bs{x}$ та $\\bs{y}$ є двома рішеннями нашої системи. Це означає, що\n",
        "\n",
        "$$\n",
        "\\begin{cases}\n",
        "\\bs{Ax}=\\bs{b}\\\\\\\\\n",
        "\\bs{Ay}=\\bs{b}\n",
        "\\end{cases}\n",
        "$$\n",
        "\n",
        "У цьому випадку, ми будемо бачити що $\\bs{z}=\\alpha \\bs{x} + (1-\\alpha \\bs{y})$ також є рішенням для будь-якої цінності $\\alpha$. Якщо $\\bs{z}$ є рішенням, можна сказати, що $\\bs{Az}=\\bs{b}$. Дійсно, якщо ми підключаємо $\\bs{z}$ в ліву сторону рівняння ми отримуємо:\n",
        "\n",
        "$$\n",
        "\\begin{align*}\n",
        "\\bs{Az}&=\\bs{A}(\\alpha x + (1-\\alpha y))\\\\\\\\\n",
        "    &=\\bs{Ax}\\alpha + \\bs{A}(1-\\alpha y)\\\\\\\\\n",
        "    &=\\bs{Ax}\\alpha + \\bs{Ay}(1-\\alpha)\n",
        "\\end{align*}\n",
        "$$\n",
        "\n",
        "А оскільки $\\bs{Ax}=\\bs{Ay}=\\bs{b}$. Це призводить до:\n",
        "\n",
        "$$\n",
        "\\begin{align*}\n",
        "\\bs{Az}&=\\bs{b}\\alpha + \\bs{b}(1-\\alpha)\\\\\\\\\n",
        "    &=\\bs{b}\\alpha + \\bs{b}-\\bs{b}\\alpha\\\\\\\\\n",
        "    &=\\bs{b}\n",
        "\\end{align*}\n",
        "$$\n",
        "\n",
        "Отже, $\\bs{z}$ також є рішенням."
      ]
    },
    {
      "cell_type": "markdown",
      "metadata": {
        "id": "eAH6qH4vMLAC"
      },
      "source": [
        "# Матрична репрезентативна система\n",
        "\n",
        "Як ми це побачили, рівняння $\\bs{Ax}=\\bs{b}$ може бути представлена матрицею $\\bs{A}$ містить вагу кожної змінної та вектор $\\bs{x}$ кожна змінна (див. [2.2](https://hadrienj.github.io/posts/Deep-Learning-Book-Series-2.2-Multiplying-Matrices-and-Vectors/)). Продукт $\\bs{A}$ і $\\bs{x}$ дає $\\bs{b}$ це ще один вектор розміру $m$:\n",
        "\n",
        "$$\n",
        "\\begin{bmatrix}\n",
        "    A_{1,1} & A_{1,2} & \\cdots & A_{1,n} \\\\\\\\\n",
        "    A_{2,1} & A_{2,2} & \\cdots & A_{2,n} \\\\\\\\\n",
        "    \\cdots & \\cdots & \\cdots & \\cdots \\\\\\\\\n",
        "    A_{m,1} & A_{m,2} & \\cdots & A_{m,n}\n",
        "\\end{bmatrix}\n",
        "\\begin{bmatrix}\n",
        "    x_1 \\\\\\\\\n",
        "    x_2 \\\\\\\\\n",
        "    \\cdots \\\\\\\\\n",
        "    x_n\n",
        "\\end{bmatrix}\n",
        "=\n",
        "\\begin{bmatrix}\n",
        "    b_1 \\\\\\\\\n",
        "    b_2 \\\\\\\\\n",
        "    \\cdots \\\\\\\\\n",
        "    b_m\n",
        "\\end{bmatrix}\n",
        "$$\n",
        "\n",
        "Що відповідає набору лінійніх рівнянь\n",
        "\n",
        "$$\n",
        "A_{1,1}x_1 + A_{1,2}x_2 + \\cdots + A_{1,n}x_n = b_1 \\\\\\\\\n",
        "A_{2,1}x_1 + A_{2,2}x_2 + \\cdots + A_{2,n}x_n = b_2 \\\\\\\\\n",
        "\\cdots \\\\\\\\\n",
        "A_{m,1}x_1 + A_{m,2}x_2 + \\cdots + A_{m,n}x_n = b_n\n",
        "$$\n",
        "\n",
        "Ось деякі інтуїції про те, що представлено цими матриці. Кількість стовпчиків $\bs{A}$ це кількість розмірів нашого векторного простору. Це кількість $n$ напрямків, на які ми можемо подорожувати. Кількість рішень нашої лінійної системи відповідає кількості способів, якими ми можемо досягти $\bs{b}$ подорожуючи по наших $n$ розмірах.\n",
        "\n",
        "Але щоб зрозуміти це, потрібно наголити, що існують дві можливості для представлення системи рівнянь:  ***цифра рядка*** і ***цифра стовпця***."
      ]
    },
    {
      "cell_type": "markdown",
      "metadata": {
        "id": "CYxejP1wMLAD"
      },
      "source": [
        "# Графічні подання: рисунки рядків і стовпців\n",
        "\n",
        "\n",
        "Рекомендую подивитися на [цей відео урок Гілберта Стренга](http://ia802205.us.archive.org/18/items/MIT18.06S05_MP4/01.mp4). Він забезпечує дуже приємну інтуїцію про ці два способи дивлячись на систему лінійних рівнянь.\n",
        "\n",
        "\n",
        "Коли ви шукаєте матрицю. $\\bs{A}$:\n",
        "\n",
        "$$\n",
        "\\bs{A}=\\begin{bmatrix}\n",
        "    A_{1,1} & A_{1,2} & \\cdots & A_{1,n} \\\\\\\\\n",
        "    A_{2,1} & A_{2,2} & \\cdots & A_{2,n} \\\\\\\\\n",
        "    \\cdots & \\cdots & \\cdots & \\cdots \\\\\\\\\n",
        "    A_{m,1} & A_{m,2} & \\cdots & A_{m,n}\n",
        "\\end{bmatrix}\n",
        "$$\n",
        "\n",
        "Ви можете розглядати його рядки або його стовпці окремо. Нагадаємо, що значення є вагою, що відповідає кожній змінній. Кожен рядок синтезує одне рівняння. Кожен стовпець - це набір ваг, що надається змінній 1.\n",
        "\n",
        "Можна намалювати інше графічне представлення набору рівнянь, дивлячись на рядки або на стовпці."
      ]
    },
    {
      "cell_type": "markdown",
      "metadata": {
        "id": "LG-a3c1tMLAE"
      },
      "source": [
        "## Графічне подання 1: рисунок рядка\n",
        "\n",
        "Цифра рядка, можливо, більш звична, тому що це представлення, яке використовується, коли у нас є тільки одне рівняння. Тепер він може бути поширений на нескінченну кількість рівнянь і невідомих (навіть якщо було б важко представляти 9-вимірний гіперплан в 10-вимірному просторі ...).\n",
        "\n",
        "Ми сказали, що рішення лінійних систем рівнянь - це набори значень $x_1...x_n$ які задовольняють всі рівняння, тобто значення, взяті невідомими. Наприклад, у випадку з $\\bs{A}$ бути ($2 \\times 2$) матрицею ($n=m=2$) рівняння відповідають лініям у 2-вимірному просторі, а вирішенням системи є перетин цих ліній.\n",
        "\n",
        "Зауважте, що зв'язування одного напрямку в просторі з одним параметром є лише одним із способів представлення рівнянь. Існує кілька способів представлення більш ніж 3 систем параметрів. Наприклад, ви можете додати кольори, щоб мати представлення четвертого виміру. Це все про **представництво**.\n",
        "\n",
        "<img src=\"images/representing-features.png\" width=\"900\" alt=\"Different ways of representing features\" title=\"Feature representation\">\n",
        "<em>Графічні представлення функцій</em>\n",
        "\n",
        "### Перевизначені та невизначені системи\n",
        "\n",
        "Лінійну систему рівнянь можна розглядати як набір гіперпланів $(n-1)$-dimensional у просторі *n*-dimension. Так лінійну систему можна охарактеризувати своєю кількістю рівнянь ($m$) і кількістю невідомих змінних ($n$).\n",
        "\n",
        "- Якщо рівнянь більше, ніж несвідомих, система називається **overdetermined**. У наведеному нижче прикладі ми можемо побачити систему з 3 рівнянь (представлена 3 рядками) і 2 невідомих (відповідає 2 вимірам). У цьому прикладі немає рішення, оскільки немає сенсу належати до трьох рядків:\n",
        "\n",
        "<img src=\"images/overdetermined-system-linear-equations.png\" width=\"300\" alt=\"Example of an overdetermined system of linear equations with no solution\" title=\"Example of an overdetermined system of linear equations with no solution\">\n",
        "<em>Приклад перевизначення системи лінійніх рівнянь без розчину</em>\n",
        "\n",
        "- Якщо невідомих більше, ніж рівнянь, система називається **не визначено**. На наступному зображенні є лише 1 рівняння (1 рядок) і 2 розміри. Кожна точка, яка знаходиться на лінії є рішенням системи. У цьому випадку існує нескінченна кількість рішень:\n",
        "\n",
        "<img src=\"images/underdetermined-system-linear-equations.png\" width=\"300\" alt=\"Example of an underdetermined system of linear equations with an infinite number of solutions\" title=\"Example of an underdetermined system of linear equations with an infinite number of solutions\">\n",
        "<em>Приклад невизначеної системи лінійних рівнянь з нескінченною кількістю рішень</em>\n",
        "\n",
        "\n",
        "Давайте подивимося кілька прикладів цих різних випадків, щоб уточнити це."
      ]
    },
    {
      "cell_type": "markdown",
      "metadata": {
        "id": "Nk5pNRKsMLAF"
      },
      "source": [
        "### Приклад 1. \n",
        "\n",
        "$m=1$, $n=2$:  **1 рівняння та 2 змінні**\n",
        "\n",
        "$$\n",
        "A_{1,1}x_1 + A_{1,2}x_2 = b_1\n",
        "$$\n",
        "\n",
        "Графічна інтерпретація $n =2$ полягає в тому, що у нас є об'їдка пробіл. Таким чином, ми можемо представляти його з 2 осями. Оскільки наш гіперплан має $n-1 $-dimensional, у нас є 1-D гіперплан. Це просто лінія. Як $m = 1 $, у нас є тільки одне рівняння. Це означає, що у нас є тільки один рядок, що характеризує нашу лінійна система.\n",
        "\n",
        "Зауважте, що останнє рівняння також можна написати у спосіб, який може бути більш звичайним:\n",
        "\n",
        "$$\n",
        "y = ax + b\n",
        "$$\n",
        "\n",
        "з $y$ відповідає $x_2$, $x$ відповідає $x_1$, $a$ що відповідає $A_{1,1}$ і $A_{1,2}=1$.\n",
        "\n",
        "Для цього першого прикладу ми візьмемо наступне рівняння:\n",
        "\n",
        "$$\n",
        "y = 2x + 1\n",
        "$$\n",
        "\n",
        "Давайте нама сформулюємо лінію цього рівняння з Numpy і Matplotlib (див. БОНУС в [2.3](https://hadrienj.github.io/posts/Deep-Learning-Book-Series-2.3-Identity-and-Inverse-Matrices/) для легких порад для побудови рівнянь)."
      ]
    },
    {
      "cell_type": "code",
      "metadata": {
        "colab": {
          "base_uri": "https://localhost:8080/",
          "height": 272
        },
        "id": "Gk3FTfVTMLAF",
        "outputId": "65a6494a-1e23-4ee8-91d1-85010758aaa9"
      },
      "source": [
        "x = np.arange(-10, 10)\n",
        "y = 2*x + 1\n",
        "\n",
        "plt.figure()\n",
        "plt.plot(x, y)\n",
        "plt.xlim(-2, 10)\n",
        "plt.ylim(-2, 10)\n",
        "# draw axes\n",
        "plt.axvline(x=0, color='#A9A9A9')\n",
        "plt.axhline(y=0, color='#A9A9A9')\n",
        "plt.show()\n",
        "plt.close()"
      ],
      "execution_count": 5,
      "outputs": [
        {
          "output_type": "display_data",
          "data": {
            "image/png": "[encoded data removed]",
            "text/plain": [
              "<Figure size 288x288 with 1 Axes>"
            ]
          },
          "metadata": {
            "tags": [],
            "needs_background": "light"
          }
        }
      ]
    },
    {
      "cell_type": "markdown",
      "metadata": {
        "collapsed": true,
        "id": "TuvBre3_MLAG"
      },
      "source": [
        "#### Рішення\n",
        "\n",
        "Рішення цієї лінійні системи відповідають значенню $x$ і $y$ таких як $y=2x+1$. Графічно він відповідає кожній точці на лінії, тому існує нескінченна кількість рішень. Наприклад, одним з рішень є $x = 0 $ і $y = 1 $, або $x = 1 $ і $y = 3 $ і так далі."
      ]
    },
    {
      "cell_type": "markdown",
      "metadata": {
        "collapsed": true,
        "id": "X3uea2aZMLAG"
      },
      "source": [
        "### Приклад 2.\n",
        "\n",
        "*m*=2, *n*=2: **2 рівняння та 2 невідомих**\n",
        "\n",
        "$$\n",
        "A_{1,1}x_1 + A_{1,2}x_2 = b_1\\\\\\\\\n",
        "A_{2,1}x_1 + A_{2,2}x_2 = b_2\n",
        "$$"
      ]
    },
    {
      "cell_type": "markdown",
      "metadata": {
        "collapsed": true,
        "id": "hZFoHtIMMLAH"
      },
      "source": [
        "Графічна інтерпретація цієї системи полягає в тому, що у нас все ще є лінії в 2-D просторі. Однак на цей раз є 2 рядки, так як є 2 рівняння.\n",
        "\n",
        "Візьмемо ці рівняння як приклад:\n",
        "\n",
        "$$\n",
        "\\begin{cases}\n",
        "y = 2x + 1\\\\\\\\\n",
        "y = 6x - 2\n",
        "\\end{cases}\n",
        "$$\n"
      ]
    },
    {
      "cell_type": "code",
      "metadata": {
        "colab": {
          "base_uri": "https://localhost:8080/",
          "height": 272
        },
        "id": "m9iymMy7MLAH",
        "outputId": "22b2cd94-3b88-4fb7-991b-4e367b2de5d5"
      },
      "source": [
        "x = np.arange(-10, 10)\n",
        "y = 2*x + 1\n",
        "y1 = 6*x - 2\n",
        "\n",
        "plt.figure()\n",
        "plt.plot(x, y)\n",
        "plt.plot(x, y1)\n",
        "plt.xlim(-2, 10)\n",
        "plt.ylim(-2, 10)\n",
        "# draw axes\n",
        "plt.axvline(x=0, color='#A9A9A9')\n",
        "plt.axhline(y=0, color='#A9A9A9')\n",
        "plt.show()\n",
        "plt.close()"
      ],
      "execution_count": 6,
      "outputs": [
        {
          "output_type": "display_data",
          "data": {
            "image/png": "[encoded data removed]",
            "text/plain": [
              "<Figure size 288x288 with 1 Axes>"
            ]
          },
          "metadata": {
            "tags": [],
            "needs_background": "light"
          }
        }
      ]
    },
    {
      "cell_type": "markdown",
      "metadata": {
        "id": "d7OG9kseMLAI"
      },
      "source": [
        "Як ми бачили, з 2 лініями в 2-D просторі, є кілька можливих випадків. На наведеному вище малюнку перетинають дві лінії, тому є одне унікальне рішення. Якщо вони накладаються (однакове рівняння або еквівалент, *cf*. лінійна залежність) існує нескінченна кількість рішень, оскільки кожна точка ліній відповідає перетину. Якщо вони паралельні, рішення немає.\n",
        "\n",
        "Те ж саме можна спостерігати і з іншими значеннями $m$ (кількість рівнянь) і $n$ (кількість розмірів). Наприклад, два двовигові літаки в об'їдку можуть бути надопомога (нескінченно багато рішень), або схрещені (нескінченно багато рішень, оскільки їх перетин є лінією), або паралельні (без рішення)."
      ]
    },
    {
      "cell_type": "markdown",
      "metadata": {
        "id": "Ck6w3f7yMLAJ"
      },
      "source": [
        "### Приклад 3.\n",
        "\n",
        "*m*=3, *n*=2: **3 рівняння і 2 невідомих**\n",
        "\n",
        "$$\n",
        "A_{1,1}x_1 + A_{1,2}x_2 = b_1\\\\\\\\\n",
        "A_{2,1}x_1 + A_{2,2}x_2 = b_2\\\\\\\\\n",
        "A_{3,1}x_1 + A_{3,2}x_2 = b_3\n",
        "$$\n",
        "\n",
        "Така ж ідея стоїть з більш ніж 2 рівняннями в об'їдки. У цьому прикладі ми маємо наступні 3 рівняння:\n",
        "\n",
        "$$\n",
        "\\begin{cases}\n",
        "y = 2x + 1\\\\\\\\\n",
        "y = 6x - 2\\\\\\\\\n",
        "y = \\frac{1}{10}x+6\n",
        "\\end{cases}\n",
        "$$"
      ]
    },
    {
      "cell_type": "code",
      "metadata": {
        "colab": {
          "base_uri": "https://localhost:8080/",
          "height": 272
        },
        "id": "Y9ihOrspMLAJ",
        "outputId": "4f62b35b-5612-40a9-d8f5-e6852c95367f"
      },
      "source": [
        "x = np.arange(-10, 10)\n",
        "y = 2*x + 1\n",
        "\n",
        "y1 = 6*x - 2\n",
        "y2 = 0.1*x+6\n",
        "\n",
        "plt.figure()\n",
        "plt.plot(x, y)\n",
        "plt.plot(x, y1)\n",
        "plt.plot(x, y2)\n",
        "plt.xlim(-2, 10)\n",
        "plt.ylim(-2, 10)\n",
        "# draw axes\n",
        "plt.axvline(x=0, color='#A9A9A9')\n",
        "plt.axhline(y=0, color='#A9A9A9')\n",
        "plt.show()\n",
        "plt.close()"
      ],
      "execution_count": 7,
      "outputs": [
        {
          "output_type": "display_data",
          "data": {
            "image/png": "[encoded data removed]",
            "text/plain": [
              "<Figure size 288x288 with 1 Axes>"
            ]
          },
          "metadata": {
            "tags": [],
            "needs_background": "light"
          }
        }
      ]
    },
    {
      "cell_type": "markdown",
      "metadata": {
        "id": "GK_s5P26MLAL"
      },
      "source": [
        "У наведеному вище випадку є 3 рівняння і немає рішення, тому що немає точки в просторі, який знаходиться на кожному з цих рядків."
      ]
    },
    {
      "cell_type": "markdown",
      "metadata": {
        "id": "J6zpRcE4MLAL"
      },
      "source": [
        "## Лінійна комбінація\n",
        "\n",
        "Перед тим, як зайти на цифру стовпчика, потрібно поговорити про лінійну комбінацію. Лінійна комбінація з 2 векторів відповідає їх зваженій сумі.\n",
        "\n",
        "### Приклад 4.\n",
        "\n",
        "Візьмемо два вектори\n",
        "\n",
        "$$\n",
        "\\vec{u}=\n",
        "\\begin{bmatrix}\n",
        "    1 \\\\\\\\\n",
        "    3\n",
        "\\end{bmatrix}\n",
        "$$\n",
        "\n",
        "and\n",
        "\n",
        "$$\n",
        "\\vec{v}=\n",
        "\\begin{bmatrix}\n",
        "    2 \\\\\\\\\n",
        "    1\n",
        "\\end{bmatrix}\n",
        "$$\n",
        "\n",
        "Ці два вектори мають 2 розміри і, таким чином, містять координати в 2-D.\n",
        "\n",
        "\n",
        "Лінійна комбінація $\\vec{u}$ і $\\vec{v}$\n",
        "\n",
        "$$\n",
        "a\\vec{u}+b\\vec{v}= a\n",
        "\\begin{bmatrix}\n",
        "    1 \\\\\\\\\n",
        "    3\n",
        "\\end{bmatrix} + b\\begin{bmatrix}\n",
        "    2 \\\\\\\\\n",
        "    1\n",
        "\\end{bmatrix}\n",
        "$$\n",
        "\n",
        "з $a$ і $b$ вага векторів.\n",
        "\n",
        "Графічно вектори додаються для досягнення певної точки в просторі. Наприклад, якщо $a = 2 $ і $b = 1 $:\n",
        "\n",
        "$$\n",
        "2\\vec{u}+\\vec{v}= 2\n",
        "\\begin{bmatrix}\n",
        "    1 \\\\\\\\\n",
        "    3\n",
        "\\end{bmatrix} +\n",
        "\\begin{bmatrix}\n",
        "    2 \\\\\\\\\n",
        "    1\n",
        "\\end{bmatrix} =\n",
        "\\begin{bmatrix}\n",
        "    2 \\cdot 1 + 2 \\\\\\\\\n",
        "    2 \\cdot 3 + 1\n",
        "\\end{bmatrix} =\n",
        "\\begin{bmatrix}\n",
        "    4 \\\\\\\\\n",
        "    7\n",
        "\\end{bmatrix}\n",
        "$$\n",
        "\n",
        "Сума $\\vec{u}$ і $\\vec{v}$ - це вектор, який досягне точки корфування $(4, 7)$. Щоб показати, що на графіку, я буду використовувати користувальницьку функцію 'plotVectors()' що я визначив на початку [ноутбук](https://github.com/hadrienj/deepLearningBook-Notes/blob/master/2.4%20Linear%20Dependence%20and%20Span/2.4%20Linear%20Dependence%20and%20Span.ipynb). Він приймає набір координат і масив кольорів, як вхід і побудова відповідних векторів. Отже, давайте складати $\\vec{u}$ і $\\vec{v}$:"
      ]
    },
    {
      "cell_type": "code",
      "metadata": {
        "colab": {
          "base_uri": "https://localhost:8080/",
          "height": 289
        },
        "id": "AZJki9gvMLAL",
        "outputId": "22d23ea2-1768-448b-aaca-01f7f6a8824a"
      },
      "source": [
        "orange = '#FF9A13'\n",
        "blue = '#1190FF'\n",
        "plotVectors([[1, 3], [2, 1]], [orange, blue])\n",
        "plt.xlim(0, 5)\n",
        "plt.ylim(0, 5)"
      ],
      "execution_count": 8,
      "outputs": [
        {
          "output_type": "execute_result",
          "data": {
            "text/plain": [
              "(0.0, 5.0)"
            ]
          },
          "metadata": {
            "tags": []
          },
          "execution_count": 8
        },
        {
          "output_type": "display_data",
          "data": {
            "image/png": "[encoded data removed]",
            "text/plain": [
              "<Figure size 288x288 with 1 Axes>"
            ]
          },
          "metadata": {
            "tags": [],
            "needs_background": "light"
          }
        }
      ]
    },
    {
      "cell_type": "markdown",
      "metadata": {
        "id": "feuvtr37MLAN"
      },
      "source": [
        "Тепер ми додамо ці вектори і їх вагу. Це дає:"
      ]
    },
    {
      "cell_type": "code",
      "metadata": {
        "colab": {
          "base_uri": "https://localhost:8080/",
          "height": 272
        },
        "id": "6jg_EF5EMLAN",
        "outputId": "4b6743ed-54d4-486b-cf7f-ed4102ef7cd3"
      },
      "source": [
        "# Вага векторів\n",
        "a = 2\n",
        "b = 1\n",
        "# Координати початку і завершення векторів\n",
        "u = [0,0,1,3]\n",
        "v = [2,6,2,1]\n",
        "\n",
        "plt.quiver([u[0], a*u[0], b*v[0]],\n",
        "           [u[1], a*u[1], b*v[1]],\n",
        "           [u[2], a*u[2], b*v[2]],\n",
        "           [u[3], a*u[3], b*v[3]],\n",
        "           angles='xy', scale_units='xy', scale=1, color=[orange, orange, blue])\n",
        "plt.xlim(-1, 8)\n",
        "plt.ylim(-1, 8)\n",
        "# Draw axes\n",
        "plt.axvline(x=0, color='#A9A9A9')\n",
        "plt.axhline(y=0, color='#A9A9A9')\n",
        "plt.scatter(4,7,marker='x',s=50)\n",
        "# Draw the name of the vectors\n",
        "plt.text(-0.5, 2, r'$\\vec{u}$', color=orange, size=18)\n",
        "plt.text(0.5, 4.5, r'$\\vec{u}$', color=orange, size=18)\n",
        "plt.text(2.5, 7, r'$\\vec{v}$', color=blue, size=18)\n",
        "plt.show()\n",
        "plt.close()"
      ],
      "execution_count": 9,
      "outputs": [
        {
          "output_type": "display_data",
          "data": {
            "image/png": "[encoded data removed]",
            "text/plain": [
              "<Figure size 288x288 with 1 Axes>"
            ]
          },
          "metadata": {
            "tags": [],
            "needs_background": "light"
          }
        }
      ]
    },
    {
      "cell_type": "markdown",
      "metadata": {
        "id": "T9o3jBJjMLAP"
      },
      "source": [
        "Ми бачимо, що в кінцевому підсумку з координатами ($4$, $7$)."
      ]
    },
    {
      "cell_type": "markdown",
      "metadata": {
        "id": "FTpDGCXhMLAP"
      },
      "source": [
        "## Проміжок часу\n",
        "\n",
        "Візьміть вектори $\\vec{u}$ і $\\vec{v}$ з попереднього прикладу і подумайте про всі точки, які ви можете досягти за їх комбінацією, змінюючи $a $ і $b $. Цей набір точок є проміжком набору векторів $\\{\\vec{u}, \\vec{v}\\}$."
      ]
    },
    {
      "cell_type": "code",
      "metadata": {
        "colab": {
          "base_uri": "https://localhost:8080/",
          "height": 268
        },
        "id": "MP12BGqYMLAQ",
        "outputId": "2162f147-d51c-4847-b3f1-615d6b901541"
      },
      "source": [
        "# Визначення u і v\n",
        "u = [1, 3]\n",
        "v = [2, 1]\n",
        "\n",
        "# Побудова зразка набору точок у проміжку часу з u і v\n",
        "for a in range(-10, 10):\n",
        "    for b in range(-10, 10):\n",
        "        plt.scatter(u[0] * a + v[0] * b, u[1] * a + v[1] * b, marker='.', color=blue)\n",
        "\n",
        "# Визначення розмірів x і y\n",
        "plt.xlim(-50, 50)\n",
        "plt.ylim(-50, 50)\n",
        "\n",
        "# Малювати осі\n",
        "plt.axvline(x=0, color='#A9A9A9')\n",
        "plt.axhline(y=0, color='#A9A9A9')\n",
        "\n",
        "plt.show()\n",
        "plt.close()"
      ],
      "execution_count": 10,
      "outputs": [
        {
          "output_type": "display_data",
          "data": {
            "image/png": "[encoded data removed]",
            "text/plain": [
              "<Figure size 288x288 with 1 Axes>"
            ]
          },
          "metadata": {
            "tags": [],
            "needs_background": "light"
          }
        }
      ]
    },
    {
      "cell_type": "markdown",
      "metadata": {
        "id": "TlGD6sarMLAR"
      },
      "source": [
        "## Примітка про пробіли та підпростори\n",
        "\n",
        "(Детальніше див. Стренг (2006), с.70)\n",
        "\n",
        "Простір вектора визначає всі значення, які можуть бути прийняті цим вектором. Векторні пробіли позначають $\\mathbb{R}$ оскільки значення є реальними числами. Якщо є кілька вимірів, пробіл позначається $\\mathbb{R}^n$ з $n$ відповідає кількості розмірів. Наприклад, $\\mathbb{R}^2$ - це простір звичайного літака $x $-$y$, де значення $x$ і $y$ є реальними числами.\n",
        "\n",
        "Якщо взяти 2-вимірну площину в $\\mathbb{R}^3$ (3-вимірний простір), ця площина є **підпростором** вашого оригінального простору $\\mathbb{R}^3$. Таким же чином, якщо почати з простору $\\mathbb{R}^2$ і прийняти рядок у цьому просторі, цей рядок є підпростором вихідного простору.\n",
        "\n",
        "Лінійна комбінація векторів дає вектори в оригінальному просторі. Кожна лінійна комбінація векторів всередині простору буде залишатися в цьому просторі. Наприклад, якщо ви берете 2 рядки в просторі $\\mathbb{R}^2$, будь-які лінійні комбінації дадуть вам вектор у тому ж просторі $\\mathbb{R}^2$.\n",
        "\n",
        "<span class='pquote'>\n",
        "Лінійна комбінація векторів дає вектори в оригінальному просторі\n",
        "</span>"
      ]
    },
    {
      "cell_type": "markdown",
      "metadata": {
        "id": "8Ck_N6SQMLAS"
      },
      "source": [
        "## Графічне подання 2: рисунок стовпця\n",
        "\n",
        "Також можна представити набір рівнянь, враховуючи, що вектор рішення $\\bs{b}$ відповідає лінійному поєднанню кожного стовпця, помноженого на їх вагу.\n",
        "\n",
        "З набору рівнянь:\n",
        "\n",
        "$$\n",
        "A_{1,1}x_1 + A_{1,2}x_2 + A_{1,n}x_n = b_1 \\\\\\\\\n",
        "A_{2,1}x_1 + A_{2,2}x_2 + A_{2,n}x_n = b_2 \\\\\\\\\n",
        "\\cdots \\\\\\\\\n",
        "A_{m,1}x_1 + A_{m,2}x_2 + A_{m,n}x_n = b_m\n",
        "$$\n",
        "\n",
        "Потім форма стовпця:\n",
        "\n",
        "$$\n",
        "x_1\n",
        "\\begin{bmatrix}\n",
        "    A_{1,1}\\\\\\\\\n",
        "    A_{2,1}\\\\\\\\\n",
        "    A_{m,1}\n",
        "\\end{bmatrix}\n",
        "+\n",
        "x_2\n",
        "\\begin{bmatrix}\n",
        "    A_{1,2}\\\\\\\\\n",
        "    A_{2,2}\\\\\\\\\n",
        "    A_{m,2}\n",
        "\\end{bmatrix}\n",
        "+\n",
        "x_n\n",
        "\\begin{bmatrix}\n",
        "    A_{1,n}\\\\\\\\\n",
        "    A_{2,n}\\\\\\\\\n",
        "    A_{m,n}\n",
        "\\end{bmatrix}\n",
        "=\n",
        "\\begin{bmatrix}\n",
        "    b_1\\\\\\\\\n",
        "    b_2\\\\\\\\\n",
        "    b_m\n",
        "\\end{bmatrix}\n",
        "$$\n",
        "\n",
        "З графічної точки зору, ми повинні подорожувати від походження (нуль на кожному вимірі) до точки координати $\\bs{b}$. Стовпці $\\bs{A}$ дають нам напрямки, за допомогою які ми можемо подорожувати, і їх вага - це довжина шляху в цьому напрямку.\n",
        "\n",
        "<span class='pquote'>\n",
        "Стовпці $\\bs{A}$ дають нам напрямки, за допомогою яких ми можемо подорожувати, і їх вага - це довжина шляху в кожному напрямку.\n",
        "</span>"
      ]
    },
    {
      "cell_type": "markdown",
      "metadata": {
        "id": "CUgrlh8AMLAS"
      },
      "source": [
        "### Приклад 5. \n",
        "\n",
        "$m=2$, $n=2$: 2 рівняння та 2 змінні\n",
        "\n",
        "$$\n",
        "A_{1,1}x_1 + A_{1,2}x_2 = b_1\\\\\\\\\n",
        "A_{2,1}x_1 + A_{2,2}x_2 = b_2\n",
        "$$\n",
        "\n",
        "$$\n",
        "\\begin{cases}\n",
        "y = \\frac{1}{2}x+1\\\\\\\\\n",
        "y = -x + 4\n",
        "\\end{cases}\n",
        "\\Leftrightarrow\n",
        "\\begin{cases}\n",
        "\\frac{1}{2}x-y = -1\\\\\\\\\n",
        "x+y=4\n",
        "\\end{cases}\n",
        "$$\n",
        "\n",
        "Так ось матриця $\\bs{A}$:\n",
        "\n",
        "$$\n",
        "\\bs{A}=\n",
        "\\begin{bmatrix}\n",
        "    \\frac{1}{2} & -1 \\\\\\\\\n",
        "    1 & 1\n",
        "\\end{bmatrix}\n",
        "$$\n",
        "\n",
        "Цифра стовпця дає нам:\n",
        "\n",
        "$$\n",
        "x\n",
        "\\begin{bmatrix}\n",
        "    \\frac{1}{2} \\\\\\\\\n",
        "    1\n",
        "\\end{bmatrix}\n",
        "+\n",
        "y\n",
        "\\begin{bmatrix}\n",
        "    -1 \\\\\\\\\n",
        "    1\n",
        "\\end{bmatrix}\n",
        "=\n",
        "\\begin{bmatrix}\n",
        "    -1 \\\\\\\\\n",
        "    4\n",
        "\\end{bmatrix}\n",
        "$$\n",
        "\n",
        "Мета полягає в тому, щоб знайти значення ваг ($x$ і $y$), для яких лінійна комбінація вектора\n",
        "\n",
        "$$\n",
        "\\begin{bmatrix}\n",
        "    \\frac{1}{2} \\\\\\\\\n",
        "    1\n",
        "\\end{bmatrix}\n",
        "$$\n",
        "\n",
        "і\n",
        "\n",
        "$$\n",
        "\\begin{bmatrix}\n",
        "    -1 \\\\\\\\\n",
        "    1\n",
        "\\end{bmatrix}\n",
        "$$\n",
        "\n",
        "дає вектор \n",
        "\n",
        "$$\n",
        "\\begin{bmatrix}\n",
        "    -1 \\\\\\\\\n",
        "    4\n",
        "\\end{bmatrix}\n",
        "$$\n",
        "\n",
        "Ми вирішимо систему графічно, смислюючи рівняння і шукаючи їх перетин:"
      ]
    },
    {
      "cell_type": "code",
      "metadata": {
        "colab": {
          "base_uri": "https://localhost:8080/",
          "height": 272
        },
        "id": "4Q8VONlaMLAS",
        "outputId": "8ec19a4c-7f5a-4a05-912d-56027757a279"
      },
      "source": [
        "x = np.arange(-10, 10)\n",
        "y = 0.5*x + 1\n",
        "\n",
        "y1 = -x + 4\n",
        "\n",
        "plt.figure()\n",
        "plt.plot(x, y)\n",
        "plt.plot(x, y1)\n",
        "plt.xlim(-2, 10)\n",
        "plt.ylim(-2, 10)\n",
        "# малюємо осі\n",
        "plt.axvline(x=0, color='#A9A9A9')\n",
        "plt.axhline(y=0, color='#A9A9A9')\n",
        "plt.show()\n",
        "plt.close()"
      ],
      "execution_count": 11,
      "outputs": [
        {
          "output_type": "display_data",
          "data": {
            "image/png": "[encoded data removed]",
            "text/plain": [
              "<Figure size 288x288 with 1 Axes>"
            ]
          },
          "metadata": {
            "tags": [],
            "needs_background": "light"
          }
        }
      ]
    },
    {
      "cell_type": "markdown",
      "metadata": {
        "id": "52e7zo0rMLAU"
      },
      "source": [
        "Ми бачимо, що рішення (перетин ліній, що представляють наші два рівняння) $x = 2 $ і $y = 2 $. Це означає, що лінійна комбінація полягає в наступному:\n",
        "\n",
        "$$\n",
        "2\n",
        "\\begin{bmatrix}\n",
        "    \\frac{1}{2} \\\\\\\\\n",
        "    1\n",
        "\\end{bmatrix}\n",
        "+\n",
        "2\n",
        "\\begin{bmatrix}\n",
        "    -1 \\\\\\\\\n",
        "    1\n",
        "\\end{bmatrix}\n",
        "=\n",
        "\\begin{bmatrix}\n",
        "    -1 \\\\\\\\\n",
        "    4\n",
        "\\end{bmatrix}\n",
        "$$\n",
        "\n",
        "Скажімо так \n",
        "\n",
        "$$\n",
        "\\vec{u}=\n",
        "\\begin{bmatrix}\n",
        "    \\frac{1}{2} \\\\\\\\\n",
        "    1\n",
        "\\end{bmatrix}\n",
        "$$\n",
        "\n",
        "і\n",
        "\n",
        "$$\n",
        "\\vec{v}=\n",
        "\\begin{bmatrix}\n",
        "    -1 \\\\\\\\\n",
        "    1\n",
        "\\end{bmatrix}\n",
        "$$\n",
        "\n",
        "Щоб поговорити в терміні цифри стовпця, ми можемо досягти точки координат $(-1, 4)$ якщо додати в два рази вектор $\\vec{u}$ і в два рази вектор $\\vec{v}$. Давайте перевіримо, що:"
      ]
    },
    {
      "cell_type": "code",
      "metadata": {
        "colab": {
          "base_uri": "https://localhost:8080/",
          "height": 268
        },
        "id": "Ed9INBXzMLAV",
        "outputId": "8c11e3ab-a8b3-49fe-80d4-b116be0e6538"
      },
      "source": [
        "u = [0,0,0.5,1]\n",
        "u_bis = [u[2],u[3],u[2],u[3]]\n",
        "v = [2*u[2],2*u[3],-1,1]\n",
        "v_bis = [2*u[2]-1,2*u[3]+1,v[2],v[3]]\n",
        "\n",
        "plt.quiver([u[0], u_bis[0], v[0], v_bis[0]],\n",
        "           [u[1], u_bis[1], v[1], v_bis[1]],\n",
        "           [u[2], u_bis[2], v[2], v_bis[2]],\n",
        "           [u[3], u_bis[3], v[3], v_bis[3]],\n",
        "           angles='xy', scale_units='xy', scale=1, color=[blue, blue, orange, orange])\n",
        "# plt.rc('text', usetex=True)\n",
        "plt.xlim(-1.5, 2)\n",
        "plt.ylim(-0.5, 4.5)\n",
        "# draw axes\n",
        "plt.axvline(x=0, color='#A9A9A9')\n",
        "plt.axhline(y=0, color='#A9A9A9')\n",
        "plt.scatter(-1,4,marker='x',s=50)\n",
        "plt.text(0, 0.5, r'$\\vec{u}$', color=blue, size=18)\n",
        "plt.text(0.5, 1.5, r'$\\vec{u}$', color=blue, size=18)\n",
        "plt.text(0.5, 2.7, r'$\\vec{v}$', color=orange, size=18)\n",
        "plt.text(-0.8, 3, r'$\\vec{v}$', color=orange, size=18)\n",
        "plt.show()\n",
        "plt.close()"
      ],
      "execution_count": 12,
      "outputs": [
        {
          "output_type": "display_data",
          "data": {
            "image/png": "[encoded data removed]",
            "text/plain": [
              "<Figure size 288x288 with 1 Axes>"
            ]
          },
          "metadata": {
            "tags": [],
            "needs_background": "light"
          }
        }
      ]
    },
    {
      "cell_type": "markdown",
      "metadata": {
        "id": "qBVEv8QJMLAV"
      },
      "source": [
        "Ми бачимо, що він працює! Ми приїжджаємо до точки ($-1$, $4$)."
      ]
    },
    {
      "cell_type": "markdown",
      "metadata": {
        "id": "H9oXczt7MLAV"
      },
      "source": [
        "## Визначте, чи має система одне і лише одне рішення для кожного значення $\\bs{b}$.\n",
        "\n",
        "Тепер ми побачимо, як визначити, чи є у системи рівнянь одне і тільки одне рішення. Зверніть увагу, що це тільки загальні випадки. Це можна розділити на дві вимоги:\n",
        "\n",
        "1. Система повинна мати принаймні одне рішення\n",
        "2. Потім система повинна мати **тільки** одне рішення\n",
        "\n",
        "### Вимога 1. Невизначена система: система повинна мати принаймні одне рішення для кожного значення $\\bs{b}$: $n\\geq m$\n",
        "\n",
        "<span class='pquote'>\n",
        "Невизначена система рівнянь - це система з меншою кількість рівнянь, ніж невідома\n",
        "</span>\n",
        "\n",
        "Якщо ми хочемо, щоб наша система була одна і тільки одне рішення перша вимога полягає в тому, що $n $ не повинно бути більше, ніж $m $.\n",
        "\n",
        "Візьмемо приклад матриці ($2\\times 3$), яка відповідає набору з 2 рівнянь з 3 невідомими змінними:\n",
        "\n",
        "\n",
        "<div>\n",
        "$$\n",
        "\\begin{cases}\n",
        "8x+y+z=1\\\\\\\\\n",
        "x+y+z=1\n",
        "\\end{cases}\n",
        "$$\n",
        "</div>\n",
        "\n",
        "<div>\n",
        "$$\n",
        "x\n",
        "\\begin{bmatrix}\n",
        "    8 \\\\\\\\\n",
        "    1\n",
        "\\end{bmatrix}\n",
        "+\n",
        "y\n",
        "\\begin{bmatrix}\n",
        "    1 \\\\\\\\\n",
        "    1\n",
        "\\end{bmatrix}\n",
        "+\n",
        "z\n",
        "\\begin{bmatrix}\n",
        "    1 \\\\\\\\\n",
        "    1\n",
        "\\end{bmatrix}\n",
        "=\n",
        "\\begin{bmatrix}\n",
        "    1 \\\\\\\\\n",
        "    1\n",
        "\\end{bmatrix}\n",
        "$$\n",
        "</div>\n",
        "\n",
        "Ось представлення літаків, накреслених за допомогою цього [веб-сайту](https://technology.cpm.org/general/3dgraph/):\n",
        "\n",
        "<img src=\"images/intersection-2-planes-line.png\" alt=\"Plot showing two planes. The intersection of the two planes is a line\" title=\"The intersection of the two planes is a line\" width=\"500\">\n",
        "<em>Перетин двох літаків є лінією</em>\n",
        "\n",
        "Ми бачимо, що в кращому випадку дві площини не паралельні і є рішення набору рівнянь. Це означає, що вона існує деякі моменти, які покладаються на обидва літаки. Але ми також бачимо, що на перетині неминуче існує нескінченна кількість точок (лінія, яку ми можемо бачити на малюнку). Нам потрібна третя площина, щоб мати унікальне рішення.\n",
        "\n",
        "### Вимога 2. Перевизначана система: система повинна мати **тільки** одне рішення для кожного значення $\\bs{b}$: $m\\geq n$\n",
        "\n",
        "\n",
        "<span class='pquote'>\n",
        "Перевизначна система рівнянь - це система з більшою кількість рівнянь, ніж невідомо\n",
        "</span>\n",
        "\n",
        "Цифра стовпця корисна для розуміння того, чому лінійна система зазвичай не має рішення, якщо $n$ (кількість невідомих) менша за $m$ (кількість рівнянь). Давайте додамо 1 рівняння до вищезгаданої системи, щоб в кінцевому підсумку з матрицею ($\\3 times2$) (3 рівняння та 2 невідомо):\n",
        "\n",
        "<div>\n",
        "$$\n",
        "\\begin{cases}\n",
        "y = \\frac{1}{2}x+1\\\\\\\\\n",
        "y = -x + 4\\\\\\\\\n",
        "y = 7x + 2\n",
        "\\end{cases}\n",
        "\\Leftrightarrow\n",
        "\\begin{cases}\n",
        "\\frac{1}{2}x-y = -1\\\\\\\\\n",
        "x+y=4\\\\\\\\\n",
        "7x-y=2\n",
        "\\end{cases}\n",
        "$$\n",
        "</div>\n",
        "\n",
        "This corresponds to:\n",
        "\n",
        "<div>\n",
        "$$\n",
        "x\n",
        "\\begin{bmatrix}\n",
        "    \\frac{1}{2} \\\\\\\\\n",
        "    1 \\\\\\\\\n",
        "    7\n",
        "\\end{bmatrix}\n",
        "+\n",
        "y\n",
        "\\begin{bmatrix}\n",
        "    -1 \\\\\\\\\n",
        "    1 \\\\\\\\\n",
        "    -1\n",
        "\\end{bmatrix}\n",
        "=\n",
        "\\begin{bmatrix}\n",
        "    -1 \\\\\\\\\n",
        "    4 \\\\\\\\\n",
        "    2\n",
        "\\end{bmatrix}\n",
        "$$\n",
        "</div>\n",
        "\n",
        "Таким чином, ми все ще подорожуємо в нашому 2-вимірному просторі (див. сюжет простору стовпця вище), але точка, яку ми шукаємо, визначається 3 вимірами. Є випадки, коли третя координата не покладається на наш 2-$x $ $y $ літак. У цьому випадку рішення не існує.\n",
        "\n",
        "<span class='pquote'>\n",
        "     Ми подорожуємо в 2D просторі, але рішення визначається 3 розмірами. Якщо третя координата не покладається на нашу 2D-$x $ $y $ літак, то немає рішення.\n",
        "</span>"
      ]
    },
    {
      "cell_type": "markdown",
      "metadata": {
        "id": "PWagD9i6MLAV"
      },
      "source": [
        "### Лінійна залежність\n",
        "\n",
        "Таким чином, кількість стовпців може надавати інформацію про кількість рішень. Але число, яке ми повинні враховувати, це кількість **лінійно незалежних** стовпчиків. Стовпці лінії залежать, якщо один з них є лінійна комбінація інших. Думаючи в колонці картини, напрямок двох лінійно залежних векторів однаковий. Це не додає вимір, який ми можемо використовувати для подорожей і досягнення $\\bs{b}$."
      ]
    },
    {
      "cell_type": "markdown",
      "metadata": {
        "id": "5P8y0PhAMLAV"
      },
      "source": [
        "Ось приклад лінійна система, що містить лінійна залежність:\n",
        "\n",
        "$$\n",
        "\\begin{cases}\n",
        "y = 2x+6\\\\\\\\\n",
        "y = 2x\n",
        "\\end{cases}\n",
        "\\Leftrightarrow\n",
        "\\begin{cases}\n",
        "2x-y = -6\\\\\\\\\n",
        "2x-y=0\n",
        "\\end{cases}\n",
        "$$\n",
        "\n",
        "На рисунку рядка показано, що система не має рішення:"
      ]
    },
    {
      "cell_type": "code",
      "metadata": {
        "colab": {
          "base_uri": "https://localhost:8080/",
          "height": 272
        },
        "id": "aE6RmeBXMLAW",
        "outputId": "0be4a5b0-93b7-49e9-9161-4c9f8430a49f"
      },
      "source": [
        "x = np.arange(-10, 10)\n",
        "y = 2*x + 6\n",
        "\n",
        "y1 = 2*x\n",
        "\n",
        "plt.figure()\n",
        "plt.plot(x, y)\n",
        "plt.plot(x, y1)\n",
        "plt.xlim(-2, 10)\n",
        "plt.ylim(-2, 10)\n",
        "# draw axes\n",
        "plt.axvline(x=0, color='#A9A9A9')\n",
        "plt.axhline(y=0, color='#A9A9A9')\n",
        "plt.show()\n",
        "plt.close()"
      ],
      "execution_count": 13,
      "outputs": [
        {
          "output_type": "display_data",
          "data": {
            "image/png": "[encoded data removed]",
            "text/plain": [
              "<Figure size 288x288 with 1 Axes>"
            ]
          },
          "metadata": {
            "tags": [],
            "needs_background": "light"
          }
        }
      ]
    },
    {
      "cell_type": "markdown",
      "metadata": {
        "id": "o8dCcaStMLAW"
      },
      "source": [
        "Оскільки лінії паралельні, на їх перетині немає ніякого сенсу."
      ]
    },
    {
      "cell_type": "markdown",
      "metadata": {
        "id": "Te0wXjCAMLAY"
      },
      "source": [
        "Малюнок стовпця також ілюструє точку:\n",
        "\n",
        "$$\n",
        "x\n",
        "\\begin{bmatrix}\n",
        "    2 \\\\\\\\\n",
        "    2\n",
        "\\end{bmatrix}\n",
        "+\n",
        "y\n",
        "\\begin{bmatrix}\n",
        "    -1 \\\\\\\\\n",
        "    -1\n",
        "\\end{bmatrix}\n",
        "=\n",
        "\\begin{bmatrix}\n",
        "    -6 \\\\\\\\\n",
        "    0\n",
        "\\end{bmatrix}\n",
        "$$\n"
      ]
    },
    {
      "cell_type": "code",
      "metadata": {
        "colab": {
          "base_uri": "https://localhost:8080/",
          "height": 272
        },
        "id": "pJ8XOwtFMLAY",
        "outputId": "95401430-c8b3-4138-e380-d2f0c3c74ee1"
      },
      "source": [
        "u = [0,0,2,2]\n",
        "v = [0,0,-1,-1]\n",
        "\n",
        "plt.quiver([u[0], v[0]],\n",
        "           [u[1], v[1]],\n",
        "           [u[2], v[2]],\n",
        "           [u[3], v[3]],\n",
        "           angles='xy', scale_units='xy', scale=1, color=[blue, orange])\n",
        "plt.xlim(-7, 3)\n",
        "plt.ylim(-2, 3)\n",
        "# draw axes\n",
        "plt.axvline(x=0, color='#A9A9A9')\n",
        "plt.axhline(y=0, color='#A9A9A9')\n",
        "plt.scatter(-6,0,marker='x',s=150)\n",
        "plt.text(-6, 0.5, r'$b$', color='b', size=18)\n",
        "plt.show()\n",
        "plt.close()"
      ],
      "execution_count": 14,
      "outputs": [
        {
          "output_type": "display_data",
          "data": {
            "image/png": "[encoded data removed]",
            "text/plain": [
              "<Figure size 288x288 with 1 Axes>"
            ]
          },
          "metadata": {
            "tags": [],
            "needs_background": "light"
          }
        }
      ]
    },
    {
      "cell_type": "markdown",
      "metadata": {
        "id": "gh0yR7vIMLAY"
      },
      "source": [
        "Ми хотіли б піти на $b$ але єдиний шлях, який ми можемо зробити, це синя/помаранчева лінія. Друге рівняння не дає нам нового напрямку, оскільки це лише лінійна комбінація першого.\n",
        "\n",
        "Таким чином, перевизначана система незалежних рівнянь має не більше 1 рішення."
      ]
    },
    {
      "cell_type": "markdown",
      "metadata": {
        "id": "Nyjm6nIHMLAZ"
      },
      "source": [
        "### Квадратна матриця\n",
        "\n",
        "Як ми могли задовольнити обидві вимоги ($m\\geq n$ і $n\\geq m$): ми повинні мати $m = n$!\n",
        "\n",
        "Результатом всього цього є те, що системі потрібна **квадратна матриця** $\\bs{A}$ ($m=n$) з лінійно незалежними стовпцями, щоб мати унікальне рішення для всіх значень $\\bs{b}$.\n",
        "\n",
        "<span class='pquote'>\n",
        "Системі потрібна **квадратна матриця** $\\bs{A}$ ($m=n$) з лінійно незалежними стовпцями, щоб мати унікальне рішення для всіх значень $\\bs{b}$\n",
        "</span>\n",
        "\n",
        "Обернена матриця існує, лише якщо набір формул має одне і лише одне рішення для кожного значення $\\bs{b}$, оскільки:\n",
        "\n",
        "- Матриця $\\bs{A}$ не може мати більше 1 оберненого. Уявіть собі, що $\\bs{A}$ має 2 обернених $\\bs{B}$ і $\\bs{C}$ наприклад $\\bs{AB}=\\bs{I}$ і $\\bs{AC}=\\bs{I}$. Це означатиме, що $\\bs{B}=\\bs{C}$.\n",
        "\n",
        "- Рішення системи $\\bs{Ax}=\\bs{b}$ є $\\bs{x}=\\bs{A} ^{-1} \\bs{b}$. Отже, якщо є кілька рішень, є кілька обернених і перша точка не зустрічається."
      ]
    },
    {
      "cell_type": "markdown",
      "metadata": {
        "id": "D-Xo5AynMLAZ"
      },
      "source": [
        "Для більш детальної інформації про рядок і фігуру стовпця, подивіться на книги Гілберта Стренга (є деякі ресурси [тут](http://math.mit.edu/~gs/dela/dela_4-1.pdf)). Є безліч дійсно великих прикладів і графічних пояснень! *1.2 Геометрія лінійних рівнянь* в «Лінійна алгебра і її застосування» також від Гілберта Стренга."
      ]
    },
    {
      "cell_type": "markdown",
      "metadata": {
        "id": "VKkUN0RuMLAZ"
      },
      "source": [
        "<span class='notes'>\n",
        "    Не соромтеся кинути мені по електронній пошті або коментар. Навчальний план цієї серії можна знайти [у вступному пості](https://hadrienj.github.io/posts/Deep-Learning-Book-Series-Introduction/). Всі ноутбуки можна знайти на [Github](https://github.com/hadrienj/deepLearningBook-Notes).\n",
        "</span>"
      ]
    },
    {
      "cell_type": "markdown",
      "metadata": {
        "collapsed": true,
        "id": "ohH-0MGbMLAZ"
      },
      "source": [
        "#  Посилання\n",
        "\n",
        "## Книги та відео Гілберта Стренга\n",
        "\n",
        "- Strang, G. (2006). Linear Algebra and Its Applications, 4th Edition (4th edition). Belmont, CA: Cengage Learning.\n",
        "\n",
        "- Strang, G. (2014). Differential Equations and Linear Algebra (UK ed. edition). Wellesley, Mass: Wellesley-Cambridge.\n",
        "\n",
        "- [The column space of a matrix. Video from Gilbert Strang](https://ocw.mit.edu/resources/res-18-009-learn-differential-equations-up-close-with-gilbert-strang-and-cleve-moler-fall-2015/differential-equations-and-linear-algebra/vector-spaces-and-subspaces/the-column-space-of-a-matrix/)\n",
        "\n",
        "## Система рівнянь\n",
        "\n",
        "- [Wikipedia - System of linear equations](https://en.wikipedia.org/wiki/System_of_linear_equations)\n",
        "\n",
        "## Numpy\n",
        "\n",
        "- [Numpy arange()](https://docs.scipy.org/doc/numpy/reference/generated/numpy.arange.html)\n",
        "\n",
        "## Список літератури\n",
        "[2.4 Linear Dependence and Span](http://math.mit.edu/~gs/dela/dela_4-1.pdf)\n",
        "\n",
        "Переклад: Князєва Анжеліка, студентка ІО-02мп, 2020 рік"
      ]
    }
  ]
}