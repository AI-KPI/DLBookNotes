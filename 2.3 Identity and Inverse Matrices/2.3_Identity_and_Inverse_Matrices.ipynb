{
  "nbformat": 4,
  "nbformat_minor": 0,
  "metadata": {
    "kernelspec": {
      "display_name": "Python 2",
      "language": "python",
      "name": "python2"
    },
    "language_info": {
      "codemirror_mode": {
        "name": "ipython",
        "version": 2
      },
      "file_extension": ".py",
      "mimetype": "text/x-python",
      "name": "python",
      "nbconvert_exporter": "python",
      "pygments_lexer": "ipython2",
      "version": "2.7.10"
    },
    "colab": {
      "name": "2.3_Identity_and_Inverse_Matrices.ipynb",
      "provenance": [],
      "collapsed_sections": []
    }
  },
  "cells": [
    {
      "cell_type": "markdown",
      "metadata": {
        "id": "8XfYae7djwZ3"
      },
      "source": [
        "<a href=\"https://colab.research.google.com/github/AI-KPI/DLBookNotes/blob/main/2.3 Identity and Inverse Matrices/2.3_Identity_and_Inverse_Matrices.ipynb\" target=\"_parent\"><img src=\"https://colab.research.google.com/assets/colab-badge.svg\" alt=\"Open In Colab\"/></a>"
      ]
    },
    {
      "cell_type": "code",
      "metadata": {
        "collapsed": true,
        "id": "S0GiQW0wju7K"
      },
      "source": [
        "import numpy as np\n",
        "import matplotlib.pyplot as plt\n",
        "import seaborn as sns"
      ],
      "execution_count": 1,
      "outputs": []
    },
    {
      "cell_type": "code",
      "metadata": {
        "colab": {
          "base_uri": "https://localhost:8080/"
        },
        "id": "Ftp8W3zXju7N",
        "outputId": "c7bb0862-a9a4-4806-b0df-e431911bd2ab"
      },
      "source": [
        "# Параметри\n",
        "sns.set()\n",
        "%pylab inline\n",
        "pylab.rcParams['figure.figsize'] = (4, 4)"
      ],
      "execution_count": 2,
      "outputs": [
        {
          "output_type": "stream",
          "text": [
            "Populating the interactive namespace from numpy and matplotlib\n"
          ],
          "name": "stdout"
        }
      ]
    },
    {
      "cell_type": "code",
      "metadata": {
        "collapsed": true,
        "id": "P04rYvjfju7Q"
      },
      "source": [
        "# Уникайте неточних плаваючих значень (наприклад, у скалярному добутку зворотніх матриць)\n",
        "# Перегляньте: https://stackoverflow.com/questions/24537791/numpy-matrix-inversion-rounding-errors\n",
        "np.set_printoptions(suppress=True)"
      ],
      "execution_count": 3,
      "outputs": []
    },
    {
      "cell_type": "code",
      "metadata": {
        "colab": {
          "base_uri": "https://localhost:8080/",
          "height": 17
        },
        "id": "DFAfxa3yju7R",
        "outputId": "b6f2b7f3-add6-4cbf-ee12-f5e7202061c8"
      },
      "source": [
        "%%html\n",
        "<style>\n",
        ".pquote {\n",
        "  text-align: left;\n",
        "  margin: 40px 0 40px auto;\n",
        "  width: 70%;\n",
        "  font-size: 1.5em;\n",
        "  font-style: italic;\n",
        "  display: block;\n",
        "  line-height: 1.3em;\n",
        "  color: #5a75a7;\n",
        "  font-weight: 600;\n",
        "  border-left: 5px solid rgba(90, 117, 167, .1);\n",
        "  padding-left: 6px;\n",
        "}\n",
        ".notes {\n",
        "  font-style: italic;\n",
        "  display: block;\n",
        "  margin: 40px 10%;\n",
        "}\n",
        "img + em {\n",
        "  text-align: center;\n",
        "  display: block;\n",
        "  color: gray;\n",
        "  font-size: 0.9em;\n",
        "  font-weight: 600;\n",
        "}\n",
        "</style>"
      ],
      "execution_count": 4,
      "outputs": [
        {
          "output_type": "display_data",
          "data": {
            "text/plain": [
              "<IPython.core.display.HTML object>"
            ],
            "text/html": [
              "<style>\n",
              ".pquote {\n",
              "  text-align: left;\n",
              "  margin: 40px 0 40px auto;\n",
              "  width: 70%;\n",
              "  font-size: 1.5em;\n",
              "  font-style: italic;\n",
              "  display: block;\n",
              "  line-height: 1.3em;\n",
              "  color: #5a75a7;\n",
              "  font-weight: 600;\n",
              "  border-left: 5px solid rgba(90, 117, 167, .1);\n",
              "  padding-left: 6px;\n",
              "}\n",
              ".notes {\n",
              "  font-style: italic;\n",
              "  display: block;\n",
              "  margin: 40px 10%;\n",
              "}\n",
              "img + em {\n",
              "  text-align: center;\n",
              "  display: block;\n",
              "  color: gray;\n",
              "  font-size: 0.9em;\n",
              "  font-weight: 600;\n",
              "}\n",
              "</style>"
            ]
          },
          "metadata": {
            "tags": []
          }
        }
      ]
    },
    {
      "cell_type": "markdown",
      "metadata": {
        "id": "bPYCF4UQju7U"
      },
      "source": [
        "$$\n",
        "\\newcommand\\bs[1]{\\boldsymbol{#1}}\n",
        "$$"
      ]
    },
    {
      "cell_type": "markdown",
      "metadata": {
        "id": "rgcKBBt_ju7V"
      },
      "source": [
        "<span class='notes'>\n",
        "   Цей матеріал є частиною серії 2 глави про лінійну алгебру з [Deep Learning Book](http://www.deeplearningbook.org/) by Goodfellow, I., Bengio, Y., and Courville, A. (2016). Він спрямований на надання інформації, ілюстрацій та коду на мові python, про математичні теорії і побудований на моєму розуміння цих понять. Ви можете перевірити навчальний план у [introduction post(вступній публікації)] (https://hadrienj.github.io/posts/Deep-Learning-Book-Series-Introduction/).\n",
        "</span>"
      ]
    },
    {
      "cell_type": "markdown",
      "metadata": {
        "id": "qHPM7n5bju7X"
      },
      "source": [
        "# Вступ\n",
        "\n",
        "Цей розділ є легким, але містить деякі важливі визначення. Концепція матриці ідентичності або оберненої матриці буде потрібною в наступних главах. В кінці цього розділу ми побачимо, що можемо розв’язувати системи лінійних рівнянь, використовуючи зворотну матрицю. Щасти:)!"
      ]
    },
    {
      "cell_type": "markdown",
      "metadata": {
        "id": "YW9AWc3aju7Z"
      },
      "source": [
        "# 2.3 Тотожність і зворотні матриці\n",
        "\n",
        "\n",
        "# Матриці ідентичності\n",
        "\n",
        "Матриця ідентичності $\\bs{I}_n$ це спеціальна матриця форми ($n \\times n$) що заповнюється $0$ за винятком діагоналі, якою заповнюється 1.\n",
        "\n",
        "<img src=\"images/identity-matrix.png\" width=\"150\" alt=\"Приклад матриці ідентичності\" title=\"Identity matrix\">\n",
        "<em>Матриця ідентичності 3 на 3</em>"
      ]
    },
    {
      "cell_type": "markdown",
      "metadata": {
        "id": "ct97tZXIju7a"
      },
      "source": [
        "Матрицю ідентичності можна створити за допомогою функції Numpy `eye()`:"
      ]
    },
    {
      "cell_type": "code",
      "metadata": {
        "colab": {
          "base_uri": "https://localhost:8080/"
        },
        "id": "mtSuZcbCju7c",
        "outputId": "5baac72a-08ac-4144-b682-e3e3ab08a84b"
      },
      "source": [
        "np.eye(3)"
      ],
      "execution_count": 5,
      "outputs": [
        {
          "output_type": "execute_result",
          "data": {
            "text/plain": [
              "array([[1., 0., 0.],\n",
              "       [0., 1., 0.],\n",
              "       [0., 0., 1.]])"
            ]
          },
          "metadata": {
            "tags": []
          },
          "execution_count": 5
        }
      ]
    },
    {
      "cell_type": "markdown",
      "metadata": {
        "id": "ydtKmqe2ju7d"
      },
      "source": [
        "Коли 'застосовується' матриця ідентичності до вектора, результатом є той самий вектор:\n",
        "\n",
        "$$\\bs{I}_n\\bs{x} = \\bs{x}$$\n",
        "\n",
        "### Приклад 1.\n",
        "\n",
        "$$\n",
        "\\begin{bmatrix}\n",
        "    1 & 0 & 0 \\\\\\\\\n",
        "    0 & 1 & 0 \\\\\\\\\n",
        "    0 & 0 & 1\n",
        "\\end{bmatrix}\n",
        "\\times\n",
        "\\begin{bmatrix}\n",
        "    x_{1} \\\\\\\\\n",
        "    x_{2} \\\\\\\\\n",
        "    x_{3}\n",
        "\\end{bmatrix}=\n",
        "\\begin{bmatrix}\n",
        "    1 \\times x_1 + 0 \\times x_2 + 0\\times x_3 \\\\\\\\\n",
        "    0 \\times x_1 + 1 \\times x_2 + 0\\times x_3 \\\\\\\\\n",
        "    0 \\times x_1 + 0 \\times x_2 + 1\\times x_3\n",
        "\\end{bmatrix}=\n",
        "\\begin{bmatrix}\n",
        "    x_{1} \\\\\\\\\n",
        "    x_{2} \\\\\\\\\n",
        "    x_{3}\n",
        "\\end{bmatrix}\n",
        "$$"
      ]
    },
    {
      "cell_type": "code",
      "metadata": {
        "colab": {
          "base_uri": "https://localhost:8080/"
        },
        "id": "hFlA2XaSju7f",
        "outputId": "43786cbe-0468-469e-e71d-c5166e0c7048"
      },
      "source": [
        "x = np.array([[2], [6], [3]])\n",
        "x"
      ],
      "execution_count": 6,
      "outputs": [
        {
          "output_type": "execute_result",
          "data": {
            "text/plain": [
              "array([[2],\n",
              "       [6],\n",
              "       [3]])"
            ]
          },
          "metadata": {
            "tags": []
          },
          "execution_count": 6
        }
      ]
    },
    {
      "cell_type": "code",
      "metadata": {
        "colab": {
          "base_uri": "https://localhost:8080/"
        },
        "id": "k-hLejiTju7f",
        "outputId": "153a069c-2f68-4413-c304-e1b3980a1acc"
      },
      "source": [
        "xid = np.eye(x.shape[0]).dot(x)\n",
        "xid"
      ],
      "execution_count": 7,
      "outputs": [
        {
          "output_type": "execute_result",
          "data": {
            "text/plain": [
              "array([[2.],\n",
              "       [6.],\n",
              "       [3.]])"
            ]
          },
          "metadata": {
            "tags": []
          },
          "execution_count": 7
        }
      ]
    },
    {
      "cell_type": "markdown",
      "metadata": {
        "id": "yonAa8Btju7h"
      },
      "source": [
        "## Інтуїція\n",
        "\n",
        "Ви можете подумати, що матриця це спосіб перетворення об’єктів у $n$-вимірному просторі. Проте тут застосовується лінійне перетворення простору. Ми можемо сказати, що 'застосовуємо' матрицю до елемента: це означає, що ми робимо скалярний добуток між цією матрицею та елементом (детальніше про скалярний добуток у [2.2](https://hadrienj.github.io/posts/Deep-Learning-Book-Series-2.2-Multiplying-Matrices-and-Vectors/)).Це поняття ми детально розглянемо в наступних розділах, але матриця ідентичності є гарним першим прикладом. Це приклад заснований на практиці, оскільки простір не змінюється, коли ми 'застосовуємо' матрицю ідентичності до нього.\n",
        "\n",
        "<span class='pquote'>\n",
        "    Простір не змінюється, коли ми 'застосовуємо' матрицю ідентичності до нього\n",
        "</span>\n",
        "\n",
        "Ми бачили, що $\\bs{x}$ не було змінено після множення на $\\bs{I}$."
      ]
    },
    {
      "cell_type": "markdown",
      "metadata": {
        "id": "jVH_Gn-hju7h"
      },
      "source": [
        "# Обернені матриці\n",
        "\n",
        "Матриця, обернена до $\\bs{A}$ позначається $\\bs{A}^{-1}$. Саме матриця дає результат матриці ідентичності, коли її множать на $\\bs{A}$:\n",
        "\n",
        "$$\\bs{A}^{-1}\\bs{A}=\\bs{I}_n$$\n",
        "\n",
        "Це означає, що якщо ми застосуємо лінійне перетворення до простору з $\\bs{A}$, можна повернутися з $\\bs{A}^{-1}$. Це забезпечує спосіб скасування трансформації.\n",
        "\n",
        "### Приклад 2.\n",
        "\n",
        "$$\n",
        "\\bs{A}=\\begin{bmatrix}\n",
        "    3 & 0 & 2 \\\\\\\\\n",
        "    2 & 0 & -2 \\\\\\\\\n",
        "    0 & 1 & 1\n",
        "\\end{bmatrix}\n",
        "$$\n",
        "\n",
        "У цьому прикладі ми будемо використовувати функцію Numpy `linalg.inv()` для обчислення оберненого до $\\bs{A}$. Почнемо зі створення $\\bs{A}$:"
      ]
    },
    {
      "cell_type": "code",
      "metadata": {
        "colab": {
          "base_uri": "https://localhost:8080/"
        },
        "id": "rd2EGDiXju7i",
        "outputId": "5726ccae-0e0b-4b36-f1d5-2fe03e51255b"
      },
      "source": [
        "A = np.array([[3, 0, 2], [2, 0, -2], [0, 1, 1]])\n",
        "A"
      ],
      "execution_count": 8,
      "outputs": [
        {
          "output_type": "execute_result",
          "data": {
            "text/plain": [
              "array([[ 3,  0,  2],\n",
              "       [ 2,  0, -2],\n",
              "       [ 0,  1,  1]])"
            ]
          },
          "metadata": {
            "tags": []
          },
          "execution_count": 8
        }
      ]
    },
    {
      "cell_type": "markdown",
      "metadata": {
        "id": "rNGrbPGmju7i"
      },
      "source": [
        "Тепер обчислюємо його обернене:"
      ]
    },
    {
      "cell_type": "code",
      "metadata": {
        "colab": {
          "base_uri": "https://localhost:8080/"
        },
        "id": "qdDfn9Yjju7i",
        "outputId": "248473d0-8554-4970-87aa-ea4535d0d3bd"
      },
      "source": [
        "A_inv = np.linalg.inv(A)\n",
        "A_inv"
      ],
      "execution_count": 9,
      "outputs": [
        {
          "output_type": "execute_result",
          "data": {
            "text/plain": [
              "array([[ 0.2,  0.2,  0. ],\n",
              "       [-0.2,  0.3,  1. ],\n",
              "       [ 0.2, -0.3, -0. ]])"
            ]
          },
          "metadata": {
            "tags": []
          },
          "execution_count": 9
        }
      ]
    },
    {
      "cell_type": "markdown",
      "metadata": {
        "id": "kXkoWsumju7j"
      },
      "source": [
        "Ми можемо це перевірити $\\bs{A_{inv}}$ це обернена матриця $\\bs{A}$ з Python:"
      ]
    },
    {
      "cell_type": "code",
      "metadata": {
        "colab": {
          "base_uri": "https://localhost:8080/"
        },
        "id": "_6Xdb-aLju7j",
        "outputId": "0aa4d5e3-1ae3-4b33-efa8-4b57d79e64ef"
      },
      "source": [
        "A_bis = A_inv.dot(A)\n",
        "A_bis"
      ],
      "execution_count": 10,
      "outputs": [
        {
          "output_type": "execute_result",
          "data": {
            "text/plain": [
              "array([[ 1.,  0., -0.],\n",
              "       [ 0.,  1.,  0.],\n",
              "       [ 0.,  0.,  1.]])"
            ]
          },
          "metadata": {
            "tags": []
          },
          "execution_count": 10
        }
      ]
    },
    {
      "cell_type": "markdown",
      "metadata": {
        "id": "ydpSlOMAju7k"
      },
      "source": [
        "Ми побачимо, що обернені матриці можуть бути дуже корисними, наприклад, для вирішення набору лінійних рівнянь. Однак слід зазначити, що неквадратні матриці (матриці з більшою кількістю стовпців, ніж рядків, або більше рядків, ніж стовпці) не мають зворотних матриць."
      ]
    },
    {
      "cell_type": "markdown",
      "metadata": {
        "id": "TRPqoUI4ju7l"
      },
      "source": [
        "# Розв’язування системи лінійних рівнянь\n",
        "\n",
        "Вступ до системи лінійних рівнянь можна знайти в [2.2](https://hadrienj.github.io/posts/Deep-Learning-Book-Series-2.2-Multiplying-Matrices-and-Vectors/).\n",
        "\n",
        "Обернену матрицю можна використовувати для розв’язання рівняння $\\bs{Ax}=\\bs{b}$ додавши його до кожного значення:\n",
        "\n",
        "$$\\bs{A}^{-1}\\bs{Ax}=\\bs{A}^{-1}\\bs{b}$$\n",
        "\n",
        "Оскільки ми за визначенням знаємо, що $\\bs{A}^{-1}\\bs{A}=\\bs{I}$, ми маємо:\n",
        "\n",
        "$$\\bs{I}_n\\bs{x}=\\bs{A}^{-1}\\bs{b}$$\n",
        "\n",
        "Ми побачили, що вектор не змінюється при множенні на матрицю ідентичності. Тож ми можемо написати:\n",
        "\n",
        "$$\\bs{x}=\\bs{A}^{-1}\\bs{b}$$\n",
        "\n",
        "Це чудово! Ми можемо вирішити набір лінійних рівнянь, просто обчисливши обернене до $\\bs{A}$ і застосувати цю матрицю до вектора результатів $\\bs{b}$!\n",
        "\n",
        "Давайте спробуємо це!"
      ]
    },
    {
      "cell_type": "markdown",
      "metadata": {
        "id": "3Uud36Ihju7l"
      },
      "source": [
        "### Приклад 3.\n",
        "\n",
        "Ми візьмемо простий розв'язуваний приклад:\n",
        "\n",
        "$$\n",
        "\\begin{cases}\n",
        "y = 2x \\\\\\\\\n",
        "y = -x +3\n",
        "\\end{cases}\n",
        "$$\n",
        "\n",
        "Ми будемо використовувати позначення, яке ми бачили в [2.2](https://hadrienj.github.io/posts/Deep-Learning-Book-Series-2.2-Multiplying-Matrices-and-Vectors/):\n",
        "\n",
        "$$\n",
        "\\begin{cases}\n",
        "A_{1,1}x_1 + A_{1,2}x_2 = b_1 \\\\\\\\\n",
        "A_{2,1}x_1 + A_{2,2}x_2= b_2\n",
        "\\end{cases}\n",
        "$$\n",
        "\n",
        "Ось, $x_1$ відповідає $x$ і $x_2$ відповідає до $y$. Отже, маємо:\n",
        "\n",
        "$$\n",
        "\\begin{cases}\n",
        "2x_1 - x_2 = 0 \\\\\\\\\n",
        "x_1 + x_2= 3\n",
        "\\end{cases}\n",
        "$$\n",
        "\n",
        "Наша матриця $\\bs{A}$ має вигляд:\n",
        "\n",
        "$$\n",
        "\\bs{A}=\n",
        "\\begin{bmatrix}\n",
        "    2 & -1 \\\\\\\\\n",
        "    1 & 1\n",
        "\\end{bmatrix}\n",
        "$$\n",
        "\n",
        "І вектор $\\bs{b}$ містять розв'язки окремих рівнянь є:\n",
        "\n",
        "$$\n",
        "\\bs{b}=\n",
        "\\begin{bmatrix}\n",
        "    0 \\\\\\\\\n",
        "    3\n",
        "\\end{bmatrix}\n",
        "$$\n",
        "\n",
        "Під матричною формою наші системи стають:\n",
        "\n",
        "$$\n",
        "\\begin{bmatrix}\n",
        "    2 & -1 \\\\\\\\\n",
        "    1 & 1\n",
        "\\end{bmatrix}\n",
        "\\begin{bmatrix}\n",
        "    x_1 \\\\\\\\\n",
        "    x_2\n",
        "\\end{bmatrix}=\n",
        "\\begin{bmatrix}\n",
        "    0 \\\\\\\\\n",
        "    3\n",
        "\\end{bmatrix}\n",
        "$$\n",
        "\n",
        "Знайдемо обернене до $\\bs{A}$:"
      ]
    },
    {
      "cell_type": "code",
      "metadata": {
        "colab": {
          "base_uri": "https://localhost:8080/"
        },
        "id": "u3pd16_Tju7m",
        "outputId": "19d9fa5f-e301-4f03-a594-2e65f9ce1565"
      },
      "source": [
        "A = np.array([[2, -1], [1, 1]])\n",
        "A"
      ],
      "execution_count": 11,
      "outputs": [
        {
          "output_type": "execute_result",
          "data": {
            "text/plain": [
              "array([[ 2, -1],\n",
              "       [ 1,  1]])"
            ]
          },
          "metadata": {
            "tags": []
          },
          "execution_count": 11
        }
      ]
    },
    {
      "cell_type": "code",
      "metadata": {
        "colab": {
          "base_uri": "https://localhost:8080/"
        },
        "id": "daPiR-K5ju7n",
        "outputId": "1f1cd977-3db5-460d-f581-28517378150f"
      },
      "source": [
        "A_inv = np.linalg.inv(A)\n",
        "A_inv"
      ],
      "execution_count": 12,
      "outputs": [
        {
          "output_type": "execute_result",
          "data": {
            "text/plain": [
              "array([[ 0.33333333,  0.33333333],\n",
              "       [-0.33333333,  0.66666667]])"
            ]
          },
          "metadata": {
            "tags": []
          },
          "execution_count": 12
        }
      ]
    },
    {
      "cell_type": "markdown",
      "metadata": {
        "id": "y01QqQqFju7o"
      },
      "source": [
        "Ми також маємо:"
      ]
    },
    {
      "cell_type": "code",
      "metadata": {
        "collapsed": true,
        "id": "_W9t5QTEju7o"
      },
      "source": [
        "b = np.array([[0], [3]])"
      ],
      "execution_count": 13,
      "outputs": []
    },
    {
      "cell_type": "markdown",
      "metadata": {
        "id": "4BTnbtnQju7o"
      },
      "source": [
        "Оскільки ми це бачили\n",
        "\n",
        "$$\\bs{x}=\\bs{A}^{-1}\\bs{b}$$\n",
        "\n",
        "Ми маємо:"
      ]
    },
    {
      "cell_type": "code",
      "metadata": {
        "colab": {
          "base_uri": "https://localhost:8080/"
        },
        "id": "lmRf2uIoju7p",
        "outputId": "715e5d4d-5489-4257-d97d-6bb75cd9f49d"
      },
      "source": [
        "x = A_inv.dot(b)\n",
        "x"
      ],
      "execution_count": 14,
      "outputs": [
        {
          "output_type": "execute_result",
          "data": {
            "text/plain": [
              "array([[1.],\n",
              "       [2.]])"
            ]
          },
          "metadata": {
            "tags": []
          },
          "execution_count": 14
        }
      ]
    },
    {
      "cell_type": "markdown",
      "metadata": {
        "id": "ixZroO1Bju7p"
      },
      "source": [
        "Це наше рішення! \n",
        "\n",
        "$$\n",
        "\\bs{x}=\n",
        "\\begin{bmatrix}\n",
        "    1 \\\\\\\\\n",
        "    2\n",
        "\\end{bmatrix}\n",
        "$$\n",
        "\n",
        "Це означає, що точка координат (1, 2) є рішенням і знаходиться на перетині прямих, що представляють рівняння. Давайте побудуємо їх для перевірки цього рішення:"
      ]
    },
    {
      "cell_type": "code",
      "metadata": {
        "colab": {
          "base_uri": "https://localhost:8080/",
          "height": 274
        },
        "id": "PsDg-ntMju7q",
        "outputId": "df051b22-c95e-4f18-f1bc-a003052b8534"
      },
      "source": [
        "x = np.arange(-10, 10)\n",
        "y = 2*x\n",
        "y1 = -x + 3\n",
        "\n",
        "plt.figure()\n",
        "plt.plot(x, y)\n",
        "plt.plot(x, y1)\n",
        "plt.xlim(0, 3)\n",
        "plt.ylim(0, 3)\n",
        "# draw axes\n",
        "plt.axvline(x=0, color='grey')\n",
        "plt.axhline(y=0, color='grey')\n",
        "plt.show()\n",
        "plt.close()"
      ],
      "execution_count": 15,
      "outputs": [
        {
          "output_type": "display_data",
          "data": {
            "image/png": "[encoded data removed]",
            "text/plain": [
              "<Figure size 288x288 with 1 Axes>"
            ]
          },
          "metadata": {
            "tags": [],
            "needs_background": "light"
          }
        }
      ]
    },
    {
      "cell_type": "markdown",
      "metadata": {
        "id": "Q-18a0Sjju7r"
      },
      "source": [
        "Ми бачимо, що рішенням (яке відповідає перетину лінії) є тоді, коли $x=1$ and $y=2$. Це підтверджує те, що ми знайшли з інверсією матриці!"
      ]
    },
    {
      "cell_type": "markdown",
      "metadata": {
        "id": "T_V9OSrrju7r"
      },
      "source": [
        "## БОНУС: Підказка щодо кодування\n",
        "\n",
        "Щоб скласти рівняння з Matplotlib, нам спочатку потрібно створити вектор із усіма $x$ значення. Власне, оскільки це рядок, було б достатньо лише двох пунктів.Але при більш складних функціях довжина вектора $x$ відповідає частоті дискретизації. Отже, тут ми використовували функцію Numpy `arrange()` (перегляньте це [doc](https://docs.scipy.org/doc/numpy/reference/generated/numpy.arange.html)) для створення вектора з $-10$ до $10$ (не включаючи)."
      ]
    },
    {
      "cell_type": "code",
      "metadata": {
        "colab": {
          "base_uri": "https://localhost:8080/"
        },
        "id": "rfGQ4E6Bju7r",
        "outputId": "e76cbf90-de9a-49e6-93a3-72301663c58f"
      },
      "source": [
        "np.arange(-10, 10)"
      ],
      "execution_count": 16,
      "outputs": [
        {
          "output_type": "execute_result",
          "data": {
            "text/plain": [
              "array([-10,  -9,  -8,  -7,  -6,  -5,  -4,  -3,  -2,  -1,   0,   1,   2,\n",
              "         3,   4,   5,   6,   7,   8,   9])"
            ]
          },
          "metadata": {
            "tags": []
          },
          "execution_count": 16
        }
      ]
    },
    {
      "cell_type": "markdown",
      "metadata": {
        "id": "gn6ft3adju7s"
      },
      "source": [
        "Перший аргумент - початкова точка, а другий - кінцева точка. Ви можете додати третій аргумент, щоб вказати крок:"
      ]
    },
    {
      "cell_type": "code",
      "metadata": {
        "colab": {
          "base_uri": "https://localhost:8080/"
        },
        "id": "p2rMtZDSju7t",
        "outputId": "9bbf105e-6d88-4ac7-e19e-8804dc6ddf32"
      },
      "source": [
        "np.arange(-10, 10, 2)"
      ],
      "execution_count": 17,
      "outputs": [
        {
          "output_type": "execute_result",
          "data": {
            "text/plain": [
              "array([-10,  -8,  -6,  -4,  -2,   0,   2,   4,   6,   8])"
            ]
          },
          "metadata": {
            "tags": []
          },
          "execution_count": 17
        }
      ]
    },
    {
      "cell_type": "markdown",
      "metadata": {
        "id": "AmvaJehkju7t"
      },
      "source": [
        "Потім створюємо другий вектор $y$ це залежить від $x$ вектору. Numpy прийме кожне значення $x$ і застосувати до нього формулу рівняння."
      ]
    },
    {
      "cell_type": "code",
      "metadata": {
        "colab": {
          "base_uri": "https://localhost:8080/"
        },
        "id": "RmSz27Tfju7t",
        "outputId": "b34ee4a1-4625-4027-86b5-50ce9c418e7e"
      },
      "source": [
        "x = np.arange(-10, 10)\n",
        "y = 2*x + 1\n",
        "y"
      ],
      "execution_count": 18,
      "outputs": [
        {
          "output_type": "execute_result",
          "data": {
            "text/plain": [
              "array([-19, -17, -15, -13, -11,  -9,  -7,  -5,  -3,  -1,   1,   3,   5,\n",
              "         7,   9,  11,  13,  15,  17,  19])"
            ]
          },
          "metadata": {
            "tags": []
          },
          "execution_count": 18
        }
      ]
    },
    {
      "cell_type": "markdown",
      "metadata": {
        "id": "cqqkYcwrju7u"
      },
      "source": [
        "Нарешті, вам просто потрібно побудувати ці вектори."
      ]
    },
    {
      "cell_type": "markdown",
      "metadata": {
        "collapsed": true,
        "id": "gIciUQKSju7u"
      },
      "source": [
        "# Вироджена матриця\n",
        "\n",
        "Деякі матриці не зворотні. Вони називаються **виродженими**."
      ]
    },
    {
      "cell_type": "markdown",
      "metadata": {
        "id": "9_MAb6jZju7u"
      },
      "source": [
        "# Висновок\n",
        "\n",
        "Це вводить різні випадки відповідно до лінійної системи, оскільки $\\bs{A}^{-1}$ існує лише за умови рівняння $\\bs{Ax}=\\bs{b}$ та має одне і єдине рішення. [Наступний розділ](https://hadrienj.github.io/posts/Deep-Learning-Book-Series-2.4-Linear-Dependence-and-Span/) це майже все про системи лінійних рівнянь та кількість рішень."
      ]
    },
    {
      "cell_type": "markdown",
      "metadata": {
        "id": "jNz5GTcLju7v"
      },
      "source": [
        "<span class='notes'>\n",
        "    Не соромтеся писати мені електронний лист чи коментар. Програму цієї серії можна знайти [in the introduction post(у вступній статті)](https://hadrienj.github.io/posts/Deep-Learning-Book-Series-Introduction/). Всі зошити можна знайти на [Github](https://github.com/hadrienj/deepLearningBook-Notes).\n",
        "</span>"
      ]
    },
    {
      "cell_type": "markdown",
      "metadata": {
        "id": "9NucZX4ukF8r"
      },
      "source": [
        "Переклад: Якимів Іван, студент ІО-02мп, 2020 рік\n"
      ]
    }
  ]
}